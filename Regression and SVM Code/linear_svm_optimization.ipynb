{
 "cells": [
  {
   "cell_type": "markdown",
   "metadata": {
    "toc": "true"
   },
   "source": [
    " # Table of Contents\n",
    "<div class=\"toc\" style=\"margin-top: 1em;\"><ul class=\"toc-item\" id=\"toc-level0\"><li><span><a href=\"http://localhost:8805/notebooks/school/3A/cours/opti/project/Linear%20SVM%20optimization.ipynb#The-barrier-method\" data-toc-modified-id=\"The-barrier-method-1\"><span class=\"toc-item-num\">1&nbsp;&nbsp;</span>The barrier method</a></span></li><li><span><a href=\"http://localhost:8805/notebooks/school/3A/cours/opti/project/Linear%20SVM%20optimization.ipynb#The-barrier-method's-centering-step\" data-toc-modified-id=\"The-barrier-method's-centering-step-2\"><span class=\"toc-item-num\">2&nbsp;&nbsp;</span>The barrier method's centering step</a></span><ul class=\"toc-item\"><li><span><a href=\"http://localhost:8805/notebooks/school/3A/cours/opti/project/Linear%20SVM%20optimization.ipynb#$\\nabla\\phi_{t}$,-$\\nabla^2\\phi_{t}$\" data-toc-modified-id=\"$\\nabla\\phi_{t}$,-$\\nabla^2\\phi_{t}$-2.1\"><span class=\"toc-item-num\">2.1&nbsp;&nbsp;</span>$\\nabla\\phi_{t}$, $\\nabla^2\\phi_{t}$</a></span></li><li><span><a href=\"http://localhost:8805/notebooks/school/3A/cours/opti/project/Linear%20SVM%20optimization.ipynb#Damped-Newton-method\" data-toc-modified-id=\"Damped-Newton-method-2.2\"><span class=\"toc-item-num\">2.2&nbsp;&nbsp;</span>Damped Newton method</a></span></li><li><span><a href=\"http://localhost:8805/notebooks/school/3A/cours/opti/project/Linear%20SVM%20optimization.ipynb#Newton-method-with-baktracking-line-search\" data-toc-modified-id=\"Newton-method-with-baktracking-line-search-2.3\"><span class=\"toc-item-num\">2.3&nbsp;&nbsp;</span>Newton method with baktracking line search</a></span></li></ul></li><li><span><a href=\"http://localhost:8805/notebooks/school/3A/cours/opti/project/Linear%20SVM%20optimization.ipynb#Support-Vector-Machine-Problem\" data-toc-modified-id=\"Support-Vector-Machine-Problem-3\"><span class=\"toc-item-num\">3&nbsp;&nbsp;</span>Support Vector Machine Problem</a></span><ul class=\"toc-item\"><li><span><a href=\"http://localhost:8805/notebooks/school/3A/cours/opti/project/Linear%20SVM%20optimization.ipynb#Strictly-feasible-points\" data-toc-modified-id=\"Strictly-feasible-points-3.1\"><span class=\"toc-item-num\">3.1&nbsp;&nbsp;</span>Strictly feasible points</a></span></li><li><span><a href=\"http://localhost:8805/notebooks/school/3A/cours/opti/project/Linear%20SVM%20optimization.ipynb#Barrier-method\" data-toc-modified-id=\"Barrier-method-3.2\"><span class=\"toc-item-num\">3.2&nbsp;&nbsp;</span>Barrier method</a></span><ul class=\"toc-item\"><li><span><a href=\"http://localhost:8805/notebooks/school/3A/cours/opti/project/Linear%20SVM%20optimization.ipynb#Primal-transformation\" data-toc-modified-id=\"Primal-transformation-3.2.1\"><span class=\"toc-item-num\">3.2.1&nbsp;&nbsp;</span>Primal transformation</a></span></li><li><span><a href=\"http://localhost:8805/notebooks/school/3A/cours/opti/project/Linear%20SVM%20optimization.ipynb#Dual-transformation\" data-toc-modified-id=\"Dual-transformation-3.2.2\"><span class=\"toc-item-num\">3.2.2&nbsp;&nbsp;</span>Dual transformation</a></span></li><li><span><a href=\"http://localhost:8805/notebooks/school/3A/cours/opti/project/Linear%20SVM%20optimization.ipynb#Barrier-method\" data-toc-modified-id=\"Barrier-method-3.2.3\"><span class=\"toc-item-num\">3.2.3&nbsp;&nbsp;</span>Barrier method</a></span></li><li><span><a href=\"http://localhost:8805/notebooks/school/3A/cours/opti/project/Linear%20SVM%20optimization.ipynb#Test-on-the-Iris-dataset\" data-toc-modified-id=\"Test-on-the-Iris-dataset-3.2.4\"><span class=\"toc-item-num\">3.2.4&nbsp;&nbsp;</span>Test on the Iris dataset</a></span></li><li><span><a href=\"http://localhost:8805/notebooks/school/3A/cours/opti/project/Linear%20SVM%20optimization.ipynb#Duality-gap-versus-iterations\" data-toc-modified-id=\"Duality-gap-versus-iterations-3.2.5\"><span class=\"toc-item-num\">3.2.5&nbsp;&nbsp;</span>Duality gap versus iterations</a></span></li></ul></li><li><span><a href=\"http://localhost:8805/notebooks/school/3A/cours/opti/project/Linear%20SVM%20optimization.ipynb#Coordinate-descent-method\" data-toc-modified-id=\"Coordinate-descent-method-3.3\"><span class=\"toc-item-num\">3.3&nbsp;&nbsp;</span>Coordinate descent method</a></span></li><li><span><a href=\"http://localhost:8805/notebooks/school/3A/cours/opti/project/Linear%20SVM%20optimization.ipynb#Comparison-with-a-solver\" data-toc-modified-id=\"Comparison-with-a-solver-3.4\"><span class=\"toc-item-num\">3.4&nbsp;&nbsp;</span>Comparison with a solver</a></span><ul class=\"toc-item\"><li><span><a href=\"http://localhost:8805/notebooks/school/3A/cours/opti/project/Linear%20SVM%20optimization.ipynb#Primal-problem\" data-toc-modified-id=\"Primal-problem-3.4.1\"><span class=\"toc-item-num\">3.4.1&nbsp;&nbsp;</span>Primal problem</a></span></li><li><span><a href=\"http://localhost:8805/notebooks/school/3A/cours/opti/project/Linear%20SVM%20optimization.ipynb#Dual-problem\" data-toc-modified-id=\"Dual-problem-3.4.2\"><span class=\"toc-item-num\">3.4.2&nbsp;&nbsp;</span>Dual problem</a></span></li></ul></li></ul></li><li><span><a href=\"http://localhost:8805/notebooks/school/3A/cours/opti/project/Linear%20SVM%20optimization.ipynb#References\" data-toc-modified-id=\"References-4\"><span class=\"toc-item-num\">4&nbsp;&nbsp;</span>References</a></span></li></ul></div>"
   ]
  },
  {
   "cell_type": "markdown",
   "metadata": {},
   "source": [
    "$$ Nasser \\ Benabderrazik $$"
   ]
  },
  {
   "cell_type": "code",
   "execution_count": 1,
   "metadata": {},
   "outputs": [],
   "source": [
    "# Import useful libraries\n",
    "import matplotlib.pyplot as plt\n",
    "import numpy as np\n",
    "import itertools\n",
    "import seaborn\n",
    "import cvxopt\n",
    "import tqdm\n",
    "import sys\n",
    "import os\n",
    "\n",
    "%matplotlib inline\n",
    "\n",
    "from sklearn import datasets\n",
    "from cvxopt import matrix"
   ]
  },
  {
   "cell_type": "code",
   "execution_count": 2,
   "metadata": {},
   "outputs": [],
   "source": [
    "%load_ext autoreload\n",
    "\n",
    "%autoreload 2"
   ]
  },
  {
   "cell_type": "code",
   "execution_count": 3,
   "metadata": {},
   "outputs": [],
   "source": [
    "sys.path.append(r\"C:\\Users\\Nasser Benab\\Documents\\school\\3A\\cours\\opti\\project\")"
   ]
  },
  {
   "cell_type": "markdown",
   "metadata": {},
   "source": [
    "# The barrier method"
   ]
  },
  {
   "cell_type": "markdown",
   "metadata": {},
   "source": [
    "The barrier method is used to solve an inequality constrained minimization problem. Let's consider here a general quadratic problem. We suppose it is strictly feasible so that the strong duality holds and the dual optimum attained:\n",
    "\n",
    "\\begin{align*}\n",
    "minimize &\\ f_{0}(x) = \\frac{1}{2}x^TQx + p^Tx \\\\\n",
    "st. &\\ Ax \\leq b\n",
    "\\tag{QP}\n",
    "\\end{align*}\n",
    "\n",
    "where:"
   ]
  },
  {
   "cell_type": "markdown",
   "metadata": {},
   "source": [
    "- $x \\in I\\!R^{d}$\n",
    "- $Q$ symmetric semi-definite matrix \n",
    "- $p \\in I\\!R^{d}$\n",
    "- $A \\in I\\!R^{nd}$\n",
    "- $b \\in I\\!R^{n}$ (n is the number of inequality constraints)\n"
   ]
  },
  {
   "cell_type": "markdown",
   "metadata": {},
   "source": [
    "This problem is equivalent to:\n",
    "\\begin{align}\n",
    "minimize &\\ \\frac{1}{2}x^TQx + p^Tx + \\sum_{i=1}^{n}I_{-}((Ax-b)_{i})\n",
    "\\tag{P1}\n",
    "\\end{align}\n",
    "\n",
    "where $I_{-}$ is the indicator function for the nonpositive reals: $I_{-}(u) = 0$ if $u \\leq 0$, $\\infty$ otherwise.\n",
    "\n",
    "The idea of the barrier method is to approximate the indicator function by $\\widehat{I}_{-}$ such that:\n",
    "$\\widehat{I}_{-}(u) = -(1/t)log(-u)$, $\\mathbf{dom}\\widehat{I}_{-} = - I\\!R_{++}$.\n",
    "\n",
    "Thus, the approximated problem is:\n",
    "\n",
    "\\begin{align}\n",
    "\\underset{x}{minimize} \\ \\phi_{t}(x) = t(\\frac{1}{2}x^TQx + p^Tx) + B(b-Ax)\n",
    "\\tag{P2}\n",
    "\\end{align}\n",
    "\n",
    "where $B$ is the logarithmic barrier defined as: \n",
    "\\begin{align*}\n",
    "B(x) = - \\sum_{i}log(x_{i})\n",
    "\\end{align*}\n",
    "\n",
    "The objective function $\\phi_{t}$ is convex and we can show that the solution of the problem $P1$ (let's denote it $x^{*}$) approximates well the solution of the original problem $P2$ (let's denote it $p^{*}$) when $t \\rightarrow \\infty$. In fact, we can show that:\n",
    "\n",
    "\\begin{align*}\n",
    "f_{0}(x^{*}(t)) - p^{*} \\leq \\frac{m}{t}\n",
    "\\end{align*}\n",
    "\n",
    "\n",
    "\n"
   ]
  },
  {
   "cell_type": "markdown",
   "metadata": {},
   "source": [
    "$$ $$ "
   ]
  },
  {
   "cell_type": "markdown",
   "metadata": {},
   "source": [
    "Finally, the algorithm of the barrier method can be written as:"
   ]
  },
  {
   "cell_type": "markdown",
   "metadata": {},
   "source": [
    "$$ $$"
   ]
  },
  {
   "cell_type": "markdown",
   "metadata": {},
   "source": [
    "Given strictly feasible x, $t=t^{(0)} >0$, $\\mu > 1$, tolerance $\\epsilon > 0$:\n",
    "\n",
    "*repeat*:"
   ]
  },
  {
   "cell_type": "markdown",
   "metadata": {},
   "source": [
    "1. Centering step: compute $x^{*}(t)$ by minimizing $tf_{0}+B$\n",
    "2. Update: $x:=x^{*}(t)$\n",
    "3. Stopping criterion: quit if $\\frac{n}{t} < \\epsilon$\n",
    "4. Increase t: $t:=\\mu t$"
   ]
  },
  {
   "cell_type": "markdown",
   "metadata": {},
   "source": [
    "# The barrier method's centering step"
   ]
  },
  {
   "cell_type": "markdown",
   "metadata": {},
   "source": [
    "We use two differents methods for the centering step in the barrier method (first step of the method)."
   ]
  },
  {
   "cell_type": "markdown",
   "metadata": {},
   "source": [
    "## $\\nabla\\phi_{t}$, $\\nabla^2\\phi_{t}$"
   ]
  },
  {
   "cell_type": "markdown",
   "metadata": {},
   "source": [
    "First, let's derive the gradient and the hessian of $\\phi_{t}$ that will be used in both of the methods."
   ]
  },
  {
   "cell_type": "markdown",
   "metadata": {},
   "source": [
    "$$ $$"
   ]
  },
  {
   "cell_type": "markdown",
   "metadata": {},
   "source": [
    "The **gradient** $\\nabla\\phi_{t}$ is given by:\n",
    "\n",
    "$$\n",
    "\\nabla\\phi_{t}(\\mathbf{x}) = t(Q\\mathbf{x} + \\mathbf{p}) + \\nabla B(\\mathbf{b} - A\\mathbf{x})\n",
    "$$"
   ]
  },
  {
   "cell_type": "markdown",
   "metadata": {},
   "source": [
    "Let $f_{i}$ such that $f_{i}(\\mathbf{x}) = (A\\mathbf{x})_{i} - b_{i}$ "
   ]
  },
  {
   "cell_type": "markdown",
   "metadata": {},
   "source": [
    "$$\\nabla B(\\mathbf{b} - A\\mathbf{x}) = \\sum_{i=1}^n \\frac{1}{b_{i}-(A\\mathbf{x})_{i}}\\nabla f_{i}(\\mathbf{x})$$"
   ]
  },
  {
   "cell_type": "markdown",
   "metadata": {},
   "source": [
    "\\begin{align*}\n",
    "\\nabla f_{i}(\\mathbf{x})=\\nabla(\\sum_{k=1}^d A_{ik}x_{k})=\\begin{bmatrix}\n",
    "\\vdots \\\\\n",
    "\\mathbf{A_{i}}  \\\\\n",
    "\\vdots \n",
    "\\end{bmatrix}\n",
    "\\end{align*}"
   ]
  },
  {
   "cell_type": "markdown",
   "metadata": {},
   "source": [
    "where $\\mathbf{A_{i}}$ is the i-th row of A of dimension $(d, 1)$"
   ]
  },
  {
   "cell_type": "markdown",
   "metadata": {},
   "source": [
    "Finally,\n",
    "\\begin{align*}\n",
    "\\nabla\\phi_{t}(\\mathbf{x}) = t(Q\\mathbf{x} + \\mathbf{p}) + \\sum_{i=1}^n \\frac{1}{b_{i}-(A\\mathbf{x})_{i}}\\mathbf{A_{i}}^T\n",
    "\\end{align*}\n"
   ]
  },
  {
   "cell_type": "markdown",
   "metadata": {},
   "source": [
    "The **hessian** $\\nabla^2\\phi_{t}$ is given by:\n",
    "\n",
    "\\begin{align*}\n",
    "\\nabla^2\\phi_{t}(\\mathbf{x}) = tQ + \\nabla^2 B(\\mathbf{b} - A\\mathbf{x})\n",
    "\\end{align*}\n",
    "\n",
    "\\begin{align*}\n",
    "\\nabla^2\\phi_{t}(\\mathbf{x}) = tQ + \\sum_{i=1}^n \\frac{1}{f_{i}(\\mathbf{x})^2}\\nabla f_{i}(\\mathbf{x}) \\nabla f_{i}(\\mathbf{x})^T\n",
    "\\end{align*}\n",
    "\n",
    "\\begin{align*}\n",
    "\\nabla^2\\phi_{t}(\\mathbf{x}) = tQ + \\sum_{i=1}^n \\frac{1}{f_{i}(\\mathbf{x})^2}\\mathbf{A_{i}}^T\\mathbf{A_{i}}\n",
    "\\end{align*}\n"
   ]
  },
  {
   "cell_type": "markdown",
   "metadata": {},
   "source": [
    "The functions *phi(x, t, Q, p, A, b)*, *grad(x, t, Q, p, A, b)* and *hess(x, t, Q, p, A, b)* are implemented in **quadratic_constrained_barrier.py**."
   ]
  },
  {
   "cell_type": "markdown",
   "metadata": {},
   "source": [
    "## Damped Newton method"
   ]
  },
  {
   "cell_type": "markdown",
   "metadata": {},
   "source": [
    "The Damped Newton Method makes the following update to guarantee the feasibility of the updates:\n",
    "\n",
    "\\begin{align*}\n",
    "x_{dns} = x - \\frac{1}{1+\\lambda(x)}(\\nabla^2\\phi_{t}(x))^{-1}\\nabla\\phi_{t}(x)\n",
    "\\end{align*}\n",
    "\n",
    "where $\\lambda$ is the Newton decrement that measures the proximity of $x$ to $x^{*}$:\n",
    "\n",
    "\\begin{align*}\n",
    "\\lambda(x) = (\\nabla\\phi_{t}(x)^{T}(\\nabla^2\\phi_{t}(x))^{-1}\\nabla\\phi_{t}(x))^{\\frac{1}{2}}\n",
    "\\end{align*}\n",
    "\n",
    "We can show that:\n",
    "\\begin{align*}\n",
    "\\phi_{t}(x) - \\underset{y}{inf}\\widehat{\\phi_{t}}(y) = \\frac{\\lambda(x)^{2}}{2}\n",
    "\\end{align*}\n",
    "\n",
    "where $\\widehat{\\phi_{t}}(y)$ is the second-order approximation of $\\phi_{t}$ at y.\n",
    "\n"
   ]
  },
  {
   "cell_type": "markdown",
   "metadata": {},
   "source": [
    "$$ $$"
   ]
  },
  {
   "cell_type": "markdown",
   "metadata": {},
   "source": [
    "The algorithm can be written as:"
   ]
  },
  {
   "cell_type": "markdown",
   "metadata": {},
   "source": [
    "$$ $$"
   ]
  },
  {
   "cell_type": "markdown",
   "metadata": {},
   "source": [
    "Given a starting point $x \\in \\mathbf{dom}\\phi_{t}$, tolerance $\\epsilon > 0$:\n",
    "\n",
    "*repeat* until $\\frac{\\lambda^{2}}{2} \\leq \\epsilon$ :\n"
   ]
  },
  {
   "cell_type": "markdown",
   "metadata": {},
   "source": [
    "1. Compute $x_{dns}$, $gap = \\frac{\\lambda^{2}}{2}$\n",
    "2. Update: $x:=x_{dns}$"
   ]
  },
  {
   "cell_type": "markdown",
   "metadata": {},
   "source": [
    "This method is implemented in **damped_newton_method.py**."
   ]
  },
  {
   "cell_type": "markdown",
   "metadata": {},
   "source": [
    "## Newton method with baktracking line search"
   ]
  },
  {
   "cell_type": "markdown",
   "metadata": {},
   "source": [
    "In this method, the step size t in the update ($x:=x+t\\Delta x$) is choosen with backtracking line-search:"
   ]
  },
  {
   "cell_type": "markdown",
   "metadata": {},
   "source": [
    "<br>\n",
    "$\\alpha \\in (0, 0.5), \\beta \\in (0, 1)$\n",
    "\n",
    "$t:=1$\n",
    "\n",
    "while $\\phi_{t}(x+t\\Delta x) > \\phi_{t}(x) + \\alpha t \\nabla\\phi_{t}(x)^{T}\\Delta x$, $t:=\\beta t$"
   ]
  },
  {
   "cell_type": "markdown",
   "metadata": {},
   "source": [
    "$$ $$"
   ]
  },
  {
   "cell_type": "markdown",
   "metadata": {},
   "source": [
    "where $\\Delta x$ is the Newton step given by:\n",
    "\n",
    "\\begin{align*}\n",
    "\\Delta x = -(\\nabla^2\\phi_{t}(x))^{-1}\\nabla\\phi_{t}(x)\n",
    "\\end{align*}"
   ]
  },
  {
   "cell_type": "markdown",
   "metadata": {},
   "source": [
    "$$ $$"
   ]
  },
  {
   "cell_type": "markdown",
   "metadata": {},
   "source": [
    "The algorithm can be written as:"
   ]
  },
  {
   "cell_type": "markdown",
   "metadata": {},
   "source": [
    "$$ $$"
   ]
  },
  {
   "cell_type": "markdown",
   "metadata": {},
   "source": [
    "Given a starting point $x \\in \\mathbf{dom}\\phi_{t}$, tolerance $\\epsilon > 0$:\n",
    "\n",
    "*repeat* until $\\frac{\\lambda^{2}}{2} \\leq \\epsilon$ :"
   ]
  },
  {
   "cell_type": "markdown",
   "metadata": {},
   "source": [
    "1. Compute $\\Delta x$, $gap = \\frac{\\lambda^{2}}{2}$\n",
    "2. Line search: choose step size t by backtracking line search\n",
    "3. Update: $x:=x+t\\Delta x$"
   ]
  },
  {
   "cell_type": "markdown",
   "metadata": {},
   "source": [
    "This method is implemented in **newton_method_line_search.py**."
   ]
  },
  {
   "cell_type": "markdown",
   "metadata": {},
   "source": [
    "# Support Vector Machine Problem\n"
   ]
  },
  {
   "cell_type": "markdown",
   "metadata": {},
   "source": [
    "Given n data points $x_{i} \\in I\\!R^{d}$ with labels $y_{i} \\in \\{-1, 1\\}$ and a regularization parameter $\\tau > 0$ the SVM primal and dual formulations are:"
   ]
  },
  {
   "cell_type": "markdown",
   "metadata": {},
   "source": [
    "\\begin{align*}\n",
    "minimize &\\ \\frac{1}{\\tau n}\\sum_{i=1}^{n}z_{i} + \\frac{1}{2}\\lVert{w}\\rVert_{2}^2 \\label{eq:primal}\\\\\n",
    "st. &\\ y_{i}(w^{T}x_{i}) \\geq 1 - z_{i}, \\ i = 1, ..., n \\\\\n",
    "&\\ z \\geq 0\n",
    "\\tag{P}\n",
    "\\end{align*}"
   ]
  },
  {
   "cell_type": "markdown",
   "metadata": {},
   "source": [
    "\\begin{align*}\n",
    "minimize &\\ \\mathbf{1}^{T}\\lambda - \\frac{1}{2}\\lVert\\sum_{i=1}^{n}\\lambda_{i}y_{i}x_{i}\\rVert_{2}^2 \\\\\n",
    "st. &\\ 0 \\leq \\lambda \\leq \\frac{1}{\\tau n}\n",
    "\\tag{D}\n",
    "\\end{align*}"
   ]
  },
  {
   "cell_type": "markdown",
   "metadata": {},
   "source": [
    "## Strictly feasible points "
   ]
  },
  {
   "cell_type": "markdown",
   "metadata": {},
   "source": [
    "For the **primal** problem, the points such that:\n",
    "\\begin{equation*}\n",
    "\\mathbf{w} = \n",
    "\\begin{bmatrix}\n",
    "\\vdots \\\\\n",
    "0      \\\\\n",
    "\\vdots\n",
    "\\end{bmatrix}, \n",
    "\\mathbf{z} = \n",
    "\\begin{bmatrix}\n",
    "\\vdots \\\\\n",
    "z_{0}      \\\\\n",
    "\\vdots\n",
    "\\end{bmatrix}\n",
    "\\end{equation*}\n",
    "\n",
    "where $z_{0} > 1$,\n",
    "are strictly feasible"
   ]
  },
  {
   "cell_type": "markdown",
   "metadata": {},
   "source": [
    "For the **dual** problem, the points:\n",
    "\\begin{equation*}\n",
    "\\boldsymbol{\\lambda} = \n",
    "\\begin{bmatrix}\n",
    "\\vdots \\\\\n",
    "\\lambda_{0}      \\\\\n",
    "\\vdots\n",
    "\\end{bmatrix}\n",
    "\\end{equation*}"
   ]
  },
  {
   "cell_type": "markdown",
   "metadata": {},
   "source": [
    "with $\\lambda_{0}=\\frac{1}{m \\tau n}$,\n",
    "where $m>1$,\n",
    "are strictly feasible"
   ]
  },
  {
   "cell_type": "markdown",
   "metadata": {},
   "source": [
    "## Barrier method "
   ]
  },
  {
   "cell_type": "markdown",
   "metadata": {},
   "source": [
    "The primal (P) and dual (D) problems can be re-written as particular instances of the quadratic problem seen in **section 1**:\n",
    "\\begin{align*}\n",
    "minimize &\\ \\frac{1}{2}x^TQx + p^Tx \\\\\n",
    "st. &\\ Ax \\leq b\n",
    "\\tag{QP}\n",
    "\\end{align*}"
   ]
  },
  {
   "cell_type": "markdown",
   "metadata": {},
   "source": [
    "### Primal transformation "
   ]
  },
  {
   "cell_type": "markdown",
   "metadata": {},
   "source": [
    "The **primal** problem can be re-written as a particular instance of QP as the following:\n",
    "\n",
    "We look for the optimal $x$:\n",
    "\\begin{equation*}\n",
    "\\mathbf{x} = \n",
    "\\begin{bmatrix}\n",
    "\\mathbf{w}\\\\\n",
    "\\mathbf{z}   \n",
    "\\end{bmatrix}\n",
    "\\begin{pmatrix}\n",
    "d+1\\\\\n",
    "n\n",
    "\\end{pmatrix}\n",
    "\\end{equation*}\n"
   ]
  },
  {
   "cell_type": "markdown",
   "metadata": {},
   "source": [
    "$Q$, $p$, $A$ and $b$ are given by:\n",
    "\n",
    "\\begin{equation*}\n",
    "Q = \n",
    "\\begin{bmatrix}\n",
    "1 & & & & &| & & & \\\\ \n",
    " & & & \\huge{0} & & | & & & \\\\\n",
    " & & \\ddots & & & | & & \\huge{0} & \\\\ \n",
    " & \\huge{0} & & & &| & & & \\\\\n",
    " & & & & 1 & | & & & \\\\\n",
    "- & - & - & - & - & | & - & - & -\\\\\n",
    "& & & & & | & & & \\\\\n",
    "& & \\huge{0} & & & | & & \\huge{0} & \\\\\n",
    "& & & & & | & & &\\\\\n",
    "\\end{bmatrix}\n",
    "\\begin{pmatrix}\n",
    "\\\\\n",
    "\\\\\n",
    "d\\\\\n",
    "\\\\\n",
    "\\\\\n",
    "\\\\\n",
    "---\\\\\n",
    "\\\\\n",
    "n+1\\\\\n",
    "\\\\\n",
    "\\end{pmatrix}\n",
    "\\end{equation*}"
   ]
  },
  {
   "cell_type": "markdown",
   "metadata": {},
   "source": [
    "$$ $$"
   ]
  },
  {
   "cell_type": "markdown",
   "metadata": {},
   "source": [
    "\\begin{equation*}\n",
    "\\mathbf{p} = \n",
    "\\begin{bmatrix}\n",
    "\\mathbf{0}\\\\\n",
    "\\frac{\\mathbf{1}}{\\boldsymbol{\\tau} \\mathbf{n}}\\\\\n",
    "\\end{bmatrix}\n",
    "\\begin{pmatrix}\n",
    "d+1\\\\\n",
    "n\n",
    "\\end{pmatrix}\n",
    "\\end{equation*}"
   ]
  },
  {
   "cell_type": "markdown",
   "metadata": {},
   "source": [
    "$$ $$"
   ]
  },
  {
   "cell_type": "markdown",
   "metadata": {},
   "source": [
    "\\begin{equation*}\n",
    "A = \n",
    "\\begin{bmatrix}\n",
    "& & -y_{1}\\mathbf{x_{1}}^T & & & | & & & \\\\ \n",
    "& & \\vdots & & & | & & \\huge{0} & \\\\\n",
    "& & -y_{n}\\mathbf{x_{n}}^T & & & | & & & \\\\ \n",
    "- & - & - & - & - & | & - & - & -\\\\\n",
    "& & & & & | & -1 & & \\\\\n",
    "& & \\huge{0} & & & | & & \\ddots & \\\\\n",
    "& & & & & | & & & -1 \\\\\n",
    "\\end{bmatrix}\n",
    "\\begin{pmatrix}\n",
    "\\\\\n",
    "n\\\\\n",
    "\\\\\n",
    "---\\\\\n",
    "\\\\\n",
    "n\\\\\n",
    "\\\\\n",
    "\\end{pmatrix}\n",
    "\\end{equation*}"
   ]
  },
  {
   "cell_type": "markdown",
   "metadata": {},
   "source": [
    "$$ $$"
   ]
  },
  {
   "cell_type": "markdown",
   "metadata": {},
   "source": [
    "\\begin{equation*}\n",
    "\\mathbf{b} = \n",
    "\\begin{bmatrix}\n",
    "\\mathbf{-1}\\\\\n",
    "\\mathbf{0}   \\\\\n",
    "\\end{bmatrix}\n",
    "\\begin{pmatrix}\n",
    "n\\\\\n",
    "n\n",
    "\\end{pmatrix}\n",
    "\\end{equation*}"
   ]
  },
  {
   "cell_type": "markdown",
   "metadata": {},
   "source": [
    "- $Q$ has shape $(d+1+n, d+1+n)$\n",
    "- $p$ has shape $(d+1, n)$\n",
    "- $A$ has shape $(2n, d+1+n)$\n",
    "- $b$ has shape $(2n, 1)$"
   ]
  },
  {
   "cell_type": "markdown",
   "metadata": {},
   "source": [
    "### Dual transformation  "
   ]
  },
  {
   "cell_type": "markdown",
   "metadata": {},
   "source": [
    "The **dual** problem can be re-written as a particular instance of QP as the following:\n",
    "\n",
    "We look for the optimal $x$ of shape $(n, 1)$:\n",
    "\\begin{equation*}\n",
    "\\mathbf{x} = \\boldsymbol{\\lambda}\n",
    "\\end{equation*}"
   ]
  },
  {
   "cell_type": "markdown",
   "metadata": {},
   "source": [
    "$Q$, $p$, $A$ and $b$ are given by: $$Q = Z^TZ$$"
   ]
  },
  {
   "cell_type": "markdown",
   "metadata": {},
   "source": [
    "where $Z$ of shape $(d, n)$ is:\n",
    "\n",
    "\\begin{align*}\n",
    "Z = \n",
    "\\begin{bmatrix}\n",
    "y_{1}\\mathbf{x_{1}} & \\ldots & y_{n}\\mathbf{x_{n}} \n",
    "\\end{bmatrix}\n",
    "\\end{align*}"
   ]
  },
  {
   "cell_type": "markdown",
   "metadata": {},
   "source": [
    "$$ $$"
   ]
  },
  {
   "cell_type": "markdown",
   "metadata": {},
   "source": [
    "\\begin{equation*}\n",
    "\\mathbf{p} = \n",
    "\\begin{bmatrix}\n",
    "\\vdots \\\\\n",
    "-1 \\\\\n",
    "\\vdots\n",
    "\\end{bmatrix}\n",
    "\\end{equation*}"
   ]
  },
  {
   "cell_type": "markdown",
   "metadata": {},
   "source": [
    "$$ $$"
   ]
  },
  {
   "cell_type": "markdown",
   "metadata": {},
   "source": [
    "\\begin{equation*}\n",
    "A =\n",
    "\\begin{bmatrix}\n",
    "1 & & & & \\\\ \n",
    " & & & \\huge{0} & \\\\\n",
    " & & \\ddots & & \\\\ \n",
    " & \\huge{0} & & & \\\\\n",
    " & & & & 1 \\\\\n",
    "- & - & - & - & - \\\\\n",
    "-1 & & & & \\\\ \n",
    " & & & \\huge{0} & \\\\\n",
    " & & \\ddots & & \\\\ \n",
    " & \\huge{0} & & & \\\\\n",
    " & & & & -1 \\\\\n",
    "\\end{bmatrix}\n",
    "\\begin{pmatrix}\n",
    "\\\\\n",
    "\\\\\n",
    "n\\\\\n",
    "\\\\\n",
    "\\\\\n",
    "---\\\\\n",
    "\\\\\n",
    "\\\\\n",
    "n\\\\\n",
    "\\\\\n",
    "\\\\\n",
    "\\end{pmatrix}\n",
    "\\end{equation*}"
   ]
  },
  {
   "cell_type": "markdown",
   "metadata": {},
   "source": [
    "$$ $$"
   ]
  },
  {
   "cell_type": "markdown",
   "metadata": {},
   "source": [
    "\\begin{equation*}\n",
    "\\mathbf{b} = \n",
    "\\begin{bmatrix}\n",
    "\\frac{\\mathbf{1}}{\\boldsymbol{\\tau} \\mathbf{n}}\\\\\n",
    "\\mathbf{0}\\\\\n",
    "\\end{bmatrix}\n",
    "\\begin{pmatrix}\n",
    "n\\\\\n",
    "n\n",
    "\\end{pmatrix}\n",
    "\\end{equation*}"
   ]
  },
  {
   "cell_type": "markdown",
   "metadata": {},
   "source": [
    "- $Q$ has shape $(n, n)$\n",
    "- $p$ has shape $(n, 1)$\n",
    "- $A$ has shape $(2n, n)$\n",
    "- $b$ has shape $(2n, 1)$"
   ]
  },
  {
   "cell_type": "markdown",
   "metadata": {},
   "source": [
    "### Barrier method "
   ]
  },
  {
   "cell_type": "markdown",
   "metadata": {},
   "source": [
    "The barrier method for solving the SVM primal and dual problems is implemented in **quadratic_constrained_barrier.py**."
   ]
  },
  {
   "cell_type": "markdown",
   "metadata": {},
   "source": [
    "### Test on the Iris dataset "
   ]
  },
  {
   "cell_type": "code",
   "execution_count": 4,
   "metadata": {},
   "outputs": [],
   "source": [
    "from svm import SVM"
   ]
  },
  {
   "cell_type": "code",
   "execution_count": 5,
   "metadata": {},
   "outputs": [],
   "source": [
    "# Import the iris data\n",
    "iris = datasets.load_iris()"
   ]
  },
  {
   "cell_type": "code",
   "execution_count": 6,
   "metadata": {},
   "outputs": [
    {
     "name": "stdout",
     "output_type": "stream",
     "text": [
      "Observations are of shape: (150, 4)\n",
      "Labels are of shape: (150,)\n"
     ]
    }
   ],
   "source": [
    "# Observations\n",
    "X = iris.data\n",
    "print(\"Observations are of shape:\", X.shape)\n",
    "# Class labels \n",
    "y = iris.target\n",
    "print(\"Labels are of shape:\", y.shape)"
   ]
  },
  {
   "cell_type": "code",
   "execution_count": 7,
   "metadata": {},
   "outputs": [],
   "source": [
    "# Keep only the classes 1 (versicolor) and 2 (virginica)\n",
    "indices = [i for i in range(y.shape[0]) if y[i] == 1 or y[i] == 2]\n",
    "y = y[indices]\n",
    "# Change the labels of classes to -1 (virginica), 1 (versicolor)\n",
    "y[y == 2] = -1\n",
    "# Keep only the classes -1 (virginica) and 1 (versicolor)\n",
    "X = X[indices, :]"
   ]
  },
  {
   "cell_type": "markdown",
   "metadata": {},
   "source": [
    "Let's test our implementation by training the SVM on the whole data:"
   ]
  },
  {
   "cell_type": "code",
   "execution_count": 8,
   "metadata": {},
   "outputs": [
    {
     "name": "stdout",
     "output_type": "stream",
     "text": [
      "-> SVM optimization with backtracking line search\n",
      "Time taken for training: 0.06s\n",
      "Accuracy on the training set: 0.89\n"
     ]
    }
   ],
   "source": [
    "# SVM optimization (dual) using newton's method with backtracking line search\n",
    "print(\"-> SVM optimization with backtracking line search\")\n",
    "svm = SVM(optimization_method=\"barrier\", \n",
    "          barrier_centering_method=\"newtonLS\", verbose=True)\n",
    "svm.train(X, y)\n",
    "y_pred, acc = svm.predict(X, y)\n",
    "print(\"Accuracy on the training set:\", round(acc, 2))"
   ]
  },
  {
   "cell_type": "code",
   "execution_count": 9,
   "metadata": {},
   "outputs": [
    {
     "name": "stdout",
     "output_type": "stream",
     "text": [
      "-> SVM optimization with Damped Newton\n",
      "Time taken for training: 0.24s\n",
      "Accuracy on the training set: 0.89\n"
     ]
    }
   ],
   "source": [
    "# SVM optimization (dual) using the damped Newton method (default method)\n",
    "print(\"-> SVM optimization with Damped Newton\")\n",
    "svm = SVM(optimization_method=\"barrier\", \n",
    "          barrier_centering_method=\"dampedNewton\", verbose=True)\n",
    "svm.train(X, y)\n",
    "y_pred, acc = svm.predict(X, y)\n",
    "print(\"Accuracy on the training set:\", round(acc, 2))"
   ]
  },
  {
   "cell_type": "markdown",
   "metadata": {},
   "source": [
    "Let's find the optimal value for $\\tau$ (controling regularization) using a 5-fold cross-validation:"
   ]
  },
  {
   "cell_type": "code",
   "execution_count": 10,
   "metadata": {},
   "outputs": [
    {
     "data": {
      "text/plain": [
       "{1e-05: 0.93000000000000005,\n",
       " 0.0001: 0.94000000000000006,\n",
       " 0.001: 0.94000000000000006,\n",
       " 0.01: 0.93000000000000005,\n",
       " 1: 0.32999999999999996,\n",
       " 10: 0.19}"
      ]
     },
     "execution_count": 10,
     "metadata": {},
     "output_type": "execute_result"
    }
   ],
   "source": [
    "# Test different values of tau\n",
    "tau_choices = [0.00001, 0.0001, 0.001, 0.01, 1, 10]\n",
    "n_folds = 5\n",
    "\n",
    "# Cross validation\n",
    "tau_to_accuracies = {}\n",
    "\n",
    "# List of training sets\n",
    "X_train_folds = np.array_split(X, n_folds)\n",
    "y_train_folds = np.array_split(y, n_folds)\n",
    "\n",
    "for tau in tau_choices:\n",
    "    # List to store the accuracies at each fold\n",
    "    tau_to_accuracies[tau] = []\n",
    "    for i in range(n_folds):\n",
    "        # Split the 5 folds into one training set and on validation set\n",
    "        X_train_cv = np.concatenate([X_train_folds[j] for j in range(n_folds) \n",
    "                                     if j != i], axis = 0)\n",
    "        y_train_cv = np.concatenate([y_train_folds[j] for j in range(n_folds) \n",
    "                                     if j != i], axis = 0)\n",
    "        X_test_cv = X_train_folds[i]\n",
    "        y_test_cv = y_train_folds[i]\n",
    "        svm = SVM(tau = tau)\n",
    "        svm.train(X_train_cv, y_train_cv)\n",
    "        y_pred, accuracy_test = svm.predict(X_test_cv, y_test_cv)\n",
    "        # Store the accuracy\n",
    "        tau_to_accuracies[tau].append(accuracy_test)\n",
    "        \n",
    "# Compute the mean accuracy for each tau\n",
    "tau_to_mean_accuracy = {tau: sum(accuracies)/len(accuracies) \n",
    "                        for tau, accuracies in tau_to_accuracies.items()}\n",
    "tau_to_mean_accuracy"
   ]
  },
  {
   "cell_type": "markdown",
   "metadata": {},
   "source": [
    "The best value for $\\tau$ seems to be between $10^{-2}$ and $10^{-3}$. Let's do a narrower search between those two values:"
   ]
  },
  {
   "cell_type": "code",
   "execution_count": 11,
   "metadata": {},
   "outputs": [
    {
     "data": {
      "text/plain": [
       "{0.0001: 0.94000000000000006,\n",
       " 0.0002: 0.94000000000000006,\n",
       " 0.00030000000000000003: 0.94000000000000006,\n",
       " 0.0004: 0.93000000000000005,\n",
       " 0.0005: 0.93000000000000005,\n",
       " 0.0006000000000000001: 0.94000000000000006,\n",
       " 0.0007: 0.94000000000000006,\n",
       " 0.0008: 0.94000000000000006,\n",
       " 0.0009000000000000001: 0.94000000000000006,\n",
       " 0.001: 0.94000000000000006}"
      ]
     },
     "execution_count": 11,
     "metadata": {},
     "output_type": "execute_result"
    }
   ],
   "source": [
    "# Test different values of tau\n",
    "tau_choices = [n*1e-4 for n in range(1, 11)]\n",
    "n_folds = 5\n",
    "\n",
    "# Cross validation\n",
    "tau_to_accuracies = {}\n",
    "\n",
    "# List of training sets\n",
    "X_train_folds = np.array_split(X, n_folds)\n",
    "y_train_folds = np.array_split(y, n_folds)\n",
    "\n",
    "for tau in tau_choices:\n",
    "    # List to store the accuracies at each fold\n",
    "    tau_to_accuracies[tau] = []\n",
    "    for i in range(n_folds):\n",
    "        # Split the 5 folds into one training set and on validation set\n",
    "        X_train_cv = np.concatenate([X_train_folds[j] for j in range(n_folds) \n",
    "                                     if j != i], axis = 0)\n",
    "        y_train_cv = np.concatenate([y_train_folds[j] for j in range(n_folds) \n",
    "                                     if j != i], axis = 0)\n",
    "        X_test_cv = X_train_folds[i]\n",
    "        y_test_cv = y_train_folds[i]\n",
    "        svm = SVM(tau = tau)\n",
    "        svm.train(X_train_cv, y_train_cv)\n",
    "        y_pred, accuracy_test = svm.predict(X_test_cv, y_test_cv)\n",
    "        # Store the accuracy\n",
    "        tau_to_accuracies[tau].append(accuracy_test)\n",
    "        \n",
    "# Compute the mean accuracy for each tau\n",
    "tau_to_mean_accuracy = {tau: sum(accuracies)/len(accuracies) \n",
    "                        for tau, accuracies in tau_to_accuracies.items()}\n",
    "tau_to_mean_accuracy"
   ]
  },
  {
   "cell_type": "markdown",
   "metadata": {},
   "source": [
    "The performances do not vary that much here. We can choose for instance $\\tau = 10^{-2}$."
   ]
  },
  {
   "cell_type": "markdown",
   "metadata": {},
   "source": [
    "### Duality gap versus iterations "
   ]
  },
  {
   "cell_type": "code",
   "execution_count": 12,
   "metadata": {},
   "outputs": [],
   "source": [
    "def plot_duality_gaps_iterations(optimization, barrier_centering_method, \n",
    "                                 mu_choices = [2, 15, 50, 100]):\n",
    "    \"\"\" Plot the duality gaps against the cumuluative Newton iterations.\n",
    "    optimization_method: \"dampedNewton\" or \"newtonLS\"\n",
    "        Optimization method used.\n",
    "    optimization: \"primal\" or \"dual\"\n",
    "        Choose which optimization problem to solve.\n",
    "    mu_choices: list\n",
    "        Different choices for mu.\n",
    "    \"\"\"\n",
    "\n",
    "    mu_to_duality_gaps = {}\n",
    "\n",
    "    for mu in mu_choices:\n",
    "\n",
    "        svm = SVM(tau = 0.0001, optimization = optimization, mu = mu, \n",
    "                  barrier_centering_method = barrier_centering_method)\n",
    "        svm.train(X, y)\n",
    "        outer_iterations = svm.outer_iterations\n",
    "\n",
    "        # The duality gap is equal to m = 200 (size of b) before the outer \n",
    "        # iterations\n",
    "        # It reduces by the factor mu at the end of each outer iteration\n",
    "        duality_gaps = [200]\n",
    "        duality_gaps += list(itertools.chain(\n",
    "            *[[200/(svm.mu*(oi + 1))]*outer_iterations[oi] \n",
    "              for oi in range(len(outer_iterations))]))\n",
    "        mu_to_duality_gaps[mu] = duality_gaps\n",
    "\n",
    "    # Plot the duality gaps against the cumulated number of inner iterations\n",
    "    for mu in mu_to_duality_gaps.keys():\n",
    "        duality_gaps = mu_to_duality_gaps[mu]\n",
    "        x = range(len(duality_gaps))\n",
    "        plt.semilogy(x, duality_gaps)\n",
    "    plt.legend([\"$\\mu = 2$\", \"$\\mu = 15$\", \"$\\mu = 50$\", \"$\\mu = 100$\"])\n",
    "    plt.xlabel(\"Cumulative Newton iterations\")\n",
    "    plt.ylabel(\"Duality gap\")\n",
    "    plt.title(\"Progress of barrier method for the {} problem\".format(optimization))\n",
    "    plt.show()\n"
   ]
  },
  {
   "cell_type": "code",
   "execution_count": 13,
   "metadata": {},
   "outputs": [
    {
     "data": {
      "image/png": "[encoded data removed]",
      "text/plain": [
       "<matplotlib.figure.Figure at 0x27445657c50>"
      ]
     },
     "metadata": {},
     "output_type": "display_data"
    }
   ],
   "source": [
    "plot_duality_gaps_iterations(optimization = \"primal\", \n",
    "                             barrier_centering_method = \"dampedNewton\")"
   ]
  },
  {
   "cell_type": "code",
   "execution_count": 14,
   "metadata": {},
   "outputs": [
    {
     "data": {
      "image/png": "[encoded data removed]",
      "text/plain": [
       "<matplotlib.figure.Figure at 0x274457c4978>"
      ]
     },
     "metadata": {},
     "output_type": "display_data"
    }
   ],
   "source": [
    "plot_duality_gaps_iterations(optimization = \"dual\", \n",
    "                             barrier_centering_method = \"dampedNewton\")"
   ]
  },
  {
   "cell_type": "markdown",
   "metadata": {},
   "source": [
    "The best value for $\\mu$ is 15. The duality gap approches 0 for the two optimization problems.\n",
    "\n",
    "For this value of $\\mu$ there are 4 outer iterations but many inner iterations per outer iteration. \n",
    "\n",
    "Also, in general, the dual problem is solved in around 50 less iterations than the primal problem."
   ]
  },
  {
   "cell_type": "markdown",
   "metadata": {},
   "source": [
    "$$ $$"
   ]
  },
  {
   "cell_type": "markdown",
   "metadata": {},
   "source": [
    "Let's compare the performance with the line-search strategy:"
   ]
  },
  {
   "cell_type": "code",
   "execution_count": 15,
   "metadata": {},
   "outputs": [
    {
     "data": {
      "image/png": "[encoded data removed]",
      "text/plain": [
       "<matplotlib.figure.Figure at 0x27447b9dda0>"
      ]
     },
     "metadata": {},
     "output_type": "display_data"
    }
   ],
   "source": [
    "plot_duality_gaps_iterations(optimization = \"primal\", \n",
    "                             barrier_centering_method = \"newtonLS\")"
   ]
  },
  {
   "cell_type": "code",
   "execution_count": 16,
   "metadata": {},
   "outputs": [
    {
     "data": {
      "image/png": "[encoded data removed]",
      "text/plain": [
       "<matplotlib.figure.Figure at 0x27447be9978>"
      ]
     },
     "metadata": {},
     "output_type": "display_data"
    }
   ],
   "source": [
    "plot_duality_gaps_iterations(optimization = \"dual\", \n",
    "                             barrier_centering_method = \"newtonLS\")"
   ]
  },
  {
   "cell_type": "markdown",
   "metadata": {},
   "source": [
    "The optimization of the SVM using backtracking line search requires less iterations than the damped Newton algorithm (for $\\mu = 15$, for the dual problem, ~45 against ~250 respectively)."
   ]
  },
  {
   "cell_type": "markdown",
   "metadata": {},
   "source": [
    "## Coordinate descent method"
   ]
  },
  {
   "cell_type": "markdown",
   "metadata": {},
   "source": [
    "We seek to solve the dual problem using the coordinate descent method. In this method, an initial problem: \n",
    "\n",
    "\\begin{align*}\n",
    "minimize &\\ f(x) \\\\\n",
    "st. x &\\ \\in C \n",
    "\\end{align*}\n",
    "\n",
    "where f is convex and differentiable, $x \\in  I\\!R^{n}$, and $C \\subset I\\!R^{n}$, can be solved by considering smaller problems where $C$ is a product of simpler sets $C = C_{1} \\times ... \\times C_{n}$:\n",
    "\n",
    "\\begin{align*}\n",
    "minimize &\\ f(x_{1}, ..., x_{n}) \\\\\n",
    "st. &\\ x_{i}  \\in C_{i}, \\ i = 1, ... ,n \n",
    "\\end{align*}\n",
    "\n",
    "The algorithm consists in updating one coordinate at a time (with a circular cycle through the coordinates):\n",
    "\n",
    "\\begin{align*}\n",
    "for &\\ i \\in [1, n]:\\\\\n",
    "x_{i}^{(k+1)} & = \\underset{x_{i} \\in C_{i}}{argmin} \\ f(x_{1}^{(k)}, ..., x_{n}^{(k)}) \\\\\n",
    "x_{j}^{(k+1)} & = x_{j}^{(k)}, \\ j \\neq i\n",
    "\\end{align*}\n",
    "\n",
    "Applying this method for the dual problem yields the following minimization sub-problems:\n",
    "\n",
    "\\begin{align*}\n",
    "\\underset{\\lambda_{i}}{minimize} &\\ \\mathbf{1}^{T}\\lambda - \\frac{1}{2}\\lVert\\sum_{i=1}^{n}\\lambda_{i}y_{i}x_{i}\\rVert_{2}^2 \\\\\n",
    "st. &\\ 0 \\leq \\lambda_{i} \\leq \\frac{1}{\\tau n}\n",
    "\\end{align*}"
   ]
  },
  {
   "cell_type": "code",
   "execution_count": 17,
   "metadata": {},
   "outputs": [],
   "source": [
    "from coordinate_descent import coordinate_descent_svm_dual"
   ]
  },
  {
   "cell_type": "code",
   "execution_count": 18,
   "metadata": {},
   "outputs": [
    {
     "name": "stdout",
     "output_type": "stream",
     "text": [
      "-> SVM optimization with coordinate descent\n",
      "Time taken for training: 0.12s\n",
      "Accuracy on the training set: 0.94\n"
     ]
    }
   ],
   "source": [
    "# SVM optimization (dual) using newton's method with the coordinate descent \n",
    "# method\n",
    "print(\"-> SVM optimization with coordinate descent\")\n",
    "svm = SVM(optimization=\"dual\", optimization_method=\"coordinateDescent\", \n",
    "          tau=0.001, verbose=True)\n",
    "svm.train(X, y)\n",
    "y_pred, acc = svm.predict(X, y)\n",
    "print(\"Accuracy on the training set:\", round(acc, 2))"
   ]
  },
  {
   "cell_type": "markdown",
   "metadata": {},
   "source": [
    "We get the same accuracy on the training set as the previous methods."
   ]
  },
  {
   "cell_type": "markdown",
   "metadata": {},
   "source": [
    "## Comparison with a solver "
   ]
  },
  {
   "cell_type": "code",
   "execution_count": 19,
   "metadata": {},
   "outputs": [],
   "source": [
    "from transform_svm import transform_svm_primal, transform_svm_dual"
   ]
  },
  {
   "cell_type": "code",
   "execution_count": 20,
   "metadata": {},
   "outputs": [],
   "source": [
    "# Add offset to the data points and make X of shape (d+1, n)\n",
    "n = X.shape[0]\n",
    "X_ = np.vstack((X.T, np.ones(n)))"
   ]
  },
  {
   "cell_type": "code",
   "execution_count": 21,
   "metadata": {},
   "outputs": [],
   "source": [
    "# Regularization parameter\n",
    "tau = 0.001"
   ]
  },
  {
   "cell_type": "code",
   "execution_count": 22,
   "metadata": {},
   "outputs": [],
   "source": [
    "# Transform the SVM primal and dual problems as particular instances of a \n",
    "# quadratic problem\n",
    "Q_primal, p_primal, A_primal, b_primal = transform_svm_primal(tau, X_, y)\n",
    "Q_dual, p_dual, A_dual, b_dual = transform_svm_dual(tau, X_, y)"
   ]
  },
  {
   "cell_type": "markdown",
   "metadata": {},
   "source": [
    "### Primal problem"
   ]
  },
  {
   "cell_type": "code",
   "execution_count": 23,
   "metadata": {},
   "outputs": [
    {
     "name": "stdout",
     "output_type": "stream",
     "text": [
      "     pcost       dcost       gap    pres   dres\n",
      " 0: -8.4153e+03  5.8017e+03  2e+04  2e+01  5e+00\n",
      " 1:  6.3540e+02 -8.3960e+02  3e+03  2e+00  5e-01\n",
      " 2:  1.9880e+02 -7.1216e+01  4e+02  2e-01  5e-02\n",
      " 3:  1.3676e+02  4.0813e+01  1e+02  5e-02  1e-02\n",
      " 4:  1.0065e+02  7.1760e+01  4e+01  1e-02  3e-03\n",
      " 5:  9.5279e+01  8.3592e+01  1e+01  3e-03  5e-04\n",
      " 6:  9.1565e+01  8.7903e+01  4e+00  7e-04  2e-04\n",
      " 7:  8.9865e+01  8.9742e+01  1e-01  2e-06  5e-07\n",
      " 8:  8.9797e+01  8.9796e+01  1e-03  2e-08  5e-09\n",
      " 9:  8.9796e+01  8.9796e+01  1e-05  2e-10  5e-11\n",
      "Optimal solution found.\n",
      "\n",
      "\n",
      "Number of iterations: 9\n",
      "Mean accuracy on the training set: 0.97\n"
     ]
    }
   ],
   "source": [
    "# Primal solution using a solver\n",
    "primal_sol = cvxopt.solvers.qp(P = matrix(Q_primal), q = matrix(p_primal), \n",
    "                               G = matrix(A_primal), h = matrix(b_primal))\n",
    "primal_sol_x = np.array(primal_sol[\"x\"]).reshape((105, ))\n",
    "\n",
    "# Normal vector to the separating hyperplane\n",
    "w = primal_sol_x[:5].T\n",
    "\n",
    "# Predictions\n",
    "y_pred = np.sign(w.dot(X_))\n",
    "\n",
    "# Compute the mean accuracy on the predictions\n",
    "accuracy = np.sum(y_pred == y)\n",
    "accuracy /= np.shape(y)[0]\n",
    "\n",
    "print(\"\\n\")\n",
    "print(\"Number of iterations: {}\".format(primal_sol[\"iterations\"]))\n",
    "print(\"Mean accuracy on the training set: {}\".format(round(accuracy, 3)))"
   ]
  },
  {
   "cell_type": "markdown",
   "metadata": {},
   "source": [
    "### Dual problem "
   ]
  },
  {
   "cell_type": "code",
   "execution_count": 24,
   "metadata": {},
   "outputs": [
    {
     "name": "stdout",
     "output_type": "stream",
     "text": [
      "     pcost       dcost       gap    pres   dres\n",
      " 0:  3.2202e+01 -7.1366e+03  2e+04  7e-01  2e-12\n",
      " 1:  2.0586e+02 -1.6769e+03  2e+03  3e-16  2e-12\n",
      " 2: -1.8100e+01 -3.0348e+02  3e+02  2e-16  2e-12\n",
      " 3: -7.8836e+01 -1.6603e+02  9e+01  2e-16  2e-12\n",
      " 4: -9.4545e+01 -1.4914e+02  5e+01  2e-16  2e-12\n",
      " 5: -1.0738e+02 -1.2558e+02  2e+01  1e-16  2e-12\n",
      " 6: -1.1358e+02 -1.1555e+02  2e+00  2e-16  2e-12\n",
      " 7: -1.1420e+02 -1.1490e+02  7e-01  2e-16  2e-12\n",
      " 8: -1.1446e+02 -1.1469e+02  2e-01  2e-16  2e-12\n",
      " 9: -1.1456e+02 -1.1457e+02  5e-03  2e-16  2e-12\n",
      "10: -1.1456e+02 -1.1456e+02  5e-05  2e-16  2e-12\n",
      "Optimal solution found.\n",
      "\n",
      "\n",
      "Number of iterations: 10\n",
      "Mean accuracy on the training set: 0.95\n"
     ]
    }
   ],
   "source": [
    "# Dual solution using a solver\n",
    "dual_sol = cvxopt.solvers.qp(P = matrix(Q_dual), q = matrix(p_dual), \n",
    "                             G = matrix(A_dual), h = matrix(b_dual))\n",
    "dual_sol_x = np.array(dual_sol[\"x\"]).reshape((100, ))\n",
    "\n",
    "# Normal vector to the separating hyperplane\n",
    "w = dual_sol_x.dot((X_*y).T)\n",
    "\n",
    "# Predictions\n",
    "y_pred = np.sign(w.dot(X_))\n",
    "\n",
    "# Compute the mean accuracy on the predictions\n",
    "accuracy = np.sum(y_pred == y)\n",
    "accuracy /= np.shape(y)[0]\n",
    "\n",
    "print(\"\\n\")\n",
    "print(\"Number of iterations: {}\".format(dual_sol[\"iterations\"]))\n",
    "print(\"Mean accuracy on the training set: {}\".format(round(accuracy, 3)))"
   ]
  },
  {
   "cell_type": "markdown",
   "metadata": {},
   "source": [
    "Once again, the accuracies close to the previous ones, which is reassuring. "
   ]
  },
  {
   "cell_type": "markdown",
   "metadata": {},
   "source": [
    "Let's compare the time taken for training for the different methods (for the dual problem):"
   ]
  },
  {
   "cell_type": "code",
   "execution_count": 25,
   "metadata": {},
   "outputs": [
    {
     "name": "stdout",
     "output_type": "stream",
     "text": [
      "52.6 ms ± 4.07 ms per loop (mean ± std. dev. of 7 runs, 10 loops each)\n"
     ]
    }
   ],
   "source": [
    "svm_barrier_newtonLS = SVM(optimization_method=\"barrier\", \n",
    "                           barrier_centering_method=\"newtonLS\", \n",
    "                           optimization=\"dual\", tau=0.001)\n",
    "%timeit svm_barrier_newtonLS.train(X, y)"
   ]
  },
  {
   "cell_type": "code",
   "execution_count": 26,
   "metadata": {},
   "outputs": [
    {
     "name": "stdout",
     "output_type": "stream",
     "text": [
      "117 ms ± 8.45 ms per loop (mean ± std. dev. of 7 runs, 10 loops each)\n"
     ]
    }
   ],
   "source": [
    "svm_barrier_dampedNewton = SVM(optimization_method=\"barrier\", \n",
    "                           barrier_centering_method=\"dampedNewton\", \n",
    "                           optimization=\"dual\", tau=0.001)\n",
    "%timeit svm_barrier_dampedNewton.train(X, y)"
   ]
  },
  {
   "cell_type": "code",
   "execution_count": 27,
   "metadata": {},
   "outputs": [
    {
     "name": "stdout",
     "output_type": "stream",
     "text": [
      "117 ms ± 14 ms per loop (mean ± std. dev. of 7 runs, 10 loops each)\n"
     ]
    }
   ],
   "source": [
    "svm_coordinateDescent = SVM(optimization_method=\"coordinateDescent\", \n",
    "                           optimization=\"dual\", tau=0.001)\n",
    "%timeit svm_coordinateDescent.train(X, y)"
   ]
  },
  {
   "cell_type": "code",
   "execution_count": 28,
   "metadata": {},
   "outputs": [
    {
     "name": "stdout",
     "output_type": "stream",
     "text": [
      "16.1 ms ± 2.85 ms per loop (mean ± std. dev. of 7 runs, 100 loops each)\n"
     ]
    }
   ],
   "source": [
    "cvxopt.solvers.options['show_progress'] = False\n",
    "%timeit dual_sol = cvxopt.solvers.qp(P = matrix(Q_dual), q = matrix(p_dual), G = matrix(A_dual), h = matrix(b_dual))"
   ]
  },
  {
   "cell_type": "markdown",
   "metadata": {},
   "source": [
    "The solver solves the dual in 16.1 ms on average which is better than the implemented algorithms. We can notice that the barrier method with a centering step using Damped Newton is slower (117 ms on average) than the backtracking line search (52.6 ms on average). This confirms the results of section **3.2.5**. "
   ]
  },
  {
   "cell_type": "markdown",
   "metadata": {},
   "source": [
    "# References "
   ]
  },
  {
   "cell_type": "markdown",
   "metadata": {},
   "source": [
    "Boyd, S. and Vandenberghe, L. (2009). *Convex optimization*. New York: Cambridge University Press."
   ]
  }
 ],
 "metadata": {
  "kernelspec": {
   "display_name": "Python 3",
   "language": "python",
   "name": "python3"
  },
  "language_info": {
   "codemirror_mode": {
    "name": "ipython",
    "version": 3
   },
   "file_extension": ".py",
   "mimetype": "text/x-python",
   "name": "python",
   "nbconvert_exporter": "python",
   "pygments_lexer": "ipython3",
   "version": "3.6.5"
  },
  "toc": {
   "nav_menu": {},
   "number_sections": true,
   "sideBar": true,
   "skip_h1_title": false,
   "toc_cell": true,
   "toc_position": {},
   "toc_section_display": "block",
   "toc_window_display": true
  }
 },
 "nbformat": 4,
 "nbformat_minor": 2
}
