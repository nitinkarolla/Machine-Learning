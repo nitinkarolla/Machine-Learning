{
 "cells": [
  {
   "cell_type": "markdown",
   "metadata": {},
   "source": [
    "# Regression : Naive Least Squares, Ridge and Lasso"
   ]
  },
  {
   "cell_type": "code",
   "execution_count": 2,
   "metadata": {},
   "outputs": [],
   "source": [
    "import pandas as pd\n",
    "import numpy as np\n",
    "import matplotlib.pyplot as plt\n",
    "import seaborn as sns\n",
    "from tqdm import tqdm\n",
    "import math\n",
    "\n",
    "%matplotlib inline"
   ]
  },
  {
   "cell_type": "code",
   "execution_count": 3,
   "metadata": {},
   "outputs": [],
   "source": [
    "def data_generation (m = 1000):\n",
    "    X = []\n",
    "    col_names = []\n",
    "    for i in range(15):\n",
    "        x = np.random.normal(0,1,m)\n",
    "        X.append(x)\n",
    "        if i < 10:\n",
    "            col_names.append('X' + str(i+1))\n",
    "        else:\n",
    "            col_names.append('X' + str(i+6))\n",
    "\n",
    "    data = pd.DataFrame(data = np.array(X).T, columns= col_names)\n",
    "    data['X11'] = data['X1'] + data['X2'] + np.random.normal(0, np.sqrt(0.1), m)\n",
    "    data['X12'] = data['X3'] + data['X4'] + np.random.normal(0, np.sqrt(0.1), m)\n",
    "    data['X13'] = data['X4'] + data['X5'] + np.random.normal(0, np.sqrt(0.1), m)\n",
    "    data['X14'] = 0.1 * data['X7'] + np.random.normal(0, np.sqrt(0.1), m)\n",
    "    data['X15'] = data['X2'].apply(lambda x : (2*x) - 10) + \\\n",
    "                    np.random.normal(0, np.sqrt(0.1), m)\n",
    "    \n",
    "    columns = ['X' + str(i) for i in range(1,21)]\n",
    "    data = data[columns]\n",
    "    \n",
    "    point_six = [0.6**i for i in range(1,11)]\n",
    "    Y = []\n",
    "    for index, row in data.iterrows():\n",
    "        y = 10 + sum(np.multiply(np.array(row[(data.columns[:10])]), \\\n",
    "                    np.array(point_six))) + np.random.normal(0, np.sqrt(0.1), 1)\n",
    "        Y.append(float(y))\n",
    "    \n",
    "    data['Y'] = Y\n",
    "    \n",
    "    return data"
   ]
  },
  {
   "cell_type": "markdown",
   "metadata": {},
   "source": [
    "### 1) Generate a data set of size m = 1000. Solve the naive least squares regression model for the weights and bias that minimize the training error - how do they compare to the true weights and biases? What did your model conclude as the most significant and least significant features - was it able to prune anything? Simulate a large test set of data and estimate the ‘true’ error of your solved model."
   ]
  },
  {
   "cell_type": "code",
   "execution_count": 18,
   "metadata": {},
   "outputs": [],
   "source": [
    "df = data_generation()"
   ]
  },
  {
   "cell_type": "code",
   "execution_count": 108,
   "metadata": {},
   "outputs": [],
   "source": [
    "class LinearRegression():\n",
    "    \n",
    "    def __init__(self, method = None, lambda_value = 0.1):\n",
    "        self.method = method\n",
    "        self.lambda_value = lambda_value\n",
    "        \n",
    "    def prepare_data(self, data, target):\n",
    "        data['Bias'] = 1\n",
    "        self.variables = data.drop(target, axis = 1).columns\n",
    "        self.X = data.drop(target, axis = 1).values\n",
    "        data.drop('Bias', axis = 1, inplace = True)\n",
    "        self.Y = data[target].values\n",
    "        \n",
    "    def fit(self, data, target):\n",
    "        self.data = data\n",
    "        self.target = target\n",
    "        self.prepare_data(self.data, self.target)\n",
    "        \n",
    "        if self.method == None :\n",
    "            self.weights = np.matmul(np.linalg.inv(np.matmul \\\n",
    "                            (self.X.T, self.X)), np.matmul \\\n",
    "                                     (self.X.T, self.Y))\n",
    "        elif self.method == \"Ridge\" :\n",
    "            self.weights = np.matmul(np.linalg.inv(np.matmul \\\n",
    "                           (self.X.T, self.X) + (self.lambda_value * \\\n",
    "                        np.identity(self.X.shape[1]))), np.matmul \\\n",
    "                                     (self.X.T, self.Y))\n",
    "        elif self.method == \"Lasso\":\n",
    "            #print(\"Working..\")\n",
    "            count_weight = self.X.shape[1]\n",
    "            self.weights = [0 for i in range(count_weight)]\n",
    "            while True:\n",
    "                old_weights = self.weights.copy()\n",
    "                for i in range(len(self.weights)):\n",
    "                    denom_value = np.matmul(self.X[:,i].T, self.X[:,i])\n",
    "                    actual_value = (self.Y - np.matmul(self.X,self.weights))\n",
    "                    cal_x_upper = (np.matmul((-1 * self.X[:,i].T), \\\n",
    "                            actual_value) + (self.lambda_value/2))/ \\\n",
    "                            denom_value\n",
    "                    cal_x_lower = (np.matmul((-1 * self.X[:,i].T), \\ \n",
    "                                actual_value) - (self.lambda_value/2))/ \\\n",
    "                                denom_value\n",
    "                    if  cal_x_upper < self.weights[i] :\n",
    "                        self.weights[i] = self.weights[i] + \\\n",
    "                        (np.matmul((self.X[:,i].T),actual_value) - \\\n",
    "                         (self.lambda_value/2))/ denom_value\n",
    "                    elif cal_x_lower > self.weights[i] :\n",
    "                        self.weights[i] = self.weights[i] + \\\n",
    "                        (np.matmul((self.X[:,i].T),actual_value) + \\\n",
    "                         (self.lambda_value/2))/ denom_value\n",
    "                    else:\n",
    "                        self.weights[i] = 0\n",
    "                #Stopping criteria\n",
    "                updates = [k - l for k, l in zip(old_weights, self.weights)]\n",
    "                if max(updates) < 1e-4 and abs(min(updates)) < 1e-4:\n",
    "                    break\n",
    "\n",
    "\n",
    "    def predict_row(self, row):\n",
    "        y_pred = np.sum(np.multiply(self.weights, row))\n",
    "        return y_pred\n",
    "        \n",
    "    def predict(self,test):\n",
    "        test['bias'] = 1\n",
    "        y_predicted = []\n",
    "        for index,row in test.iterrows():\n",
    "            y_predicted.append(self.predict_row(row))\n",
    "        return y_predicted\n",
    "    \n",
    "    def training_error(self):\n",
    "        predicted_y = self.predict(self.data.drop('Y', axis = 1))\n",
    "        mse = []\n",
    "        for i in range(len(predicted_y)):\n",
    "            err = ((predicted_y[i] - self.Y[i])**2)\n",
    "            mse.append(err)\n",
    "        return sum(mse)/len(mse)\n",
    "    \n",
    "    def error(self, test):\n",
    "        predicted_y = self.predict(test.drop('Y', axis = 1))\n",
    "        mse = []\n",
    "        for i in range(len(predicted_y)):\n",
    "            err = ((predicted_y[i] - test.Y[i])**2)\n",
    "            mse.append(err)\n",
    "        return sum(mse)/len(mse)\n",
    "            \n",
    "    def plot_weights(self):\n",
    "        plt.figure(figsize = (10,6))\n",
    "        sns.barplot(self.variables[:-1], self.weights[:-1])\n",
    "        \n",
    "    def plot_weights_comparision(self):\n",
    "        original_weights = [0.6**i for i in range(1,11)] + [0 for i in range(10)]\n",
    "        plt.figure(figsize = (10,6))\n",
    "        w_b = pd.DataFrame({'columns' : self.variables[:-1], \\\n",
    "                            'weights' : self.weights[:-1]})\n",
    "        w_b['org_cat'] = 'Calculated'\n",
    "        temp = pd.DataFrame({'columns' : self.variables[:-1], \\\n",
    "                             'weights' : original_weights})\n",
    "        temp['org_cat'] = 'Actual'\n",
    "        w_b = w_b.append(temp)\n",
    "        plt.figure(figsize = (10,6))\n",
    "        sns.barplot(data = w_b, x = \"columns\", y = \"weights\", \\\n",
    "                    hue = \"org_cat\")\n",
    "        plt.title(\"Comparision of Weights\")\n",
    "        \n",
    "    def plot_bias_comparision(self):\n",
    "        plt.figure(figsize = (10,6))\n",
    "        sns.barplot(x = ['Calculated', 'Actual'], y= [self.weights[-1], 10 ])\n",
    "        plt.title(\"Comparision of Bias\")"
   ]
  },
  {
   "cell_type": "code",
   "execution_count": 12,
   "metadata": {},
   "outputs": [],
   "source": [
    "Lr = LinearRegression()"
   ]
  },
  {
   "cell_type": "code",
   "execution_count": 20,
   "metadata": {},
   "outputs": [],
   "source": [
    "Lr.fit(df, 'Y')"
   ]
  },
  {
   "cell_type": "markdown",
   "metadata": {},
   "source": [
    "#### Comparision of True Weights with Calculated Weights"
   ]
  },
  {
   "cell_type": "code",
   "execution_count": 21,
   "metadata": {},
   "outputs": [
    {
     "data": {
      "text/plain": [
       "<Figure size 720x432 with 0 Axes>"
      ]
     },
     "metadata": {},
     "output_type": "display_data"
    },
    {
     "data": {
      "image/png": "[encoded data removed]",
      "text/plain": [
       "<Figure size 720x432 with 1 Axes>"
      ]
     },
     "metadata": {},
     "output_type": "display_data"
    }
   ],
   "source": [
    "Lr.plot_weights_comparision()"
   ]
  },
  {
   "cell_type": "markdown",
   "metadata": {},
   "source": [
    "Calcuated weights seems to be slightly higher than the actual weights, and this difference is accounted by the extra noise variables present in the data."
   ]
  },
  {
   "cell_type": "code",
   "execution_count": 25,
   "metadata": {},
   "outputs": [
    {
     "data": {
      "image/png": "[encoded data removed]",
      "text/plain": [
       "<Figure size 720x432 with 1 Axes>"
      ]
     },
     "metadata": {},
     "output_type": "display_data"
    }
   ],
   "source": [
    "Lr.plot_bias_comparision()"
   ]
  },
  {
   "cell_type": "markdown",
   "metadata": {},
   "source": [
    "#### Most and least significant"
   ]
  },
  {
   "cell_type": "code",
   "execution_count": 23,
   "metadata": {},
   "outputs": [
    {
     "data": {
      "image/png": "[encoded data removed]",
      "text/plain": [
       "<Figure size 720x432 with 1 Axes>"
      ]
     },
     "metadata": {},
     "output_type": "display_data"
    }
   ],
   "source": [
    "Lr.plot_weights()"
   ]
  },
  {
   "cell_type": "markdown",
   "metadata": {},
   "source": [
    "The most important features seem to be 'X1', 'X2' and the least important features are 'X18', 'X16' and 'X9'.\n",
    "The model was able to prune 'X18' feature."
   ]
  },
  {
   "cell_type": "markdown",
   "metadata": {},
   "source": [
    "#### Estimating the true error"
   ]
  },
  {
   "cell_type": "code",
   "execution_count": 342,
   "metadata": {},
   "outputs": [
    {
     "data": {
      "text/plain": [
       "0.10010095947017206"
      ]
     },
     "execution_count": 342,
     "metadata": {},
     "output_type": "execute_result"
    }
   ],
   "source": [
    "Lr.training_error()"
   ]
  },
  {
   "cell_type": "code",
   "execution_count": 343,
   "metadata": {},
   "outputs": [],
   "source": [
    "def estimate_true_error(simulations = 5, test_data_size = 10000):\n",
    "    #df = data_generation()\n",
    "    Lr = LinearRegression()\n",
    "    Lr.fit(df, 'Y')\n",
    "    print(\"The training error is \",Lr.training_error())\n",
    "    true_error = []\n",
    "    for i in tqdm(range(simulations)):\n",
    "        test_data = data_generation(m = test_data_size)\n",
    "        true_error.append(Lr.error(test_data))\n",
    "    print(\"The true error is \", sum(true_error)/len(true_error))"
   ]
  },
  {
   "cell_type": "code",
   "execution_count": 344,
   "metadata": {},
   "outputs": [
    {
     "name": "stdout",
     "output_type": "stream",
     "text": [
      "The training error is  0.10010095947017206\n"
     ]
    },
    {
     "name": "stderr",
     "output_type": "stream",
     "text": [
      "100%|████████████████████████████████████████████████████████████████████████████████████| 5/5 [00:22<00:00,  4.50s/it]\n"
     ]
    },
    {
     "name": "stdout",
     "output_type": "stream",
     "text": [
      "The true error is  0.10176948475634476\n"
     ]
    }
   ],
   "source": [
    "estimate_true_error()"
   ]
  },
  {
   "cell_type": "markdown",
   "metadata": {},
   "source": [
    "### 2) Write a program to take a data set of size m and a parameter λ, and solve for the ridge regression model for that data. Write another program to take the solved model and estimate the true error by evaluating that model on a large test data set. For data sets of size m = 1000, plot estimated true error of the ridge regression model as a function of λ. What is the optimal λ to minimize testing error? What are the weights and biases ridge regression gives at this λ, and how do they compare to the true weights? What did your model conclude as the most significant and least significant features - was it able to prune anything? How does the optimal ridge regression model compare to the naive least squares model?"
   ]
  },
  {
   "cell_type": "code",
   "execution_count": 372,
   "metadata": {},
   "outputs": [],
   "source": [
    "ridge = LinearRegression(method = 'Ridge', lambda_value = 0.00001)"
   ]
  },
  {
   "cell_type": "code",
   "execution_count": 373,
   "metadata": {},
   "outputs": [],
   "source": [
    "ridge.fit(df,'Y')"
   ]
  },
  {
   "cell_type": "code",
   "execution_count": 374,
   "metadata": {},
   "outputs": [
    {
     "data": {
      "text/plain": [
       "0.10010095948061594"
      ]
     },
     "execution_count": 374,
     "metadata": {},
     "output_type": "execute_result"
    }
   ],
   "source": [
    "ridge.training_error()"
   ]
  },
  {
   "cell_type": "code",
   "execution_count": 347,
   "metadata": {},
   "outputs": [
    {
     "data": {
      "text/plain": [
       "<Figure size 720x432 with 0 Axes>"
      ]
     },
     "metadata": {},
     "output_type": "display_data"
    },
    {
     "data": {
      "image/png": "[encoded data removed]",
      "text/plain": [
       "<Figure size 720x432 with 1 Axes>"
      ]
     },
     "metadata": {},
     "output_type": "display_data"
    }
   ],
   "source": [
    "ridge.plot_weights_comparision()"
   ]
  },
  {
   "cell_type": "markdown",
   "metadata": {},
   "source": [
    "#### True Error vs Lambda Parameter"
   ]
  },
  {
   "cell_type": "code",
   "execution_count": 448,
   "metadata": {},
   "outputs": [],
   "source": [
    "def estimate_true_error(simulations = 5, method = 'Ridge', \\\n",
    "                        test_data_size = 10000, param = 0.01):\n",
    "    #df = data_generation()\n",
    "    model = LinearRegression(method = method, lambda_value = param)\n",
    "    model.fit(df, 'Y')\n",
    "    #print(\"The training error is \",ridge.training_error())\n",
    "    true_error = []\n",
    "    for i in range(simulations):\n",
    "        test_data = data_generation(m = test_data_size)\n",
    "        true_error.append(model.error(test_data))\n",
    "    #print(\"The true error is \", sum(true_error)/len(true_error))\n",
    "    return sum(true_error)/len(true_error)"
   ]
  },
  {
   "cell_type": "code",
   "execution_count": 355,
   "metadata": {},
   "outputs": [
    {
     "name": "stdout",
     "output_type": "stream",
     "text": [
      "The training error is  0.10094533761462224\n"
     ]
    },
    {
     "name": "stderr",
     "output_type": "stream",
     "text": [
      "100%|████████████████████████████████████████████████████████████████████████████████████| 5/5 [00:22<00:00,  4.48s/it]\n"
     ]
    },
    {
     "name": "stdout",
     "output_type": "stream",
     "text": [
      "The true error is  0.10304726874569829\n"
     ]
    }
   ],
   "source": [
    "print(\"The true error is \", estimate_true_error())"
   ]
  },
  {
   "cell_type": "code",
   "execution_count": 378,
   "metadata": {},
   "outputs": [
    {
     "name": "stdout",
     "output_type": "stream",
     "text": [
      "The training error is  0.10010095947017206\n"
     ]
    },
    {
     "name": "stderr",
     "output_type": "stream",
     "text": [
      "100%|████████████████████████████████████████████████████████████████████████████████████| 5/5 [00:22<00:00,  4.48s/it]\n"
     ]
    },
    {
     "name": "stdout",
     "output_type": "stream",
     "text": [
      "The training error is  0.10010095948061594\n"
     ]
    },
    {
     "name": "stderr",
     "output_type": "stream",
     "text": [
      "100%|████████████████████████████████████████████████████████████████████████████████████| 5/5 [00:22<00:00,  4.50s/it]\n"
     ]
    },
    {
     "name": "stdout",
     "output_type": "stream",
     "text": [
      "The training error is  0.10010096051434889\n"
     ]
    },
    {
     "name": "stderr",
     "output_type": "stream",
     "text": [
      "100%|████████████████████████████████████████████████████████████████████████████████████| 5/5 [00:22<00:00,  4.51s/it]\n"
     ]
    },
    {
     "name": "stdout",
     "output_type": "stream",
     "text": [
      "The training error is  0.1001010636773571\n"
     ]
    },
    {
     "name": "stderr",
     "output_type": "stream",
     "text": [
      "100%|████████████████████████████████████████████████████████████████████████████████████| 5/5 [00:22<00:00,  4.53s/it]\n"
     ]
    },
    {
     "name": "stdout",
     "output_type": "stream",
     "text": [
      "The training error is  0.10011117314997157\n"
     ]
    },
    {
     "name": "stderr",
     "output_type": "stream",
     "text": [
      "100%|████████████████████████████████████████████████████████████████████████████████████| 5/5 [00:22<00:00,  4.49s/it]\n"
     ]
    },
    {
     "name": "stdout",
     "output_type": "stream",
     "text": [
      "The training error is  0.10033506633937787\n"
     ]
    },
    {
     "name": "stderr",
     "output_type": "stream",
     "text": [
      "100%|████████████████████████████████████████████████████████████████████████████████████| 5/5 [00:22<00:00,  4.51s/it]\n"
     ]
    },
    {
     "name": "stdout",
     "output_type": "stream",
     "text": [
      "The training error is  0.10094533761462224\n"
     ]
    },
    {
     "name": "stderr",
     "output_type": "stream",
     "text": [
      "100%|████████████████████████████████████████████████████████████████████████████████████| 5/5 [00:22<00:00,  4.49s/it]\n"
     ]
    },
    {
     "name": "stdout",
     "output_type": "stream",
     "text": [
      "The training error is  0.10288816198770506\n"
     ]
    },
    {
     "name": "stderr",
     "output_type": "stream",
     "text": [
      "100%|████████████████████████████████████████████████████████████████████████████████████| 5/5 [00:22<00:00,  4.49s/it]\n"
     ]
    },
    {
     "name": "stdout",
     "output_type": "stream",
     "text": [
      "The training error is  0.1108246919038333\n"
     ]
    },
    {
     "name": "stderr",
     "output_type": "stream",
     "text": [
      "100%|████████████████████████████████████████████████████████████████████████████████████| 5/5 [00:22<00:00,  4.47s/it]\n"
     ]
    },
    {
     "name": "stdout",
     "output_type": "stream",
     "text": [
      "The training error is  0.12334958271540318\n"
     ]
    },
    {
     "name": "stderr",
     "output_type": "stream",
     "text": [
      "100%|████████████████████████████████████████████████████████████████████████████████████| 5/5 [00:22<00:00,  4.47s/it]\n"
     ]
    },
    {
     "name": "stdout",
     "output_type": "stream",
     "text": [
      "The training error is  0.14007831797776377\n"
     ]
    },
    {
     "name": "stderr",
     "output_type": "stream",
     "text": [
      "100%|████████████████████████████████████████████████████████████████████████████████████| 5/5 [00:22<00:00,  4.50s/it]\n"
     ]
    },
    {
     "name": "stdout",
     "output_type": "stream",
     "text": [
      "The training error is  0.16163050463068718\n"
     ]
    },
    {
     "name": "stderr",
     "output_type": "stream",
     "text": [
      "100%|████████████████████████████████████████████████████████████████████████████████████| 5/5 [00:22<00:00,  4.50s/it]\n"
     ]
    }
   ],
   "source": [
    "lambda_values = [0, 1e-5, 1e-4, 1e-3, 0.01,0.05, 0.1, \\\n",
    "                 0.2, 0.5, 1, 2, 5]\n",
    "true_error_ridge = []\n",
    "for i in lambda_values:\n",
    "    true_error_ridge.append(estimate_true_error(simulations = 5,\\\n",
    "                                test_data_size = 10000, param = i))"
   ]
  },
  {
   "cell_type": "code",
   "execution_count": 379,
   "metadata": {},
   "outputs": [
    {
     "data": {
      "text/plain": [
       "Text(0.5,1,'Lambda Value vs True Error')"
      ]
     },
     "execution_count": 379,
     "metadata": {},
     "output_type": "execute_result"
    },
    {
     "data": {
      "image/png": "[encoded data removed]",
      "text/plain": [
       "<Figure size 720x432 with 1 Axes>"
      ]
     },
     "metadata": {},
     "output_type": "display_data"
    }
   ],
   "source": [
    "plt.figure(figsize = (10,6))\n",
    "sns.lineplot(x = lambda_values, y = true_error_ridge)\n",
    "plt.title(\"Lambda Value vs True Error\")"
   ]
  },
  {
   "cell_type": "code",
   "execution_count": 386,
   "metadata": {},
   "outputs": [
    {
     "data": {
      "text/plain": [
       "Text(0.5,1,'Lambda Value vs True Error')"
      ]
     },
     "execution_count": 386,
     "metadata": {},
     "output_type": "execute_result"
    },
    {
     "data": {
      "image/png": "[encoded data removed]",
      "text/plain": [
       "<Figure size 720x432 with 1 Axes>"
      ]
     },
     "metadata": {},
     "output_type": "display_data"
    }
   ],
   "source": [
    "plt.figure(figsize = (10,6))\n",
    "sns.lineplot(x = lambda_values[:4], y = true_error_ridge[:4])\n",
    "plt.title(\"Lambda Value vs True Error\")"
   ]
  },
  {
   "cell_type": "markdown",
   "metadata": {},
   "source": [
    "#### Best lambda value to minimise testing error"
   ]
  },
  {
   "cell_type": "code",
   "execution_count": 27,
   "metadata": {},
   "outputs": [],
   "source": [
    "lambda_best =  1e-4"
   ]
  },
  {
   "cell_type": "code",
   "execution_count": 28,
   "metadata": {},
   "outputs": [],
   "source": [
    "ridge = LinearRegression(method = 'Ridge', lambda_value = lambda_best)"
   ]
  },
  {
   "cell_type": "code",
   "execution_count": 29,
   "metadata": {},
   "outputs": [
    {
     "data": {
      "text/plain": [
       "0.09738054296790778"
      ]
     },
     "execution_count": 29,
     "metadata": {},
     "output_type": "execute_result"
    }
   ],
   "source": [
    "ridge.fit(df,'Y')\n",
    "ridge.training_error()"
   ]
  },
  {
   "cell_type": "markdown",
   "metadata": {},
   "source": [
    "#### Most and least significant"
   ]
  },
  {
   "cell_type": "code",
   "execution_count": 33,
   "metadata": {},
   "outputs": [
    {
     "data": {
      "image/png": "[encoded data removed]",
      "text/plain": [
       "<Figure size 720x432 with 1 Axes>"
      ]
     },
     "metadata": {},
     "output_type": "display_data"
    }
   ],
   "source": [
    "ridge.plot_weights()"
   ]
  },
  {
   "cell_type": "markdown",
   "metadata": {},
   "source": [
    "AS we can see, the most important variable seem to be same 'X1', 'X2' while least important 'X18', 'X9', 'X16'. It was able to prune 'X18'. \n",
    "\n",
    "Ideally, we expect the least important feature to reduce close to 0 as lambda value increases."
   ]
  },
  {
   "cell_type": "markdown",
   "metadata": {},
   "source": [
    "#### Comparision of weights and bias"
   ]
  },
  {
   "cell_type": "code",
   "execution_count": 30,
   "metadata": {},
   "outputs": [
    {
     "data": {
      "image/png": "[encoded data removed]",
      "text/plain": [
       "<Figure size 720x432 with 1 Axes>"
      ]
     },
     "metadata": {},
     "output_type": "display_data"
    }
   ],
   "source": [
    "ridge.plot_bias_comparision()"
   ]
  },
  {
   "cell_type": "code",
   "execution_count": 31,
   "metadata": {},
   "outputs": [
    {
     "data": {
      "text/plain": [
       "<Figure size 720x432 with 0 Axes>"
      ]
     },
     "metadata": {},
     "output_type": "display_data"
    },
    {
     "data": {
      "image/png": "[encoded data removed]",
      "text/plain": [
       "<Figure size 720x432 with 1 Axes>"
      ]
     },
     "metadata": {},
     "output_type": "display_data"
    }
   ],
   "source": [
    "ridge.plot_weights_comparision()"
   ]
  },
  {
   "cell_type": "markdown",
   "metadata": {},
   "source": [
    "#### Comparision of Optimal Ridge regression with Least Naive regresson"
   ]
  },
  {
   "cell_type": "markdown",
   "metadata": {},
   "source": [
    "In general, optimal ridge regression is suppose to reduce the weights of the noise in the data. However, in our case since the optimal value of lambda is really low i.e. close to 0. The ridge regression behaves almost same as the leave naive regression."
   ]
  },
  {
   "cell_type": "markdown",
   "metadata": {},
   "source": [
    "### 3) Write a program to take a data set of size m and a parameter λ, and solve for the Lasso regression model for that data. For a data set of size m = 1000, show that as λ increases, features are effectively eliminated from the model until all weights are set to zero."
   ]
  },
  {
   "cell_type": "markdown",
   "metadata": {},
   "source": [
    "#### a) Lasso regression program"
   ]
  },
  {
   "cell_type": "code",
   "execution_count": 441,
   "metadata": {},
   "outputs": [],
   "source": [
    "lasso = LinearRegression(method = 'Lasso', lambda_value = 1)"
   ]
  },
  {
   "cell_type": "code",
   "execution_count": 442,
   "metadata": {},
   "outputs": [],
   "source": [
    "lasso.fit(df,'Y')"
   ]
  },
  {
   "cell_type": "code",
   "execution_count": 443,
   "metadata": {
    "scrolled": false
   },
   "outputs": [
    {
     "data": {
      "text/plain": [
       "<Figure size 720x432 with 0 Axes>"
      ]
     },
     "metadata": {},
     "output_type": "display_data"
    },
    {
     "data": {
      "image/png": "[encoded data removed]",
      "text/plain": [
       "<Figure size 720x432 with 1 Axes>"
      ]
     },
     "metadata": {},
     "output_type": "display_data"
    }
   ],
   "source": [
    "lasso.plot_weights_comparision()"
   ]
  },
  {
   "cell_type": "code",
   "execution_count": 444,
   "metadata": {},
   "outputs": [
    {
     "data": {
      "text/plain": [
       "0.10038730435075785"
      ]
     },
     "execution_count": 444,
     "metadata": {},
     "output_type": "execute_result"
    }
   ],
   "source": [
    "lasso.training_error()"
   ]
  },
  {
   "cell_type": "markdown",
   "metadata": {},
   "source": [
    "#### b) $ \\lambda $ vs weights"
   ]
  },
  {
   "cell_type": "code",
   "execution_count": 445,
   "metadata": {},
   "outputs": [],
   "source": [
    "lambda_values = [0, 1e-5, 1e-4, 1e-3, 0.01,0.05, 0.1, 0.2, 0.5, 1, 2, \\\n",
    "                 5, 10, 20,50,100,1000,10000,10e5,10e6,10e7]\n",
    "weights = []\n",
    "for i in lambda_values:\n",
    "    lasso = LinearRegression(method = 'Lasso', lambda_value = i)\n",
    "    lasso.fit(df,'Y')\n",
    "    weights.append(lasso.weights)"
   ]
  },
  {
   "cell_type": "code",
   "execution_count": 446,
   "metadata": {},
   "outputs": [],
   "source": [
    "weights_df = pd.DataFrame(data =weights, columns = ['X1', 'X2', 'X3',\\\n",
    "                    'X4', 'X5', 'X6', 'X7', 'X8', 'X9', 'X10', 'X11',\n",
    "       'X12', 'X13', 'X14', 'X15', 'X16', 'X17', 'X18', 'X19', 'X20',\\\n",
    "                                                    'bias'] )"
   ]
  },
  {
   "cell_type": "code",
   "execution_count": 447,
   "metadata": {},
   "outputs": [
    {
     "data": {
      "text/plain": [
       "Text(0,0.5,'weight')"
      ]
     },
     "execution_count": 447,
     "metadata": {},
     "output_type": "execute_result"
    },
    {
     "data": {
      "image/png": "[encoded data removed]",
      "text/plain": [
       "<Figure size 864x576 with 1 Axes>"
      ]
     },
     "metadata": {},
     "output_type": "display_data"
    }
   ],
   "source": [
    "#sns.set_style(\"white\")\n",
    "# create a color palette\n",
    "palette = plt.get_cmap('Set1')\n",
    " \n",
    "# multiple line plot\n",
    "num=0\n",
    "plt.figure(figsize = (10,6))\n",
    "for column in weights_df.drop('bias', axis = 1):\n",
    "    num+=1\n",
    "    plt.plot([math.log(i,10) for i in lambda_values[1:]], \\\n",
    "             weights_df[column][1:], marker='', color=palette(num%8), \\\n",
    "             linewidth=2, alpha=0.9, label=column)\n",
    "# Add legend\n",
    "plt.legend(loc=2, ncol=2)\n",
    " \n",
    "# Add titles\n",
    "plt.title(\"Weights vs log(lambda)\",  fontsize=20, fontweight=0, \\\n",
    "          color='Black')\n",
    "plt.xlabel(\"log(lambda)\")\n",
    "plt.ylabel(\"weight\")\n"
   ]
  },
  {
   "cell_type": "markdown",
   "metadata": {},
   "source": [
    "### 4) For data sets of size m = 1000, plot estimated true error of the lasso regression model as a function of λ. What is the optimal λ to minimize testing error? What are the weights and biases lasso regression gives at this λ, and how do they compare to the true weights? What did your model conclude as the most significant and least signficiant features - was it able to prune anything? How does the optimal regression model compare to the naive least squares model?"
   ]
  },
  {
   "cell_type": "markdown",
   "metadata": {},
   "source": [
    "#### Optimal lambda to reduce testing error(true_error)"
   ]
  },
  {
   "cell_type": "code",
   "execution_count": 449,
   "metadata": {},
   "outputs": [
    {
     "name": "stderr",
     "output_type": "stream",
     "text": [
      "100%|████████████████████████████████████████████████████████████████████████████████████| 5/5 [00:22<00:00,  4.59s/it]\n",
      "100%|████████████████████████████████████████████████████████████████████████████████████| 5/5 [00:22<00:00,  4.58s/it]\n",
      "100%|████████████████████████████████████████████████████████████████████████████████████| 5/5 [00:22<00:00,  4.57s/it]\n",
      "100%|████████████████████████████████████████████████████████████████████████████████████| 5/5 [00:22<00:00,  4.55s/it]\n",
      "100%|████████████████████████████████████████████████████████████████████████████████████| 5/5 [00:22<00:00,  4.57s/it]\n",
      "100%|████████████████████████████████████████████████████████████████████████████████████| 5/5 [00:22<00:00,  4.56s/it]\n",
      "100%|████████████████████████████████████████████████████████████████████████████████████| 5/5 [00:22<00:00,  4.54s/it]\n",
      "100%|████████████████████████████████████████████████████████████████████████████████████| 5/5 [00:22<00:00,  4.57s/it]\n",
      "100%|████████████████████████████████████████████████████████████████████████████████████| 5/5 [00:22<00:00,  4.57s/it]\n",
      "100%|████████████████████████████████████████████████████████████████████████████████████| 5/5 [00:22<00:00,  4.55s/it]\n",
      "100%|████████████████████████████████████████████████████████████████████████████████████| 5/5 [00:22<00:00,  4.59s/it]\n",
      "100%|████████████████████████████████████████████████████████████████████████████████████| 5/5 [00:22<00:00,  4.58s/it]\n",
      "100%|████████████████████████████████████████████████████████████████████████████████████| 5/5 [00:23<00:00,  4.61s/it]\n",
      "100%|████████████████████████████████████████████████████████████████████████████████████| 5/5 [00:23<00:00,  4.60s/it]\n",
      "100%|████████████████████████████████████████████████████████████████████████████████████| 5/5 [00:22<00:00,  4.58s/it]\n",
      "100%|████████████████████████████████████████████████████████████████████████████████████| 5/5 [00:22<00:00,  4.57s/it]\n",
      "100%|████████████████████████████████████████████████████████████████████████████████████| 5/5 [00:22<00:00,  4.57s/it]\n"
     ]
    }
   ],
   "source": [
    "lambda_values = [0, 1e-5, 1e-4, 1e-3, 0.01,0.05, 0.1, 0.2, \\\n",
    "                 0.5, 1, 2, 5, 10, 20,50,100,1000]\n",
    "true_error_lasso = []\n",
    "for i in lambda_values:\n",
    "    true_error_lasso.append(estimate_true_error(simulations = 5,\\\n",
    "            method = 'Lasso', test_data_size = 10000, param = i))"
   ]
  },
  {
   "cell_type": "code",
   "execution_count": 450,
   "metadata": {},
   "outputs": [
    {
     "data": {
      "text/plain": [
       "Text(0.5,1,'Lambda Value vs True Error')"
      ]
     },
     "execution_count": 450,
     "metadata": {},
     "output_type": "execute_result"
    },
    {
     "data": {
      "image/png": "[encoded data removed]",
      "text/plain": [
       "<Figure size 720x432 with 1 Axes>"
      ]
     },
     "metadata": {},
     "output_type": "display_data"
    }
   ],
   "source": [
    "plt.figure(figsize = (10,6))\n",
    "sns.lineplot(x = lambda_values, y = true_error_lasso)\n",
    "plt.title(\"Lambda Value vs True Error\")"
   ]
  },
  {
   "cell_type": "code",
   "execution_count": 452,
   "metadata": {},
   "outputs": [
    {
     "data": {
      "text/plain": [
       "Text(0.5,1,'Lambda Value vs True Error')"
      ]
     },
     "execution_count": 452,
     "metadata": {},
     "output_type": "execute_result"
    },
    {
     "data": {
      "image/png": "[encoded data removed]",
      "text/plain": [
       "<Figure size 720x432 with 1 Axes>"
      ]
     },
     "metadata": {},
     "output_type": "display_data"
    }
   ],
   "source": [
    "plt.figure(figsize = (10,6))\n",
    "sns.lineplot(x = lambda_values[0:6], y = true_error_lasso[0:6])\n",
    "plt.title(\"Lambda Value vs True Error\")"
   ]
  },
  {
   "cell_type": "code",
   "execution_count": 35,
   "metadata": {},
   "outputs": [],
   "source": [
    "best_lambda = 0.01"
   ]
  },
  {
   "cell_type": "markdown",
   "metadata": {},
   "source": [
    "#### Comparison of Weights and Bias to true values"
   ]
  },
  {
   "cell_type": "code",
   "execution_count": 36,
   "metadata": {},
   "outputs": [],
   "source": [
    "lasso = LinearRegression(method= 'Lasso', lambda_value= best_lambda)"
   ]
  },
  {
   "cell_type": "code",
   "execution_count": 37,
   "metadata": {},
   "outputs": [],
   "source": [
    "lasso.fit(data=df, target = 'Y')"
   ]
  },
  {
   "cell_type": "code",
   "execution_count": 38,
   "metadata": {},
   "outputs": [
    {
     "data": {
      "text/plain": [
       "<Figure size 720x432 with 0 Axes>"
      ]
     },
     "metadata": {},
     "output_type": "display_data"
    },
    {
     "data": {
      "image/png": "[encoded data removed]",
      "text/plain": [
       "<Figure size 720x432 with 1 Axes>"
      ]
     },
     "metadata": {},
     "output_type": "display_data"
    }
   ],
   "source": [
    "lasso.plot_weights_comparision()"
   ]
  },
  {
   "cell_type": "code",
   "execution_count": 39,
   "metadata": {},
   "outputs": [
    {
     "data": {
      "image/png": "[encoded data removed]",
      "text/plain": [
       "<Figure size 720x432 with 1 Axes>"
      ]
     },
     "metadata": {},
     "output_type": "display_data"
    }
   ],
   "source": [
    "lasso.plot_bias_comparision()"
   ]
  },
  {
   "cell_type": "markdown",
   "metadata": {},
   "source": [
    "Lasso model seems to behave as same other models (ridge and Least naive) because of the low lambda value achieved. The most significant, least significat, pruning of variables all seems to be same as the other two models."
   ]
  },
  {
   "cell_type": "markdown",
   "metadata": {},
   "source": [
    "### 5) Consider using lasso as a means for feature selection: on a data set of size m = 1000, run lasso regression with the optimal regularization constant from the previous problems, and identify the set of relevant features; then run ridge regression to fit a model to only those features. How can you determine a good ridge regression regularization constant to use here? How does the resulting lasso-ridge combination model compare to the naive least squares model? What features does it conclude are significant or relatively insignificant? How do the testing errors of these two models compare?\n"
   ]
  },
  {
   "cell_type": "code",
   "execution_count": 45,
   "metadata": {},
   "outputs": [],
   "source": [
    "df = data_generation()"
   ]
  },
  {
   "cell_type": "code",
   "execution_count": 46,
   "metadata": {},
   "outputs": [],
   "source": [
    "lasso = LinearRegression(method= 'Lasso', lambda_value= best_lambda)"
   ]
  },
  {
   "cell_type": "code",
   "execution_count": 47,
   "metadata": {},
   "outputs": [],
   "source": [
    "lasso.fit(data=df, target = 'Y')"
   ]
  },
  {
   "cell_type": "code",
   "execution_count": 48,
   "metadata": {},
   "outputs": [
    {
     "data": {
      "image/png": "[encoded data removed]",
      "text/plain": [
       "<Figure size 720x432 with 1 Axes>"
      ]
     },
     "metadata": {},
     "output_type": "display_data"
    }
   ],
   "source": [
    "lasso.plot_weights()"
   ]
  },
  {
   "cell_type": "markdown",
   "metadata": {},
   "source": [
    "Let us now consider only the 10 features from this data to fit the ridge regression."
   ]
  },
  {
   "cell_type": "markdown",
   "metadata": {},
   "source": [
    "#### Determining good ridge regularisation parameter"
   ]
  },
  {
   "cell_type": "code",
   "execution_count": 49,
   "metadata": {},
   "outputs": [],
   "source": [
    "selected_features = ['X1','X2','X3','X4','X5','X6','X11','X14',\\\n",
    "                     'X8','X12']"
   ]
  },
  {
   "cell_type": "code",
   "execution_count": 52,
   "metadata": {},
   "outputs": [],
   "source": [
    "def estimate_true_error(simulations = 5, method = 'Ridge', \\\n",
    "                        test_data_size = 10000, param = 0.01):\n",
    "    #df = data_generation()\n",
    "    model = LinearRegression(method = method, lambda_value = param)\n",
    "    model.fit(df[['X1','X2','X3','X4','X5','X6','X11','X14',\\\n",
    "                  'X8','X12','Y']], 'Y')\n",
    "    #print(\"The training error is \",ridge.training_error())\n",
    "    true_error = []\n",
    "    for i in range(simulations):\n",
    "        test_data = data_generation(m = test_data_size)\n",
    "        true_error.append(model.error(test_data[['X1','X2','X3',\\\n",
    "                    'X4','X5','X6','X11','X14','X8','X12','Y']]))\n",
    "    #print(\"The true error is \", sum(true_error)/len(true_error))\n",
    "    return sum(true_error)/len(true_error)"
   ]
  },
  {
   "cell_type": "code",
   "execution_count": 57,
   "metadata": {},
   "outputs": [
    {
     "name": "stderr",
     "output_type": "stream",
     "text": [
      "C:\\Users\\nitin\\AppData\\Local\\Continuum\\anaconda3\\lib\\site-packages\\ipykernel_launcher.py:8: SettingWithCopyWarning: \n",
      "A value is trying to be set on a copy of a slice from a DataFrame.\n",
      "Try using .loc[row_indexer,col_indexer] = value instead\n",
      "\n",
      "See the caveats in the documentation: http://pandas.pydata.org/pandas-docs/stable/indexing.html#indexing-view-versus-copy\n",
      "  \n",
      "C:\\Users\\nitin\\AppData\\Local\\Continuum\\anaconda3\\lib\\site-packages\\pandas\\core\\frame.py:3694: SettingWithCopyWarning: \n",
      "A value is trying to be set on a copy of a slice from a DataFrame\n",
      "\n",
      "See the caveats in the documentation: http://pandas.pydata.org/pandas-docs/stable/indexing.html#indexing-view-versus-copy\n",
      "  errors=errors)\n"
     ]
    }
   ],
   "source": [
    "lambda_values = np.arange(0,2,0.1)\n",
    "true_error_ridge = []\n",
    "for i in lambda_values:\n",
    "    true_error_ridge.append(estimate_true_error(simulations = 5,\\\n",
    "                                test_data_size = 10000, param = i))"
   ]
  },
  {
   "cell_type": "code",
   "execution_count": 58,
   "metadata": {},
   "outputs": [
    {
     "data": {
      "text/plain": [
       "Text(0.5,1,'Lambda Value vs True Error')"
      ]
     },
     "execution_count": 58,
     "metadata": {},
     "output_type": "execute_result"
    },
    {
     "data": {
      "image/png": "[encoded data removed]",
      "text/plain": [
       "<Figure size 720x432 with 1 Axes>"
      ]
     },
     "metadata": {},
     "output_type": "display_data"
    }
   ],
   "source": [
    "plt.figure(figsize = (10,6))\n",
    "sns.lineplot(x = lambda_values, y = true_error_ridge)\n",
    "plt.title(\"Lambda Value vs True Error\")"
   ]
  },
  {
   "cell_type": "code",
   "execution_count": 59,
   "metadata": {},
   "outputs": [],
   "source": [
    "best_lambda = 1.4"
   ]
  },
  {
   "cell_type": "code",
   "execution_count": 60,
   "metadata": {},
   "outputs": [],
   "source": [
    "ridge = LinearRegression(method= 'Ridge', lambda_value= 1.4)"
   ]
  },
  {
   "cell_type": "code",
   "execution_count": 62,
   "metadata": {},
   "outputs": [
    {
     "name": "stderr",
     "output_type": "stream",
     "text": [
      "C:\\Users\\nitin\\AppData\\Local\\Continuum\\anaconda3\\lib\\site-packages\\ipykernel_launcher.py:8: SettingWithCopyWarning: \n",
      "A value is trying to be set on a copy of a slice from a DataFrame.\n",
      "Try using .loc[row_indexer,col_indexer] = value instead\n",
      "\n",
      "See the caveats in the documentation: http://pandas.pydata.org/pandas-docs/stable/indexing.html#indexing-view-versus-copy\n",
      "  \n",
      "C:\\Users\\nitin\\AppData\\Local\\Continuum\\anaconda3\\lib\\site-packages\\pandas\\core\\frame.py:3694: SettingWithCopyWarning: \n",
      "A value is trying to be set on a copy of a slice from a DataFrame\n",
      "\n",
      "See the caveats in the documentation: http://pandas.pydata.org/pandas-docs/stable/indexing.html#indexing-view-versus-copy\n",
      "  errors=errors)\n"
     ]
    }
   ],
   "source": [
    "ridge.fit(df[['X1','X2','X3','X4','X5','X6','X11','X14','X8',\\\n",
    "              'X12','Y']], 'Y')"
   ]
  },
  {
   "cell_type": "code",
   "execution_count": 63,
   "metadata": {},
   "outputs": [
    {
     "data": {
      "text/plain": [
       "0.09933199909286286"
      ]
     },
     "execution_count": 63,
     "metadata": {},
     "output_type": "execute_result"
    }
   ],
   "source": [
    "ridge.training_error()"
   ]
  },
  {
   "cell_type": "code",
   "execution_count": 65,
   "metadata": {},
   "outputs": [
    {
     "data": {
      "image/png": "[encoded data removed]",
      "text/plain": [
       "<Figure size 720x432 with 1 Axes>"
      ]
     },
     "metadata": {},
     "output_type": "display_data"
    }
   ],
   "source": [
    "ridge.plot_bias_comparision()"
   ]
  },
  {
   "cell_type": "code",
   "execution_count": 68,
   "metadata": {},
   "outputs": [
    {
     "data": {
      "text/plain": [
       "Text(0.5,1,'Comparision of Weights')"
      ]
     },
     "execution_count": 68,
     "metadata": {},
     "output_type": "execute_result"
    },
    {
     "data": {
      "text/plain": [
       "<Figure size 720x432 with 0 Axes>"
      ]
     },
     "metadata": {},
     "output_type": "display_data"
    },
    {
     "data": {
      "image/png": "[encoded data removed]",
      "text/plain": [
       "<Figure size 720x432 with 1 Axes>"
      ]
     },
     "metadata": {},
     "output_type": "display_data"
    }
   ],
   "source": [
    "original_weights = [0.6**i for i in range(1,7)] + [0,0, 0.6**8, 0]\n",
    "plt.figure(figsize = (10,6))\n",
    "w_b = pd.DataFrame({'columns' : ridge.variables[:-1], \n",
    "                    'weights' : ridge.weights[:-1]})\n",
    "w_b['org_cat'] = 'Calculated'\n",
    "temp = pd.DataFrame({'columns' : ridge.variables[:-1], \n",
    "                     'weights' : original_weights})\n",
    "temp['org_cat'] = 'Actual'\n",
    "w_b = w_b.append(temp)\n",
    "plt.figure(figsize = (10,6))\n",
    "sns.barplot(data = w_b, x = \"columns\", y = \"weights\",\n",
    "            hue = \"org_cat\")\n",
    "plt.title(\"Comparision of Weights\")"
   ]
  },
  {
   "cell_type": "markdown",
   "metadata": {},
   "source": [
    "#### Comparision with Naive"
   ]
  },
  {
   "cell_type": "code",
   "execution_count": 69,
   "metadata": {},
   "outputs": [],
   "source": [
    "naive = LinearRegression()"
   ]
  },
  {
   "cell_type": "code",
   "execution_count": 75,
   "metadata": {},
   "outputs": [],
   "source": [
    "naive.fit(df, 'Y')"
   ]
  },
  {
   "cell_type": "code",
   "execution_count": 76,
   "metadata": {},
   "outputs": [
    {
     "data": {
      "text/plain": [
       "0.0973560082274087"
      ]
     },
     "execution_count": 76,
     "metadata": {},
     "output_type": "execute_result"
    }
   ],
   "source": [
    "naive.training_error()"
   ]
  },
  {
   "cell_type": "markdown",
   "metadata": {},
   "source": [
    "Again, in general we expect the lasso-ridge model to perform better than the naive model. But here due to the data, high accuracy in naive model, we are not able to validate it."
   ]
  },
  {
   "cell_type": "markdown",
   "metadata": {},
   "source": [
    "# SVM"
   ]
  },
  {
   "cell_type": "markdown",
   "metadata": {},
   "source": [
    "### 1) Implement a barrier-method dual SVM solver. How can you (easily!) generate an initial feasible α solution away from the boundaries of the constraint region? How can you ensure that you do not step outside the constraint region in any update step? How do you choose your \u000ft? Be sure to return all αi including α1 in the final answer."
   ]
  },
  {
   "cell_type": "markdown",
   "metadata": {},
   "source": [
    "Reference - https://github.com/lenassero"
   ]
  },
  {
   "cell_type": "markdown",
   "metadata": {},
   "source": [
    "## The Barrier Method"
   ]
  },
  {
   "cell_type": "markdown",
   "metadata": {},
   "source": [
    "The barrier method is used to solve an inequality constrained minimization problem. Let's consider here a general quadratic problem. We suppose it is strictly feasible so that the strong duality holds and the dual optimum attained:\n",
    "\n",
    "\\begin{align*}\n",
    "minimize &\\ f_{0}(x) = \\frac{1}{2}x^TQx + p^Tx \\\\\n",
    "st. &\\ Ax \\leq b\n",
    "\\tag{QP}\n",
    "\\end{align*}\n",
    "\n",
    "where:"
   ]
  },
  {
   "cell_type": "markdown",
   "metadata": {},
   "source": [
    "- $x \\in I\\!R^{d}$\n",
    "- $Q$ symmetric semi-definite matrix \n",
    "- $p \\in I\\!R^{d}$\n",
    "- $A \\in I\\!R^{nd}$\n",
    "- $b \\in I\\!R^{n}$ (n is the number of inequality constraints)\n"
   ]
  },
  {
   "cell_type": "markdown",
   "metadata": {},
   "source": [
    "This problem is equivalent to:\n",
    "\\begin{align}\n",
    "minimize &\\ \\frac{1}{2}x^TQx + p^Tx + \\sum_{i=1}^{n}I_{-}((Ax-b)_{i})\n",
    "\\tag{P1}\n",
    "\\end{align}\n",
    "\n",
    "where $I_{-}$ is the indicator function for the nonpositive reals: $I_{-}(u) = 0$ if $u \\leq 0$, $\\infty$ otherwise.\n",
    "\n",
    "The idea of the barrier method is to approximate the indicator function by $\\widehat{I}_{-}$ such that:\n",
    "$\\widehat{I}_{-}(u) = -(1/t)log(-u)$, $\\mathbf{dom}\\widehat{I}_{-} = - I\\!R_{++}$.\n",
    "\n",
    "Thus, the approximated problem is:\n",
    "\n",
    "\\begin{align}\n",
    "\\underset{x}{minimize} \\ \\phi_{t}(x) = t(\\frac{1}{2}x^TQx + p^Tx) + B(b-Ax)\n",
    "\\tag{P2}\n",
    "\\end{align}\n",
    "\n",
    "where $B$ is the logarithmic barrier defined as: \n",
    "\\begin{align*}\n",
    "B(x) = - \\sum_{i}log(x_{i})\n",
    "\\end{align*}\n",
    "\n",
    "The objective function $\\phi_{t}$ is convex and we can show that the solution of the problem $P1$ (let's denote it $x^{*}$) approximates well the solution of the original problem $P2$ (let's denote it $p^{*}$) when $t \\rightarrow \\infty$. In fact, we can show that:\n",
    "\n",
    "\\begin{align*}\n",
    "f_{0}(x^{*}(t)) - p^{*} \\leq \\frac{m}{t}\n",
    "\\end{align*}\n"
   ]
  },
  {
   "cell_type": "markdown",
   "metadata": {},
   "source": [
    "## The barrier method's centering step using Newton method with baktracking line search\n",
    "\n"
   ]
  },
  {
   "cell_type": "markdown",
   "metadata": {},
   "source": [
    "In this method, the step size t in the update ($x:=x+t\\Delta x$) is choosen with backtracking line-search:\n",
    "\n",
    "<br>\n",
    "$\\alpha \\in (0, 0.5), \\beta \\in (0, 1)$\n",
    "\n",
    "$t:=1$\n",
    "\n",
    "while $\\phi_{t}(x+t\\Delta x) > \\phi_{t}(x) + \\alpha t \\nabla\\phi_{t}(x)^{T}\\Delta x$, $t:=\\beta t$\n",
    "\n",
    "$$ $$\n",
    "\n",
    "where $\\Delta x$ is the Newton step given by:\n",
    "\n",
    "\\begin{align*}\n",
    "\\Delta x = -(\\nabla^2\\phi_{t}(x))^{-1}\\nabla\\phi_{t}(x)\n",
    "\\end{align*}\n",
    "\n",
    "$$ $$\n",
    "\n",
    "The algorithm can be written as:\n",
    "\n",
    "$$ $$\n",
    "\n",
    "Given a starting point $x \\in \\mathbf{dom}\\phi_{t}$, tolerance $\\epsilon > 0$:\n",
    "\n",
    "*repeat* until $\\frac{\\lambda^{2}}{2} \\leq \\epsilon$ :\n",
    "\n",
    "1. Compute $\\Delta x$, $gap = \\frac{\\lambda^{2}}{2}$\n",
    "2. Line search: choose step size t by backtracking line search\n",
    "3. Update: $x:=x+t\\Delta x$"
   ]
  },
  {
   "cell_type": "code",
   "execution_count": 85,
   "metadata": {},
   "outputs": [],
   "source": [
    "class SVM():\n",
    "    def __init__(self, tau = 1, t_0 = 1, tol = 0.0001, mu = 15, \n",
    "                 solution = \"Dual\", kernel = None,\n",
    "                 poly_d = 2):\n",
    "        self.tau = tau\n",
    "        self.t_0 = t_0\n",
    "        self.tol = tol\n",
    "        self.mu = mu\n",
    "        self.kernel = kernel\n",
    "        self.poly_d = poly_d\n",
    "        self.solution = solution\n",
    "    \n",
    "    def poly_kernel(self, X, n, d = 2):\n",
    "        return (np.identity(n = n) + X.T.dot(X))**d\n",
    "    \n",
    "    def log_barrier(self,x):\n",
    "        x = -np.sum(np.log(x))\n",
    "        return x\n",
    "\n",
    "    def phi(self, x, t, Q, p, A, b):\n",
    "        x = t * (1/2*np.dot(x, Q.dot(x)) + p.dot(x)) + \\\n",
    "                self.log_barrier(b-A.dot(x))\n",
    "        return x\n",
    "\n",
    "    def grad(self, x, t, Q, p, A, b):\n",
    "        x = t*(Q.dot(x) + p) + np.sum(np.divide(A.T,\\\n",
    "                                b-A.dot(x)), axis = 1)\n",
    "        return x\n",
    "\n",
    "    def hess(self, x, t, Q, p, A, b):\n",
    "        # Divide each column i of A is divided by bi- (Ax)i\n",
    "        A_ = np.divide(A.T, b-A.dot(x))\n",
    "        x = t*Q + A_.dot(A_.T)\n",
    "        return x\n",
    "    \n",
    "    def transform_svm_dual(self,tau, X, y):\n",
    "        # Number of observations\n",
    "        n = X.shape[1]\n",
    "        # Multiply each observation (xi) by its label (yi)\n",
    "        if self.kernel == 'Polynomial':\n",
    "            Q = y*y\n",
    "            K = self.poly_kernel(X = X, n = n, d = self.poly_d)\n",
    "            Q = Q*K\n",
    "        else:\n",
    "            X_ = X*y\n",
    "            Q = X_.T.dot(X_)\n",
    "        p = -np.ones(n)\n",
    "        # Shape (2*n, n)\n",
    "        A = np.zeros((2*n, n))\n",
    "        A[:n, :] = np.identity(n)\n",
    "        A[n:, :] = -np.identity(n)\n",
    "        # Shape (2*n, )\n",
    "        b = np.zeros(2*n)\n",
    "        b[:n] = 1/(tau*n)\n",
    "        return Q, p, A, b\n",
    "\n",
    "    def transform_svm_primal(self,tau, X, y):\n",
    "        d_ = X.shape[0]\n",
    "        d = d_ - 1\n",
    "        n = X.shape[1]\n",
    "        X_ = X*y\n",
    "        Q = np.zeros((d_+n, d_+n))\n",
    "        Q[:d, :d] = np.identity(d)\n",
    "        p = np.zeros(d_+n)\n",
    "        p[d_:] = 1/(tau*n)\n",
    "        A = np.zeros((2*n, d_+n))\n",
    "        A[:n, :d_] = -X_.T\n",
    "        A[:n, d_:] = np.diag([-1]*n)\n",
    "        A[n:, d_:] = np.diag([-1]*n)\n",
    "        b = np.zeros(2*n)\n",
    "        b[:n] = -1\n",
    "        return Q, p, A, b\n",
    "    \n",
    "    def NewtonStep(self, x, f, g, h):\n",
    "        g = g(x)\n",
    "        h = h(x)\n",
    "        h_inv = np.linalg.inv(h)\n",
    "        lambda_ = (g.T.dot(h_inv.dot(g)))**(1/2)\n",
    "\n",
    "        newton_step = -h_inv.dot(g)\n",
    "        gap = 1/2*lambda_**2\n",
    "\n",
    "        return newton_step, gap\n",
    "\n",
    "    def backTrackingLineSearch(self, x, step, f, g, A, b, \n",
    "                               alpha = 0.3, beta = 0.5):\n",
    "        step_size = 1\n",
    "        m = b.shape[0]\n",
    "        xnew = x + step_size*step\n",
    "        while np.sum(A.dot(xnew) < b) < m:\n",
    "            step_size *= beta\n",
    "            xnew = x + step_size*step\n",
    "        y = f(xnew)\n",
    "        z = f(x) + alpha*step_size*g(x).T.dot(step)\n",
    "        while y > z:\n",
    "            step_size *= beta\n",
    "            xnew = x + step_size*step\n",
    "            y = f(xnew)\n",
    "            z = f(x) + alpha*step_size*g(x).T.dot(step)\n",
    "        return step_size\n",
    "\n",
    "    def newtonLS(self, x0, f, g, h, tol, A, b, alpha = 0.3, \n",
    "                 beta = 0.5):\n",
    "        newton_step, gap = self.NewtonStep(x0, f, g, h)\n",
    "        step_size = self.backTrackingLineSearch(x0, newton_step, \n",
    "                                        f, g, A, b, alpha, beta)\n",
    "        x = x0 + step_size*newton_step\n",
    "        xhist = [x]\n",
    "        while gap > tol:\n",
    "            newton_step, gap = self.NewtonStep(x, f, g, h)\n",
    "            step_size = self.backTrackingLineSearch(x, \n",
    "                    newton_step, f, g, A, b, alpha, beta)\n",
    "            x += step_size*newton_step\n",
    "            xhist.append(x)\n",
    "        xstar = x\n",
    "        return xstar, xhist\n",
    "\n",
    "    def barr_method(self, Q, p, A, b, x_0, t_0, mu, tol):\n",
    "        outer_iterations = []\n",
    "        m = b.shape[0]\n",
    "        if np.sum(A.dot(x_0) < b) == m:\n",
    "            t = t_0\n",
    "            x = x_0\n",
    "            xhist = [x_0]\n",
    "            while m/t >= tol:\n",
    "                f = lambda x: self.phi(x, t, Q, p, A, b)\n",
    "                g = lambda x: self.grad (x, t, Q, p, A, b)\n",
    "                h = lambda x: self.hess (x, t, Q, p, A, b)\n",
    "                x, xhist_Newton = self.newtonLS(x, f,\n",
    "                                    g, h, tol, A, b)\n",
    "                xhist += xhist_Newton\n",
    "                outer_iterations += [len(xhist_Newton)]\n",
    "                t *= mu      \n",
    "            x_sol = x\n",
    "        else:\n",
    "            raise ValueError(\"x_0 is not scritly feasible, cannot proceed\")\n",
    "        return x_sol, xhist, outer_iterations \n",
    "\n",
    "    def train(self, X, y):\n",
    "        self.n = X.shape[0]\n",
    "        self.d = X.shape[1]\n",
    "        X = np.vstack((X.T, np.ones(self.n)))\n",
    "        if self.solution == 'Dual':\n",
    "            self.x_0 = (1/(100*self.tau*self.n))*np.ones(self.n)\n",
    "            self.Q, self.p, self.A, self.b = \\\n",
    "            self.transform_svm_dual(self.tau, X, y)\n",
    "            self.x_sol, self.xhist, self.outer_iterations = \\\n",
    "            self.barr_method(self.Q, \n",
    "                self.p, self.A, self.b, self.x_0, self.t_0,\n",
    "                             self.mu, self.tol)\n",
    "            self.w = self.x_sol.dot((X*y).T)\n",
    "        elif self.solution == 'Primal':\n",
    "            self.x_0 = np.zeros(self.d+1+self.n)\n",
    "            self.x_0[self.d + 1:] = 1.1\n",
    "            self.Q, self.p, self.A, self.b = \\\n",
    "            self.transform_svm_primal(self.tau, X, y)\n",
    "            self.x_sol, self.xhist, self.outer_iterations = \\\n",
    "            self.barr_method(self.Q, \n",
    "                self.p, self.A, self.b, self.x_0, self.t_0,\n",
    "                             self.mu, self.tol)\n",
    "            self.w = self.x_sol[:self.d + 1]\n",
    "\n",
    "    def predict(self, X_test, y_test):\n",
    "        self.n_test = X_test.shape[0]\n",
    "        X_test = np.vstack((X_test.T, np.ones(self.n_test)))\n",
    "        y_pred = np.sign(self.w.T.dot(X_test))\n",
    "        accuracy = self.compute_mean_accuracy(y_pred, y_test)\n",
    "        return y_pred, accuracy\n",
    "\n",
    "    def compute_mean_accuracy(self, y_pred, y_test):\n",
    "        accuracy = np.sum(y_pred == y_test)\n",
    "        accuracy /= np.shape(y_test)[0]\n",
    "        return accuracy"
   ]
  },
  {
   "cell_type": "markdown",
   "metadata": {},
   "source": [
    "### Testing"
   ]
  },
  {
   "cell_type": "code",
   "execution_count": 87,
   "metadata": {},
   "outputs": [
    {
     "name": "stdout",
     "output_type": "stream",
     "text": [
      "The training Error is - 0.3333333333333333\n"
     ]
    }
   ],
   "source": [
    "from sklearn.datasets import load_iris\n",
    "iris = load_iris()\n",
    "\n",
    "svm = SVM()\n",
    "svm.train(iris.data, iris.target)\n",
    "print(\"The training Error is -\", svm.predict(iris.data, iris.target)[1])"
   ]
  },
  {
   "cell_type": "code",
   "execution_count": 88,
   "metadata": {},
   "outputs": [
    {
     "data": {
      "text/plain": [
       "array([0.11546831, 0.05286295, 0.07656573, 0.02364126, 0.02306751])"
      ]
     },
     "execution_count": 88,
     "metadata": {},
     "output_type": "execute_result"
    }
   ],
   "source": [
    "svm.w"
   ]
  },
  {
   "cell_type": "markdown",
   "metadata": {},
   "source": [
    "### 2) Use your SVM solver to compute the dual SVM solution for the XOR data using the kernel function K(x, y) = (1 + x.y)^2. Solve the dual SVM by hand to check your work."
   ]
  },
  {
   "cell_type": "code",
   "execution_count": 91,
   "metadata": {},
   "outputs": [],
   "source": [
    "def xor(a,b):\n",
    "    return (a and not b) or (not a and b)\n",
    "def xor_truth_table():\n",
    "    table = {}\n",
    "    for a in [0, 1]:\n",
    "        for b in [0, 1]:\n",
    "            table[(a, b)] = 1 if xor(a, b) else 0\n",
    "    return table\n",
    "xor_data = xor_truth_table()"
   ]
  },
  {
   "cell_type": "code",
   "execution_count": 92,
   "metadata": {},
   "outputs": [],
   "source": [
    "xor_df = pd.DataFrame()\n",
    "xor_df['A'] = np.array(list(xor_data.keys()))[:, 0]\n",
    "xor_df['B'] = np.array(list(xor_data.keys()))[:, 1]\n",
    "xor_df['Y'] = list(xor_data.values())"
   ]
  },
  {
   "cell_type": "code",
   "execution_count": 93,
   "metadata": {},
   "outputs": [
    {
     "data": {
      "text/html": [
       "<div>\n",
       "<style scoped>\n",
       "    .dataframe tbody tr th:only-of-type {\n",
       "        vertical-align: middle;\n",
       "    }\n",
       "\n",
       "    .dataframe tbody tr th {\n",
       "        vertical-align: top;\n",
       "    }\n",
       "\n",
       "    .dataframe thead th {\n",
       "        text-align: right;\n",
       "    }\n",
       "</style>\n",
       "<table border=\"1\" class=\"dataframe\">\n",
       "  <thead>\n",
       "    <tr style=\"text-align: right;\">\n",
       "      <th></th>\n",
       "      <th>A</th>\n",
       "      <th>B</th>\n",
       "      <th>Y</th>\n",
       "    </tr>\n",
       "  </thead>\n",
       "  <tbody>\n",
       "    <tr>\n",
       "      <th>0</th>\n",
       "      <td>0</td>\n",
       "      <td>0</td>\n",
       "      <td>0</td>\n",
       "    </tr>\n",
       "    <tr>\n",
       "      <th>1</th>\n",
       "      <td>0</td>\n",
       "      <td>1</td>\n",
       "      <td>1</td>\n",
       "    </tr>\n",
       "    <tr>\n",
       "      <th>2</th>\n",
       "      <td>1</td>\n",
       "      <td>0</td>\n",
       "      <td>1</td>\n",
       "    </tr>\n",
       "    <tr>\n",
       "      <th>3</th>\n",
       "      <td>1</td>\n",
       "      <td>1</td>\n",
       "      <td>0</td>\n",
       "    </tr>\n",
       "  </tbody>\n",
       "</table>\n",
       "</div>"
      ],
      "text/plain": [
       "   A  B  Y\n",
       "0  0  0  0\n",
       "1  0  1  1\n",
       "2  1  0  1\n",
       "3  1  1  0"
      ]
     },
     "execution_count": 93,
     "metadata": {},
     "output_type": "execute_result"
    }
   ],
   "source": [
    "xor_df"
   ]
  },
  {
   "cell_type": "code",
   "execution_count": 105,
   "metadata": {},
   "outputs": [],
   "source": [
    "svm = SVM(tol = 0.0001)\n",
    "svm.train(xor_df.drop('Y', 1).values, xor_df['Y'].values)"
   ]
  },
  {
   "cell_type": "code",
   "execution_count": 106,
   "metadata": {},
   "outputs": [
    {
     "data": {
      "text/plain": [
       "array([0.24992109, 0.24992109, 0.49984217])"
      ]
     },
     "execution_count": 106,
     "metadata": {},
     "output_type": "execute_result"
    }
   ],
   "source": [
    "svm.w"
   ]
  }
 ],
 "metadata": {
  "kernelspec": {
   "display_name": "Python 3",
   "language": "python",
   "name": "python3"
  },
  "language_info": {
   "codemirror_mode": {
    "name": "ipython",
    "version": 3
   },
   "file_extension": ".py",
   "mimetype": "text/x-python",
   "name": "python",
   "nbconvert_exporter": "python",
   "pygments_lexer": "ipython3",
   "version": "3.6.5"
  }
 },
 "nbformat": 4,
 "nbformat_minor": 2
}
