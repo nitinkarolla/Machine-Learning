{
 "cells": [
  {
   "cell_type": "markdown",
   "metadata": {},
   "source": [
    "# CS 536 : Pruning Decision Trees\n",
    "\n",
    "#### Submitted by Nitin Reddy Karolla (nrk60)"
   ]
  },
  {
   "cell_type": "code",
   "execution_count": 45,
   "metadata": {},
   "outputs": [],
   "source": [
    "# Importing the required packages for the assignment\n",
    "\n",
    "import numpy as np\n",
    "import math\n",
    "import pandas as pd\n",
    "import seaborn as sns\n",
    "import matplotlib.pyplot as plt\n",
    "from tqdm import tqdm\n",
    "from statistics import mode\n",
    "from multiprocessing import Pool\n",
    "\n",
    "%matplotlib inline"
   ]
  },
  {
   "cell_type": "markdown",
   "metadata": {},
   "source": [
    "### 1) Write a function to generate m samples of (X, Y), and another to fit a tree to that data using ID3. Write a third function to, given a decision tree f, estimate the error rate of that decision tree on the underlying data, err(f). Do this repeatedly for a range of m values, and plot the ‘typical’ error of a tree trained on m data points as a function of m. Does this agree with your intuition?\n"
   ]
  },
  {
   "cell_type": "code",
   "execution_count": 46,
   "metadata": {},
   "outputs": [],
   "source": [
    "def data_generator(m):\n",
    "    \"\"\"\n",
    "    Input : \n",
    "        m - Number of samples\n",
    "    \n",
    "    Output : \n",
    "        Dataframe with k+1 columns i.e. k features that represent X \n",
    "        and 1 the represents Y\n",
    "    \"\"\"\n",
    "    colnames = [ 'X'+ str(i)  for i in range(21)]\n",
    "    \n",
    "    X = [] \n",
    "    for j in range(m):\n",
    "        y = []\n",
    "        a = np.random.binomial(1, p=0.5, size= 1)[0]\n",
    "        y.append(a)\n",
    "        for i in range(14):\n",
    "            x = np.random.binomial(1, p=0.75, size= 1)[0]\n",
    "            if x == 1:\n",
    "                y.append(y[i])\n",
    "            else:\n",
    "                y.append(1-y[i])\n",
    "        for i in range(6):\n",
    "            x = np.random.binomial(1, p = 0.5, size = 1)[0]\n",
    "            y.append(x)\n",
    "        X.append(y)\n",
    "     \n",
    "    df = pd.DataFrame(data= X, columns= colnames)\n",
    "    \n",
    "    #Generating the Y\n",
    "    Y = []\n",
    "    for i in X:\n",
    "        if i[0] == 0:\n",
    "            y = mode(i[1:8])\n",
    "        else :\n",
    "            y = mode(i[8:15])\n",
    "        Y.append(y)\n",
    "    \n",
    "    #Generate column names\n",
    "    df['Y'] = pd.Series(data = Y)\n",
    "    return(df)"
   ]
  },
  {
   "cell_type": "code",
   "execution_count": 47,
   "metadata": {},
   "outputs": [],
   "source": [
    "class Node():\n",
    "    \"\"\"\n",
    "    Node is a data structure which will be used for decision trees.\n",
    "    \n",
    "    Input :\n",
    "        data = training data post split is stored\n",
    "        rule = feature on which the split led to this node and the \n",
    "        value of the feature\n",
    "        child = nodes of children of all this node are present \n",
    "        after the split\n",
    "    \"\"\"\n",
    "    def __init__(self,\n",
    "                 data = None,\n",
    "                 rule = None,\n",
    "                 child = None,\n",
    "                 depth = None\n",
    "                ):\n",
    "        self.data = data\n",
    "        self.rule = rule\n",
    "        self.child = child\n",
    "        self.depth = depth"
   ]
  },
  {
   "cell_type": "code",
   "execution_count": 48,
   "metadata": {},
   "outputs": [],
   "source": [
    "class Decision_Tree_ID3():\n",
    "    \"\"\"\n",
    "    Decision Tree ID3 is trained on data with a target variable. It \n",
    "    is built on split variable which is indentified using the logic \n",
    "    of information gain \n",
    "    \"\"\"\n",
    "    def __init__(self, root = None, termination_depth = None, \n",
    "                 min_leaf_size = None, sig_threshold = None, var = None):\n",
    "        self.root = root\n",
    "        self.termination_depth = termination_depth\n",
    "        self.min_leaf_size = min_leaf_size\n",
    "        self.sig_threshold = sig_threshold\n",
    "        if var == None:\n",
    "            self.var = []\n",
    "        \n",
    "    def _entropy(self, data, variable):\n",
    "        \"\"\"\n",
    "        Calcuates the entropy for the given data and target variable\n",
    "        \"\"\"\n",
    "        entropy_value = sum([(-data[variable].value_counts()[i]/ \n",
    "                              data[variable].count()) * np.log2((\n",
    "            data[variable].value_counts()[i]/ \n",
    "            data[variable].count()) + 0.00000001) \n",
    "                             for i in data[variable].unique()])\n",
    "        return entropy_value\n",
    "    \n",
    "    \n",
    "    def _information_gain(self, data, variable, target):\n",
    "        \"\"\"\n",
    "        Calculates the information gain for the given variable and data\n",
    "        \"\"\"\n",
    "        infomation_content = sum([data[variable].value_counts()[i]/\n",
    "                                  data[variable].count()\n",
    "                                  * self._entropy(data[data[variable]== i], \n",
    "                                                 target) \n",
    "                                  for i in data[variable].unique()])\n",
    "        info_gain = self._entropy(data, target) - infomation_content\n",
    "        return(info_gain)\n",
    "    \n",
    "    \n",
    "    def _split_variable_identification(self, data, target):\n",
    "        \"\"\"\n",
    "        Identifies the split variable based on data and target\n",
    "        \"\"\"\n",
    "        #loop through all features and calculate information gain for each feature\n",
    "        variable_ig_required = list(data.columns)\n",
    "        variable_ig_required.remove('Y')\n",
    "        ig_values = [(i, self._information_gain(data,i,'Y')) \n",
    "                     for i in variable_ig_required]\n",
    "        if len(ig_values) != 0:\n",
    "            split_variable = max(ig_values, key = lambda item : item[1])\n",
    "        else:\n",
    "            split_variable = (0,0)\n",
    "        return(split_variable)\n",
    "    \n",
    "    def _chi_square(self,data,var,target):\n",
    "        chi_square = []\n",
    "        for i in data[var].unique():\n",
    "            for j in data[target].unique():\n",
    "                expected_x = (data[var].value_counts()[i]/len(data[var]))\n",
    "                expected_y = (data[target].value_counts()[j]/len(data[target]))\n",
    "                expected = expected_x * expected_y * len(data[var])\n",
    "                #print(expected)\n",
    "\n",
    "                observed = data[(data[var] == i) & (data[target] == j )].shape[0]\n",
    "                #print(observed)\n",
    "\n",
    "                out = (expected - observed)**2 / expected\n",
    "                chi_square.append(out)\n",
    "        return (sum(chi_square))\n",
    "    \n",
    "\n",
    "    def _split_data(self, data, split_variable): \n",
    "        \"\"\"\n",
    "        Splits the data after identifying the split variable, assigns \n",
    "        data and rule to the node.\n",
    "        \"\"\"\n",
    "        splitted_data = [Node(data = (data[data[split_variable] == i].\n",
    "                                      drop(split_variable,1)),\n",
    "                              rule = (split_variable,i)) \n",
    "                         for i in data[split_variable].unique()]\n",
    "        return(splitted_data)\n",
    "    \n",
    "    \n",
    "    def fit(self, data, target):\n",
    "        \"\"\"\n",
    "        Fit is used to fit decision trees on the data for a given target variable\n",
    "        \"\"\"\n",
    "        if type(data) != Node:\n",
    "            data = Node(data = data, depth = 0)\n",
    "            self.root = data\n",
    "        \n",
    "        #Terminating Conditions\n",
    "        if self._split_variable_identification(data.data, target)[1] == 0 :\n",
    "            return\n",
    "        if self.termination_depth != None:\n",
    "            if data.depth == self.termination_depth:\n",
    "                return\n",
    "        if self.min_leaf_size != None:\n",
    "            if data.data.shape[0] <= self.min_leaf_size:\n",
    "                return\n",
    "        \n",
    "        split_variable = self._split_variable_identification(data.data, target)[0]\n",
    "        \n",
    "        #Terminating Conditions\n",
    "        if self.sig_threshold != None:\n",
    "            if self._chi_square(data.data,split_variable,target) < self.sig_threshold:\n",
    "                return\n",
    "        \n",
    "        #Adding depth to the node\n",
    "        data.child = self._split_data(data.data, split_variable)\n",
    "        for i in data.child:\n",
    "            i.depth = data.depth + 1\n",
    "               \n",
    "        for i in data.child:\n",
    "            if i.data['Y'].nunique() != 1:\n",
    "                self.fit(i, target)\n",
    "            \n",
    "    \n",
    "    def get_rules(self, model = None ,ruleList = None):\n",
    "        \"\"\"\n",
    "        Returns the rules for each leaf and the major class in the leaf\n",
    "        \"\"\"\n",
    "        if ruleList == None:\n",
    "            ruleList = []\n",
    "        if model == None:\n",
    "            model = self.root\n",
    "        ruleList.append(model.rule)\n",
    "        if model.child == None:\n",
    "            ruleList.append(model.data['Y'].mode()[0])\n",
    "            return print(ruleList[1:])\n",
    "        for i in model.child:\n",
    "            self.get_rules(i,ruleList.copy())\n",
    "            \n",
    "    def get_irrelevant_variable(self, irrelevant_variables, model = None ):\n",
    "        \"\"\"\n",
    "        Returns the count of irrelevant variables present in the decision tree\n",
    "        \"\"\" \n",
    "        if model == None:\n",
    "            model = self.root\n",
    "        if model.child == None:\n",
    "            return\n",
    "        for i in model.child:\n",
    "            if i.rule[0] in irrelevant_variables:\n",
    "                self.var.append(i.rule[0])\n",
    "            self.get_irrelevant_variable(irrelevant_variables,i)\n",
    "        return list(set(self.var))\n",
    "    \n",
    "\n",
    "    def _predict_row(self, model, row):\n",
    "        \"\"\"\n",
    "        This function returns the prediction for the a single sample of \n",
    "        data using the fitted data\n",
    "        \"\"\"\n",
    "        if model.child == None:\n",
    "            return(model.data['Y'].mode()[0])\n",
    "\n",
    "        variable = model.child[0].rule[0]\n",
    "        row_value = row[variable]\n",
    "        for i in model.child:\n",
    "            if i.rule[1] == row_value:\n",
    "                return self._predict_row(i, row)\n",
    "            \n",
    "    def predict(self, test):\n",
    "        \"\"\"\n",
    "        Predict funtion will take an input data and return the prediction\n",
    "        based on the fitted decision tree\n",
    "        \"\"\"\n",
    "        predicted_y = []\n",
    "        for i in test.iterrows():\n",
    "            x = i[1]\n",
    "            y = self._predict_row(self.root, x)\n",
    "            predicted_y.append(y)\n",
    "        return pd.Series(predicted_y)\n",
    "    \n",
    "    def training_error(self):\n",
    "        \"\"\"\n",
    "        Returns the training error of the  fitted decision tree\n",
    "        \"\"\"\n",
    "        predict_train = self.predict(self.root.data)\n",
    "        return (1 -sum(self.root.data['Y'] == predict_train)/ len(self.root.data))\n",
    "    \n",
    "    def error(self, test, target):\n",
    "        \"\"\"\n",
    "        Returns the training error of the  fitted decision tree\n",
    "        \"\"\"\n",
    "        predict_test = self.predict(test.drop(target, axis = 1))\n",
    "        return (1 -sum(test[target] == predict_test)/ len(test))"
   ]
  },
  {
   "cell_type": "code",
   "execution_count": 49,
   "metadata": {},
   "outputs": [],
   "source": [
    "def typical_error(model, test_data_size, simulations = 50):\n",
    "    \"\"\"\n",
    "    Generate error for similations for a generated test data and \n",
    "    given decision tree.\n",
    "    \"\"\"\n",
    "    error = []\n",
    "    for i in range(simulations):\n",
    "        test_data = data_generator(test_data_size)\n",
    "        predicted_y = model.predict(test_data)\n",
    "        error_current = 1 -(sum(test_data['Y'] == predicted_y)/ len(test_data))\n",
    "        error.append(error_current)\n",
    "    return error"
   ]
  },
  {
   "cell_type": "code",
   "execution_count": 50,
   "metadata": {},
   "outputs": [],
   "source": [
    "#Defining the repetitions values for generating m samples of training data\n",
    "start = 400\n",
    "end = 4000\n",
    "step = 100"
   ]
  },
  {
   "cell_type": "code",
   "execution_count": 51,
   "metadata": {},
   "outputs": [
    {
     "name": "stderr",
     "output_type": "stream",
     "text": [
      "\n",
      "\n",
      "\n",
      "  0%|                                                                                           | 0/36 [00:00<?, ?it/s]\n",
      "\n",
      "\n",
      "  3%|██▎                                                                                | 1/36 [00:12<07:08, 12.23s/it]\n",
      "\n",
      "\n",
      "  6%|████▌                                                                              | 2/36 [00:27<07:24, 13.09s/it]\n",
      "\n",
      "\n",
      "  8%|██████▉                                                                            | 3/36 [00:44<07:57, 14.46s/it]\n",
      "\n",
      "\n",
      " 11%|█████████▏                                                                         | 4/36 [00:58<07:38, 14.32s/it]\n",
      "\n",
      "\n",
      " 14%|███████████▌                                                                       | 5/36 [01:16<07:52, 15.24s/it]\n",
      "\n",
      "\n",
      " 17%|█████████████▊                                                                     | 6/36 [01:37<08:28, 16.95s/it]\n",
      "\n",
      "\n",
      " 19%|████████████████▏                                                                  | 7/36 [01:59<08:53, 18.41s/it]\n",
      "\n",
      "\n",
      " 22%|██████████████████▍                                                                | 8/36 [02:23<09:27, 20.26s/it]\n",
      "\n",
      "\n",
      " 25%|████████████████████▊                                                              | 9/36 [02:49<09:51, 21.92s/it]\n",
      "\n",
      "\n",
      " 28%|██████████████████████▊                                                           | 10/36 [03:15<10:05, 23.28s/it]\n",
      "\n",
      "\n",
      " 31%|█████████████████████████                                                         | 11/36 [03:40<09:54, 23.79s/it]\n",
      "\n",
      "\n",
      " 33%|███████████████████████████▎                                                      | 12/36 [04:04<09:29, 23.73s/it]\n",
      "\n",
      "\n",
      " 36%|█████████████████████████████▌                                                    | 13/36 [04:34<09:46, 25.51s/it]\n",
      "\n",
      "\n",
      " 39%|███████████████████████████████▉                                                  | 14/36 [04:59<09:21, 25.54s/it]\n",
      "\n",
      "\n",
      " 42%|██████████████████████████████████▏                                               | 15/36 [05:30<09:25, 26.95s/it]\n",
      "\n",
      "\n",
      " 44%|████████████████████████████████████▍                                             | 16/36 [06:01<09:24, 28.22s/it]\n",
      "\n",
      "\n",
      " 47%|██████████████████████████████████████▋                                           | 17/36 [06:39<09:51, 31.13s/it]\n",
      "\n",
      "\n",
      " 50%|█████████████████████████████████████████                                         | 18/36 [07:13<09:36, 32.05s/it]\n",
      "\n",
      "\n",
      " 53%|███████████████████████████████████████████▎                                      | 19/36 [07:45<09:04, 32.01s/it]\n",
      "\n",
      "\n",
      " 56%|█████████████████████████████████████████████▌                                    | 20/36 [08:22<08:55, 33.49s/it]\n",
      "\n",
      "\n",
      " 58%|███████████████████████████████████████████████▊                                  | 21/36 [08:54<08:16, 33.08s/it]\n",
      "\n",
      "\n",
      " 61%|██████████████████████████████████████████████████                                | 22/36 [09:25<07:34, 32.45s/it]\n",
      "\n",
      "\n",
      " 64%|████████████████████████████████████████████████████▍                             | 23/36 [10:00<07:14, 33.42s/it]\n",
      "\n",
      "\n",
      " 67%|██████████████████████████████████████████████████████▋                           | 24/36 [10:37<06:50, 34.23s/it]\n",
      "\n",
      "\n",
      " 69%|████████████████████████████████████████████████████████▉                         | 25/36 [11:14<06:27, 35.25s/it]\n",
      "\n",
      "\n",
      " 72%|███████████████████████████████████████████████████████████▏                      | 26/36 [11:51<05:56, 35.62s/it]\n",
      "\n",
      "\n",
      " 75%|█████████████████████████████████████████████████████████████▌                    | 27/36 [12:28<05:24, 36.07s/it]\n",
      "\n",
      "\n",
      " 78%|███████████████████████████████████████████████████████████████▊                  | 28/36 [13:02<04:44, 35.62s/it]\n",
      "\n",
      "\n",
      " 81%|██████████████████████████████████████████████████████████████████                | 29/36 [13:36<04:05, 35.08s/it]\n",
      "\n",
      "\n",
      " 83%|████████████████████████████████████████████████████████████████████▎             | 30/36 [14:14<03:35, 35.85s/it]\n",
      "\n",
      "\n",
      " 86%|██████████████████████████████████████████████████████████████████████▌           | 31/36 [14:48<02:56, 35.30s/it]\n",
      "\n",
      "\n",
      " 89%|████████████████████████████████████████████████████████████████████████▉         | 32/36 [15:25<02:23, 35.83s/it]\n",
      "\n",
      "\n",
      " 92%|███████████████████████████████████████████████████████████████████████████▏      | 33/36 [16:04<01:50, 36.75s/it]\n",
      "\n",
      "\n",
      " 94%|█████████████████████████████████████████████████████████████████████████████▍    | 34/36 [16:40<01:13, 36.72s/it]\n",
      "\n",
      "\n",
      " 97%|███████████████████████████████████████████████████████████████████████████████▋  | 35/36 [17:21<00:37, 37.73s/it]\n",
      "\n",
      "\n",
      "100%|██████████████████████████████████████████████████████████████████████████████████| 36/36 [18:02<00:00, 38.72s/it]\n",
      "\n",
      "\n"
     ]
    }
   ],
   "source": [
    "err_abs = []\n",
    "m = []\n",
    "for i in tqdm(range(start,end,step)):\n",
    "    data = data_generator(i)\n",
    "    dt = Decision_Tree_ID3()\n",
    "    dt.fit(data, 'Y')\n",
    "    err_f = typical_error(dt, 10)\n",
    "    err_final = sum(err_f)/len(err_f)\n",
    "    err_train = dt.training_error()\n",
    "    m.append(i)\n",
    "    #print( err_final, err_train)\n",
    "    err_abs.append(abs(err_final-err_train))"
   ]
  },
  {
   "cell_type": "code",
   "execution_count": 52,
   "metadata": {},
   "outputs": [
    {
     "data": {
      "text/plain": [
       "Text(0.5,1,'Marginal error vs the training size (m)')"
      ]
     },
     "execution_count": 52,
     "metadata": {},
     "output_type": "execute_result"
    },
    {
     "data": {
      "image/png": "[encoded data removed]",
      "text/plain": [
       "<Figure size 432x288 with 1 Axes>"
      ]
     },
     "metadata": {},
     "output_type": "display_data"
    }
   ],
   "source": [
    "sns.lineplot(m,err_abs)\n",
    "plt.xlabel(\"Training Size (m)\")\n",
    "plt.ylabel(\"Marginal Error\")\n",
    "plt.title(\"Marginal error vs the training size (m)\")"
   ]
  },
  {
   "cell_type": "markdown",
   "metadata": {},
   "source": [
    "We expect that the Margincal error to decrease as the m increase, as the decision tree get to see more data and learn more. This can also be seen in plot above."
   ]
  },
  {
   "cell_type": "markdown",
   "metadata": {},
   "source": [
    "### 2) Note that X15 through X20 are completely irrelevant to predicting the value of Y . For a range of m values, repeatedly generate data sets of that size and fit trees to that data, and estimate the average number of irrelevant variables that are included in the fit tree. How much data would you need, typically, to avoid fitting on this noise?"
   ]
  },
  {
   "cell_type": "code",
   "execution_count": 37,
   "metadata": {},
   "outputs": [],
   "source": [
    "irrelevant_variables = ['X15','X16','X17','X18','X19','X20']"
   ]
  },
  {
   "cell_type": "code",
   "execution_count": 40,
   "metadata": {},
   "outputs": [],
   "source": [
    "def avg_irr_var(size, irrelevant_variables = irrelevant_variables, model_simulations = 5):\n",
    "    out = []\n",
    "    for i in range(model_simulations):\n",
    "        tree = Decision_Tree_ID3()\n",
    "        data = data_generator(m = size)\n",
    "        tree.fit(data, 'Y')\n",
    "        out.append(len(tree.get_irrelevant_variable(irrelevant_variables= irrelevant_variables)))\n",
    "    return(sum(out)/len(out))"
   ]
  },
  {
   "cell_type": "code",
   "execution_count": 41,
   "metadata": {},
   "outputs": [
    {
     "name": "stderr",
     "output_type": "stream",
     "text": [
      "\n",
      "\n",
      "\n",
      "  0%|                                                                                            | 0/9 [00:00<?, ?it/s]\n",
      "\n",
      "\n",
      " 11%|█████████▎                                                                          | 1/9 [00:23<03:11, 23.92s/it]\n",
      "\n",
      "\n",
      " 22%|██████████████████▋                                                                 | 2/9 [01:33<04:22, 37.56s/it]\n",
      "\n",
      "\n",
      " 33%|████████████████████████████                                                        | 3/9 [03:18<05:47, 57.98s/it]\n",
      "\n",
      "\n",
      " 44%|█████████████████████████████████████▎                                              | 4/9 [06:00<07:25, 89.11s/it]\n",
      "\n",
      "\n",
      " 56%|██████████████████████████████████████████████                                     | 5/9 [09:53<08:48, 132.11s/it]\n",
      "\n",
      "\n",
      " 67%|███████████████████████████████████████████████████████▎                           | 6/9 [14:51<09:05, 181.93s/it]\n",
      "\n",
      "\n",
      " 78%|████████████████████████████████████████████████████████████████▌                  | 7/9 [21:54<08:28, 254.17s/it]\n",
      "\n",
      "\n",
      " 89%|█████████████████████████████████████████████████████████████████████████▊         | 8/9 [30:35<05:34, 334.22s/it]\n",
      "\n",
      "\n",
      "100%|███████████████████████████████████████████████████████████████████████████████████| 9/9 [41:46<00:00, 435.52s/it]\n",
      "\n",
      "\n"
     ]
    }
   ],
   "source": [
    "irv_m = [100,500,1000,2500,5000,10000,50000,100000,250000]\n",
    "irv_var_average = []\n",
    "for i in tqdm(irv_m):\n",
    "    irv_var_average.append(avg_irr_var(size = i))"
   ]
  },
  {
   "cell_type": "code",
   "execution_count": 43,
   "metadata": {},
   "outputs": [
    {
     "data": {
      "text/plain": [
       "Text(0.5,1,'Training size vs Avg Irrevelant Variables')"
      ]
     },
     "execution_count": 43,
     "metadata": {},
     "output_type": "execute_result"
    },
    {
     "data": {
      "image/png": "[encoded data removed]",
      "text/plain": [
       "<Figure size 432x288 with 1 Axes>"
      ]
     },
     "metadata": {},
     "output_type": "display_data"
    }
   ],
   "source": [
    "sns.lineplot(irv_m,irv_var_average)\n",
    "plt.xlabel(\"Training size\")\n",
    "plt.ylabel(\"Average Irrevelant Variables\")\n",
    "plt.title(\"Training size vs Avg Irrevelant Variables\")"
   ]
  },
  {
   "cell_type": "markdown",
   "metadata": {},
   "source": [
    "As we can see the average number of irrelevant variables decrease with increase in training data for the decision trees. Once the training data reaches 250000, the number of irrelevant variables reduces to 1.9, once the decision tree sees the complete data i.e. $ 2^{15} $ unique data points, the tree would likely understand that X15 to X20 are noise varaibles, and would avoid adding them as split variable"
   ]
  },
  {
   "cell_type": "markdown",
   "metadata": {},
   "source": [
    "### 3) Generate a data set of size m = 10000, and set aside 8000 points for training, and 2000 points for testing. The remaining questions should all be applied to this data set."
   ]
  },
  {
   "cell_type": "code",
   "execution_count": 19,
   "metadata": {},
   "outputs": [],
   "source": [
    "master_data = data_generator(10000)"
   ]
  },
  {
   "cell_type": "code",
   "execution_count": 20,
   "metadata": {},
   "outputs": [],
   "source": [
    "train = master_data.sample(frac=0.8,random_state=200)\n",
    "test = master_data.drop(train.index)\n",
    "\n",
    "train.reset_index(inplace= True, drop = True)\n",
    "test.reset_index(inplace= True, drop = True)"
   ]
  },
  {
   "cell_type": "markdown",
   "metadata": {},
   "source": [
    "### a) Pruning by Depth: \n",
    "#### Consider growing a tree as a process - running ID3 for instance until all splits up to depth d have been performed. Depth d = 0 should correspond to no decisions - a prediction for Y is made just on the raw frequencies of Y in the data. Plot, as a function of d, the error on the training set and the error on the test set for a tree grown to depth d. What does your data suggest as a good threshold depth?\n"
   ]
  },
  {
   "cell_type": "code",
   "execution_count": 10,
   "metadata": {},
   "outputs": [],
   "source": [
    "depth = list(range(1,22))\n",
    "training_error = []\n",
    "test_error = []\n",
    "for i in range(1,22):\n",
    "    tree = Decision_Tree_ID3(termination_depth= i)\n",
    "    tree.fit(train, 'Y')\n",
    "    training_error.append(tree.training_error())\n",
    "    test_error.append(tree.error(test, 'Y'))"
   ]
  },
  {
   "cell_type": "code",
   "execution_count": 28,
   "metadata": {},
   "outputs": [
    {
     "data": {
      "text/plain": [
       "<matplotlib.legend.Legend at 0x25c7bf5b668>"
      ]
     },
     "execution_count": 28,
     "metadata": {},
     "output_type": "execute_result"
    },
    {
     "data": {
      "image/png": "[encoded data removed]",
      "text/plain": [
       "<Figure size 432x288 with 1 Axes>"
      ]
     },
     "metadata": {},
     "output_type": "display_data"
    }
   ],
   "source": [
    "sns.lineplot(list(range(1,22)),training_error)\n",
    "plt.xlabel(\"Depth (d)\")\n",
    "plt.ylabel(\"Error\")\n",
    "plt.title(\"Training/Test Error vs Depth of the tree\")\n",
    "sns.lineplot(list(range(1,22)), test_error)\n",
    "plt.legend([\"Train Error\", \"Test Error\"])"
   ]
  },
  {
   "cell_type": "markdown",
   "metadata": {},
   "source": [
    "As expected the training decreases, as the model complexity i.e. depth in this case increases. After the depth reached 9, there is not really any improvement in error of Test data. So we can consider, depth = 9 as good threshold depth for this data."
   ]
  },
  {
   "cell_type": "markdown",
   "metadata": {},
   "source": [
    "### b) Pruning by Sample Size:\n",
    "\n",
    "#### The less data a split is performed on, the less ‘accurate’ we expect the result of that split to be. Let s be a threshold such that if the data available at a node in your decision tree is less than or equal to s, you do not split and instead decide Y by simple majority vote (ties broken by coin flip). Plot, as a function of s, the error on the training set and the error on the testing set for a tree split down to sample size s. What does your data suggest as a good sample size threshold?"
   ]
  },
  {
   "cell_type": "code",
   "execution_count": 71,
   "metadata": {},
   "outputs": [],
   "source": [
    "leaf_size = []\n",
    "training_error = []\n",
    "test_error = []\n",
    "for i in range(0,750, 25):\n",
    "    tree = Decision_Tree_ID3(min_leaf_size= i)\n",
    "    tree.fit(train, 'Y')\n",
    "    training_error.append(tree.training_error())\n",
    "    test_error.append(tree.error(test, 'Y'))\n",
    "    leaf_size.append(i)\n",
    "\n",
    "    \n",
    "leaf_size.reverse()\n",
    "training_error.reverse()\n",
    "test_error.reverse()"
   ]
  },
  {
   "cell_type": "code",
   "execution_count": 88,
   "metadata": {},
   "outputs": [
    {
     "data": {
      "text/plain": [
       "<matplotlib.legend.Legend at 0x25c7c1d1b70>"
      ]
     },
     "execution_count": 88,
     "metadata": {},
     "output_type": "execute_result"
    },
    {
     "data": {
      "image/png": "[encoded data removed]",
      "text/plain": [
       "<Figure size 432x288 with 1 Axes>"
      ]
     },
     "metadata": {},
     "output_type": "display_data"
    }
   ],
   "source": [
    "sns.lineplot(leaf_size,training_error)\n",
    "plt.xlabel(\"Minimum Leaf Size (s)\")\n",
    "plt.ylabel(\"Error\")\n",
    "plt.title(\"Training/Test Error vs Minimum Leaf Size\")\n",
    "sns.lineplot(leaf_size, test_error)\n",
    "plt.legend([\"Train Error\", \"Test Error\"])"
   ]
  },
  {
   "cell_type": "markdown",
   "metadata": {},
   "source": [
    "As expected the training error decreases, as the leaf size in this case increases. Model complexity is expected to decrease with increase in leaf size. After the leaf size reached 25, there is not really any improvement in error of Test data. So we can consider, minimun leaf size = 25 as good threshold for this data. However, the test error is really low i.e. less than 2% on fully grown tree, so we cannot really conclude on any minimum leaf size threshold."
   ]
  },
  {
   "cell_type": "markdown",
   "metadata": {},
   "source": [
    "### c) Pruning by Significance: \n",
    "\n",
    "#### If a variable X is independent of Y , then X has no value as a splitting variable. We can use something like the χ2 -test to estimate how likely a potential splitting variable is to be independent, based on the test statistic T compared to some threshold T0 (in the usual 2-outcome case, T0 = 3.841 is used to test at a significance level of p = 5% - see notes for more explanation). Given T0, if given the data for X the value of T is less than T0, it is deemed not significant and is not used for splitting. If given the data for X the value of T is greater than T0, it is deemed significant, and used for splitting. Plot, as a function of T0, the error on the training set and the error on the testing set for a tree split at significance threshold T0. What does your data suggest as a good threshold for significance?"
   ]
  },
  {
   "cell_type": "code",
   "execution_count": 22,
   "metadata": {},
   "outputs": [],
   "source": [
    "threshold2 = []\n",
    "training_error2 = []\n",
    "test_error2 = []\n",
    "for i in np.arange(0, 10, 0.5):\n",
    "    tree = Decision_Tree_ID3(sig_threshold = i)\n",
    "    tree.fit(train, 'Y')\n",
    "    training_error2.append(tree.training_error())\n",
    "    test_error2.append(tree.error(test, 'Y'))\n",
    "    threshold2.append(i)"
   ]
  },
  {
   "cell_type": "code",
   "execution_count": 23,
   "metadata": {},
   "outputs": [],
   "source": [
    "threshold = []\n",
    "training_error = []\n",
    "test_error = []\n",
    "for i in np.arange(10, 25, 2):\n",
    "    tree = Decision_Tree_ID3(sig_threshold = i)\n",
    "    tree.fit(train, 'Y')\n",
    "    training_error.append(tree.training_error())\n",
    "    test_error.append(tree.error(test, 'Y'))\n",
    "    threshold.append(i)"
   ]
  },
  {
   "cell_type": "code",
   "execution_count": 24,
   "metadata": {},
   "outputs": [],
   "source": [
    "thres_final = list(threshold2) + list(threshold)\n",
    "training_error_final = training_error2 + training_error\n",
    "test_error_final = test_error2 + test_error"
   ]
  },
  {
   "cell_type": "code",
   "execution_count": 25,
   "metadata": {},
   "outputs": [],
   "source": [
    "thres_final.reverse()\n",
    "training_error_final.reverse()\n",
    "test_error_final.reverse()"
   ]
  },
  {
   "cell_type": "code",
   "execution_count": 26,
   "metadata": {},
   "outputs": [
    {
     "data": {
      "text/plain": [
       "<matplotlib.legend.Legend at 0x28a402a1d68>"
      ]
     },
     "execution_count": 26,
     "metadata": {},
     "output_type": "execute_result"
    },
    {
     "data": {
      "image/png": "[encoded data removed]",
      "text/plain": [
       "<Figure size 432x288 with 1 Axes>"
      ]
     },
     "metadata": {},
     "output_type": "display_data"
    }
   ],
   "source": [
    "sns.lineplot(thres_final,training_error_final)\n",
    "plt.xlabel(\"Chi-square threshold (T)\")\n",
    "plt.ylabel(\"Error\")\n",
    "plt.title(\"Training/Test Error vs chi-square threshold T\")\n",
    "sns.lineplot(thres_final, test_error_final)\n",
    "plt.legend([\"Train Error\", \"Test Error\"])"
   ]
  },
  {
   "cell_type": "markdown",
   "metadata": {},
   "source": [
    "As we keep a higher threshold for chi-sqaure significance test, we see that most of the variable are not considered in the tree which results in increase of the training error and test error. Again since the error on the test error is really low, its difficult to decide on the the threshold. p= 5% (T = 3.841) seems to be a good threshold for now."
   ]
  },
  {
   "cell_type": "markdown",
   "metadata": {},
   "source": [
    "### 5) Repeat the computation of Problem 2, growing your trees only to depth d as chosen in 3.a. How does this change the likelihood or frequency of including spurious variables in your trees?\n"
   ]
  },
  {
   "cell_type": "code",
   "execution_count": 33,
   "metadata": {},
   "outputs": [],
   "source": [
    "d = 9"
   ]
  },
  {
   "cell_type": "code",
   "execution_count": 34,
   "metadata": {},
   "outputs": [],
   "source": [
    "def avg_irr_var_new(m, irrelevant_variables = irrelevant_variables, model_simulations = 5):\n",
    "    out = []\n",
    "    for i in tqdm(range(model_simulations)):\n",
    "        data = data_generator(m)\n",
    "        tree = Decision_Tree_ID3(termination_depth= d)\n",
    "        tree.fit(data, 'Y')\n",
    "        out.append(len(tree.get_irrelevant_variable(irrelevant_variables= irrelevant_variables)))\n",
    "    return(sum(out)/len(out))"
   ]
  },
  {
   "cell_type": "code",
   "execution_count": 35,
   "metadata": {},
   "outputs": [
    {
     "name": "stderr",
     "output_type": "stream",
     "text": [
      "\n",
      "\n",
      "  0%|                                                                                            | 0/8 [00:00<?, ?it/s]\n",
      "\n",
      "\n",
      "  0%|                                                                                            | 0/5 [00:00<?, ?it/s]\n",
      "\n",
      "\n",
      " 20%|████████████████▊                                                                   | 1/5 [00:03<00:14,  3.67s/it]\n",
      "\n",
      "\n",
      " 40%|█████████████████████████████████▌                                                  | 2/5 [00:08<00:12,  4.05s/it]\n",
      "\n",
      "\n",
      " 60%|██████████████████████████████████████████████████▍                                 | 3/5 [00:13<00:08,  4.35s/it]\n",
      "\n",
      "\n",
      " 80%|███████████████████████████████████████████████████████████████████▏                | 4/5 [00:18<00:04,  4.48s/it]\n",
      "\n",
      "\n",
      "100%|████████████████████████████████████████████████████████████████████████████████████| 5/5 [00:23<00:00,  4.67s/it]\n",
      "\n",
      "\n",
      "\n",
      "\n",
      " 12%|██████████▌                                                                         | 1/8 [00:23<02:44, 23.57s/it]\n",
      "\n",
      "\n",
      "  0%|                                                                                            | 0/5 [00:00<?, ?it/s]\n",
      "\n",
      "\n",
      " 20%|████████████████▊                                                                   | 1/5 [00:13<00:55, 13.78s/it]\n",
      "\n",
      "\n",
      " 40%|█████████████████████████████████▌                                                  | 2/5 [00:26<00:40, 13.49s/it]\n",
      "\n",
      "\n",
      " 60%|██████████████████████████████████████████████████▍                                 | 3/5 [00:40<00:27, 13.53s/it]\n",
      "\n",
      "\n",
      " 80%|███████████████████████████████████████████████████████████████████▏                | 4/5 [00:52<00:13, 13.29s/it]\n",
      "\n",
      "\n",
      "100%|████████████████████████████████████████████████████████████████████████████████████| 5/5 [01:07<00:00, 13.66s/it]\n",
      "\n",
      "\n",
      "\n",
      "\n",
      " 25%|█████████████████████                                                               | 2/8 [01:31<03:40, 36.74s/it]\n",
      "\n",
      "\n",
      "  0%|                                                                                            | 0/5 [00:00<?, ?it/s]\n",
      "\n",
      "\n",
      " 20%|████████████████▊                                                                   | 1/5 [00:22<01:29, 22.44s/it]\n",
      "\n",
      "\n",
      " 40%|█████████████████████████████████▌                                                  | 2/5 [00:43<01:06, 22.09s/it]\n",
      "\n",
      "\n",
      " 60%|██████████████████████████████████████████████████▍                                 | 3/5 [01:02<00:42, 21.22s/it]\n",
      "\n",
      "\n",
      " 80%|███████████████████████████████████████████████████████████████████▏                | 4/5 [01:23<00:20, 20.96s/it]\n",
      "\n",
      "\n",
      "100%|████████████████████████████████████████████████████████████████████████████████████| 5/5 [01:41<00:00, 20.08s/it]\n",
      "\n",
      "\n",
      "\n",
      "\n",
      " 38%|███████████████████████████████▌                                                    | 3/8 [03:12<04:40, 56.11s/it]\n",
      "\n",
      "\n",
      "  0%|                                                                                            | 0/5 [00:00<?, ?it/s]\n",
      "\n",
      "\n",
      " 20%|████████████████▊                                                                   | 1/5 [00:32<02:08, 32.11s/it]\n",
      "\n",
      "\n",
      " 40%|█████████████████████████████████▌                                                  | 2/5 [01:06<01:38, 32.67s/it]\n",
      "\n",
      "\n",
      " 60%|██████████████████████████████████████████████████▍                                 | 3/5 [01:40<01:06, 33.19s/it]\n",
      "\n",
      "\n",
      " 80%|███████████████████████████████████████████████████████████████████▏                | 4/5 [02:10<00:32, 32.19s/it]\n",
      "\n",
      "\n",
      "100%|████████████████████████████████████████████████████████████████████████████████████| 5/5 [02:42<00:00, 32.08s/it]\n",
      "\n",
      "\n",
      "\n",
      "\n",
      " 50%|██████████████████████████████████████████                                          | 4/8 [05:54<05:51, 87.93s/it]\n",
      "\n",
      "\n",
      "  0%|                                                                                            | 0/5 [00:00<?, ?it/s]\n",
      "\n",
      "\n",
      " 20%|████████████████▊                                                                   | 1/5 [00:42<02:49, 42.28s/it]\n",
      "\n",
      "\n",
      " 40%|█████████████████████████████████▌                                                  | 2/5 [01:25<02:08, 42.70s/it]\n",
      "\n",
      "\n",
      " 60%|██████████████████████████████████████████████████▍                                 | 3/5 [02:08<01:25, 42.76s/it]\n",
      "\n",
      "\n",
      " 80%|███████████████████████████████████████████████████████████████████▏                | 4/5 [02:51<00:42, 42.70s/it]\n",
      "\n",
      "\n",
      "100%|████████████████████████████████████████████████████████████████████████████████████| 5/5 [03:34<00:00, 42.73s/it]\n",
      "\n",
      "\n",
      "\n",
      "\n",
      " 62%|███████████████████████████████████████████████████▉                               | 5/8 [09:28<06:17, 125.82s/it]\n",
      "\n",
      "\n",
      "  0%|                                                                                            | 0/5 [00:00<?, ?it/s]\n",
      "\n",
      "\n",
      " 20%|████████████████▊                                                                   | 1/5 [00:54<03:36, 54.23s/it]\n",
      "\n",
      "\n",
      " 40%|█████████████████████████████████▌                                                  | 2/5 [01:48<02:42, 54.20s/it]\n",
      "\n",
      "\n",
      " 60%|██████████████████████████████████████████████████▍                                 | 3/5 [02:50<01:53, 56.72s/it]\n",
      "\n",
      "\n",
      " 80%|███████████████████████████████████████████████████████████████████▏                | 4/5 [03:48<00:57, 57.06s/it]\n",
      "\n",
      "\n",
      "100%|████████████████████████████████████████████████████████████████████████████████████| 5/5 [04:48<00:00, 57.79s/it]\n",
      "\n",
      "\n",
      "\n",
      "\n",
      " 75%|██████████████████████████████████████████████████████████████▎                    | 6/8 [14:17<05:49, 174.58s/it]\n",
      "\n",
      "\n",
      "  0%|                                                                                            | 0/5 [00:00<?, ?it/s]\n",
      "\n",
      "\n",
      " 20%|████████████████▊                                                                   | 1/5 [01:21<05:27, 81.85s/it]\n",
      "\n",
      "\n",
      " 40%|█████████████████████████████████▌                                                  | 2/5 [02:42<04:04, 81.57s/it]\n",
      "\n",
      "\n",
      " 60%|██████████████████████████████████████████████████▍                                 | 3/5 [04:05<02:43, 81.88s/it]\n",
      "\n",
      "\n",
      " 80%|███████████████████████████████████████████████████████████████████▏                | 4/5 [05:28<01:22, 82.18s/it]\n",
      "\n",
      "\n",
      "100%|████████████████████████████████████████████████████████████████████████████████████| 5/5 [06:45<00:00, 80.82s/it]\n",
      "\n",
      "\n",
      "\n",
      "\n",
      " 88%|████████████████████████████████████████████████████████████████████████▋          | 7/8 [21:03<04:03, 243.97s/it]\n",
      "\n",
      "\n",
      "  0%|                                                                                            | 0/5 [00:00<?, ?it/s]\n",
      "\n",
      "\n",
      " 20%|████████████████▊                                                                   | 1/5 [01:34<06:17, 94.43s/it]\n",
      "\n",
      "\n",
      " 40%|█████████████████████████████████▌                                                  | 2/5 [03:07<04:42, 94.13s/it]\n",
      "\n",
      "\n",
      " 60%|██████████████████████████████████████████████████▍                                 | 3/5 [04:43<03:08, 94.48s/it]\n",
      "\n",
      "\n",
      " 80%|███████████████████████████████████████████████████████████████████▏                | 4/5 [06:23<01:36, 96.32s/it]\n",
      "\n",
      "\n",
      "100%|████████████████████████████████████████████████████████████████████████████████████| 5/5 [08:01<00:00, 96.60s/it]\n",
      "\n",
      "\n",
      "\n",
      "\n",
      "100%|███████████████████████████████████████████████████████████████████████████████████| 8/8 [29:04<00:00, 315.10s/it]\n",
      "\n"
     ]
    }
   ],
   "source": [
    "depth_irv = [100,500,1000,2500,5000,10000,50000,100000]\n",
    "irv_var_d = []\n",
    "for i in tqdm(depth_irv):\n",
    "    irv_var_d.append(avg_irr_var_new(i))"
   ]
  },
  {
   "cell_type": "code",
   "execution_count": 44,
   "metadata": {
    "scrolled": true
   },
   "outputs": [
    {
     "data": {
      "text/plain": [
       "Text(0.5,1,'Sample Size vs Average Irrevelant Variables w Depth Pruning')"
      ]
     },
     "execution_count": 44,
     "metadata": {},
     "output_type": "execute_result"
    },
    {
     "data": {
      "image/png": "[encoded data removed]",
      "text/plain": [
       "<Figure size 432x288 with 1 Axes>"
      ]
     },
     "metadata": {},
     "output_type": "display_data"
    }
   ],
   "source": [
    "sns.lineplot(depth_irv,irv_var_d)\n",
    "plt.xlabel(\"Sample Size\")\n",
    "plt.ylabel(\"Average Irrevelant Variables\")\n",
    "plt.title(\"Sample Size vs Average Irrevelant Variables w Depth Pruning\")"
   ]
  },
  {
   "cell_type": "markdown",
   "metadata": {},
   "source": [
    "Post assigning pruning conditions of depth = 9, we see that average of number of spurious variables included in the tree reduces as compared to a fully grown tree."
   ]
  },
  {
   "cell_type": "markdown",
   "metadata": {},
   "source": [
    "### 6) Repeat the computation of Problem 2, splitting your trees only to sample size s as chosen in 3.b. How does this change the likelihood or frequency of including spurious variables in your trees?"
   ]
  },
  {
   "cell_type": "code",
   "execution_count": 12,
   "metadata": {},
   "outputs": [],
   "source": [
    "def avg_irr_var_new(m, irrelevant_variables = irrelevant_variables, model_simulations = 5):\n",
    "    out = []\n",
    "    for i in tqdm(range(model_simulations)):\n",
    "        data = data_generator(m)\n",
    "        tree = Decision_Tree_ID3(min_leaf_size = 50)\n",
    "        tree.fit(data, 'Y')\n",
    "        out.append(len(tree.get_irrelevant_variable(irrelevant_variables= irrelevant_variables)))\n",
    "    return(sum(out)/len(out))"
   ]
  },
  {
   "cell_type": "code",
   "execution_count": 13,
   "metadata": {},
   "outputs": [
    {
     "name": "stderr",
     "output_type": "stream",
     "text": [
      "  0%|                                                                                            | 0/8 [00:00<?, ?it/s]\n",
      "  0%|                                                                                            | 0/5 [00:00<?, ?it/s]\n",
      " 20%|████████████████▊                                                                   | 1/5 [00:01<00:04,  1.05s/it]\n",
      " 40%|█████████████████████████████████▌                                                  | 2/5 [00:02<00:03,  1.06s/it]\n",
      " 60%|██████████████████████████████████████████████████▍                                 | 3/5 [00:02<00:01,  1.07it/s]\n",
      " 80%|███████████████████████████████████████████████████████████████████▏                | 4/5 [00:03<00:01,  1.02s/it]\n",
      "100%|████████████████████████████████████████████████████████████████████████████████████| 5/5 [00:05<00:00,  1.05s/it]\n",
      " 12%|██████████▌                                                                         | 1/8 [00:05<00:35,  5.12s/it]\n",
      "  0%|                                                                                            | 0/5 [00:00<?, ?it/s]\n",
      " 20%|████████████████▊                                                                   | 1/5 [00:04<00:19,  4.92s/it]\n",
      " 40%|█████████████████████████████████▌                                                  | 2/5 [00:10<00:15,  5.23s/it]\n",
      " 60%|██████████████████████████████████████████████████▍                                 | 3/5 [00:15<00:09,  4.96s/it]\n",
      " 80%|███████████████████████████████████████████████████████████████████▏                | 4/5 [00:20<00:05,  5.07s/it]\n",
      "100%|████████████████████████████████████████████████████████████████████████████████████| 5/5 [00:26<00:00,  5.21s/it]\n",
      " 25%|█████████████████████                                                               | 2/8 [00:31<01:08, 11.41s/it]\n",
      "  0%|                                                                                            | 0/5 [00:00<?, ?it/s]\n",
      " 20%|████████████████▊                                                                   | 1/5 [00:09<00:36,  9.04s/it]\n",
      " 40%|█████████████████████████████████▌                                                  | 2/5 [00:17<00:26,  8.95s/it]\n",
      " 60%|██████████████████████████████████████████████████▍                                 | 3/5 [00:26<00:18,  9.02s/it]\n",
      " 80%|███████████████████████████████████████████████████████████████████▏                | 4/5 [00:36<00:09,  9.11s/it]\n",
      "100%|████████████████████████████████████████████████████████████████████████████████████| 5/5 [00:45<00:00,  9.17s/it]\n",
      " 38%|███████████████████████████████▌                                                    | 3/8 [01:16<01:48, 21.66s/it]\n",
      "  0%|                                                                                            | 0/5 [00:00<?, ?it/s]\n",
      " 20%|████████████████▊                                                                   | 1/5 [00:19<01:16, 19.10s/it]\n",
      " 40%|█████████████████████████████████▌                                                  | 2/5 [00:39<00:58, 19.41s/it]\n",
      " 60%|██████████████████████████████████████████████████▍                                 | 3/5 [00:56<00:37, 18.86s/it]\n",
      " 80%|███████████████████████████████████████████████████████████████████▏                | 4/5 [01:17<00:19, 19.33s/it]\n",
      "100%|████████████████████████████████████████████████████████████████████████████████████| 5/5 [01:35<00:00, 18.98s/it]\n",
      " 50%|██████████████████████████████████████████                                          | 4/8 [02:52<02:55, 43.79s/it]\n",
      "  0%|                                                                                            | 0/5 [00:00<?, ?it/s]\n",
      " 20%|████████████████▊                                                                   | 1/5 [00:27<01:49, 27.26s/it]\n",
      " 40%|█████████████████████████████████▌                                                  | 2/5 [00:55<01:22, 27.42s/it]\n",
      " 60%|██████████████████████████████████████████████████▍                                 | 3/5 [01:23<00:55, 27.62s/it]\n",
      " 80%|███████████████████████████████████████████████████████████████████▏                | 4/5 [01:51<00:27, 27.90s/it]\n",
      "100%|████████████████████████████████████████████████████████████████████████████████████| 5/5 [02:17<00:00, 27.36s/it]\n",
      " 62%|████████████████████████████████████████████████████▌                               | 5/8 [05:10<03:35, 71.99s/it]\n",
      "  0%|                                                                                            | 0/5 [00:00<?, ?it/s]\n",
      " 20%|████████████████▊                                                                   | 1/5 [00:40<02:42, 40.60s/it]\n",
      " 40%|█████████████████████████████████▌                                                  | 2/5 [01:20<02:00, 40.28s/it]\n",
      " 60%|██████████████████████████████████████████████████▍                                 | 3/5 [02:02<01:21, 40.80s/it]\n",
      " 80%|███████████████████████████████████████████████████████████████████▏                | 4/5 [02:40<00:40, 40.17s/it]\n",
      "100%|████████████████████████████████████████████████████████████████████████████████████| 5/5 [03:22<00:00, 40.50s/it]\n",
      " 75%|██████████████████████████████████████████████████████████████▎                    | 6/8 [08:32<03:42, 111.03s/it]\n",
      "  0%|                                                                                            | 0/5 [00:00<?, ?it/s]\n",
      " 20%|████████████████▊                                                                   | 1/5 [01:19<05:16, 79.08s/it]\n",
      " 40%|█████████████████████████████████▌                                                  | 2/5 [02:33<03:52, 77.53s/it]\n",
      " 60%|██████████████████████████████████████████████████▍                                 | 3/5 [03:45<02:32, 76.15s/it]\n",
      " 80%|███████████████████████████████████████████████████████████████████▏                | 4/5 [05:04<01:16, 76.98s/it]\n",
      "100%|████████████████████████████████████████████████████████████████████████████████████| 5/5 [06:20<00:00, 76.69s/it]\n",
      " 88%|████████████████████████████████████████████████████████████████████████▋          | 7/8 [14:53<03:11, 191.99s/it]\n",
      "  0%|                                                                                            | 0/5 [00:00<?, ?it/s]\n",
      " 20%|████████████████▌                                                                  | 1/5 [01:42<06:51, 102.86s/it]\n",
      " 40%|█████████████████████████████████▏                                                 | 2/5 [03:23<05:06, 102.13s/it]\n",
      " 60%|██████████████████████████████████████████████████▍                                 | 3/5 [04:57<03:19, 99.83s/it]\n",
      " 80%|███████████████████████████████████████████████████████████████████▏                | 4/5 [06:26<01:36, 96.57s/it]\n",
      "100%|████████████████████████████████████████████████████████████████████████████████████| 5/5 [07:58<00:00, 95.10s/it]\n",
      "100%|███████████████████████████████████████████████████████████████████████████████████| 8/8 [22:51<00:00, 277.92s/it]\n"
     ]
    }
   ],
   "source": [
    "leaf_size_irv = [100,500,1000,2500,5000,10000,50000,100000]\n",
    "irv_var_ls = []\n",
    "for i in tqdm(leaf_size_irv):\n",
    "    irv_var_ls.append(avg_irr_var_new(m = i))"
   ]
  },
  {
   "cell_type": "code",
   "execution_count": 15,
   "metadata": {},
   "outputs": [
    {
     "data": {
      "text/plain": [
       "Text(0.5,1,'Training size vs Avg Irrevelant Variables w/ leaf size pruning')"
      ]
     },
     "execution_count": 15,
     "metadata": {},
     "output_type": "execute_result"
    },
    {
     "data": {
      "image/png": "[encoded data removed]",
      "text/plain": [
       "<Figure size 432x288 with 1 Axes>"
      ]
     },
     "metadata": {},
     "output_type": "display_data"
    }
   ],
   "source": [
    "sns.lineplot(leaf_size_irv,irv_var_ls)\n",
    "plt.xlabel(\"Training size\")\n",
    "plt.ylabel(\"Average Irrevelant Variables\")\n",
    "plt.title(\"Training size vs Avg Irrevelant Variables w/ leaf size pruning\")"
   ]
  },
  {
   "cell_type": "markdown",
   "metadata": {},
   "source": [
    "Post assigning pruning conditions of min leaf size = 50, we see that average of number of spurious variables included in the tree reduces as compared to a fully grown tree. They follow as decreasing trend as m increase which is as expected."
   ]
  },
  {
   "cell_type": "markdown",
   "metadata": {},
   "source": [
    "### 7) Repeat the computation of Problem 2, splitting your trees only at or above threshold level T0 as chosen in 3.c.How does this change the likelihood or frequency of including spurious variables in your trees?"
   ]
  },
  {
   "cell_type": "code",
   "execution_count": 13,
   "metadata": {},
   "outputs": [],
   "source": [
    "def avg_irr_var_new(m, irrelevant_variables = irrelevant_variables, model_simulations = 8):\n",
    "    out = []\n",
    "    for i in tqdm(range(model_simulations)):\n",
    "        data = data_generator(m)\n",
    "        tree = Decision_Tree_ID3(sig_threshold = 3.841)\n",
    "        tree.fit(data, 'Y')\n",
    "        out.append(len(tree.get_irrelevant_variable(irrelevant_variables= irrelevant_variables)))\n",
    "    return(sum(out)/len(out))"
   ]
  },
  {
   "cell_type": "code",
   "execution_count": 14,
   "metadata": {},
   "outputs": [
    {
     "name": "stderr",
     "output_type": "stream",
     "text": [
      "  0%|                                                                                            | 0/9 [00:00<?, ?it/s]\n",
      "  0%|                                                                                            | 0/8 [00:00<?, ?it/s]\n",
      " 12%|██████████▌                                                                         | 1/8 [00:04<00:29,  4.20s/it]\n",
      " 25%|█████████████████████                                                               | 2/8 [00:08<00:24,  4.17s/it]\n",
      " 38%|███████████████████████████████▌                                                    | 3/8 [00:11<00:19,  3.94s/it]\n",
      " 50%|██████████████████████████████████████████                                          | 4/8 [00:16<00:16,  4.10s/it]\n",
      " 62%|████████████████████████████████████████████████████▌                               | 5/8 [00:20<00:12,  4.03s/it]\n",
      " 75%|███████████████████████████████████████████████████████████████                     | 6/8 [00:23<00:07,  3.91s/it]\n",
      " 88%|█████████████████████████████████████████████████████████████████████████▌          | 7/8 [00:26<00:03,  3.72s/it]\n",
      "100%|████████████████████████████████████████████████████████████████████████████████████| 8/8 [00:30<00:00,  3.74s/it]\n",
      " 11%|█████████▎                                                                          | 1/9 [00:30<04:05, 30.73s/it]\n",
      "  0%|                                                                                            | 0/8 [00:00<?, ?it/s]\n",
      " 12%|██████████▌                                                                         | 1/8 [00:09<01:05,  9.34s/it]\n",
      " 25%|█████████████████████                                                               | 2/8 [00:23<01:04, 10.75s/it]\n",
      " 38%|███████████████████████████████▌                                                    | 3/8 [00:33<00:52, 10.57s/it]\n",
      " 50%|██████████████████████████████████████████                                          | 4/8 [00:46<00:45, 11.32s/it]\n",
      " 62%|████████████████████████████████████████████████████▌                               | 5/8 [01:01<00:36, 12.31s/it]\n",
      " 75%|███████████████████████████████████████████████████████████████                     | 6/8 [01:13<00:24, 12.40s/it]\n",
      " 88%|█████████████████████████████████████████████████████████████████████████▌          | 7/8 [01:26<00:12, 12.36s/it]\n",
      "100%|████████████████████████████████████████████████████████████████████████████████████| 8/8 [01:37<00:00, 12.14s/it]\n",
      " 22%|██████████████████▋                                                                 | 2/9 [02:08<05:55, 50.83s/it]\n",
      "  0%|                                                                                            | 0/8 [00:00<?, ?it/s]\n",
      " 12%|██████████▌                                                                         | 1/8 [00:16<01:52, 16.12s/it]\n",
      " 25%|█████████████████████                                                               | 2/8 [00:34<01:40, 16.74s/it]\n",
      " 38%|███████████████████████████████▌                                                    | 3/8 [00:50<01:23, 16.69s/it]\n",
      " 50%|██████████████████████████████████████████                                          | 4/8 [01:08<01:07, 16.82s/it]\n",
      " 62%|████████████████████████████████████████████████████▌                               | 5/8 [01:25<00:50, 16.96s/it]\n",
      " 75%|███████████████████████████████████████████████████████████████                     | 6/8 [01:44<00:35, 17.64s/it]\n",
      " 88%|█████████████████████████████████████████████████████████████████████████▌          | 7/8 [02:02<00:17, 17.87s/it]\n",
      "100%|████████████████████████████████████████████████████████████████████████████████████| 8/8 [02:22<00:00, 18.31s/it]\n",
      " 33%|████████████████████████████                                                        | 3/9 [04:30<07:49, 78.26s/it]\n",
      "  0%|                                                                                            | 0/8 [00:00<?, ?it/s]\n",
      " 12%|██████████▌                                                                         | 1/8 [00:31<03:40, 31.46s/it]\n",
      " 25%|█████████████████████                                                               | 2/8 [01:02<03:07, 31.29s/it]\n",
      " 38%|███████████████████████████████▌                                                    | 3/8 [01:32<02:34, 30.96s/it]\n",
      " 50%|██████████████████████████████████████████                                          | 4/8 [02:05<02:06, 31.69s/it]\n",
      " 62%|████████████████████████████████████████████████████▌                               | 5/8 [02:39<01:36, 32.24s/it]\n",
      " 75%|███████████████████████████████████████████████████████████████                     | 6/8 [03:15<01:06, 33.39s/it]\n",
      " 88%|█████████████████████████████████████████████████████████████████████████▌          | 7/8 [03:45<00:32, 32.29s/it]\n",
      "100%|████████████████████████████████████████████████████████████████████████████████████| 8/8 [04:19<00:00, 32.84s/it]\n",
      " 44%|████████████████████████████████████▉                                              | 4/9 [08:50<11:02, 132.59s/it]\n",
      "  0%|                                                                                            | 0/8 [00:00<?, ?it/s]\n",
      " 12%|██████████▌                                                                         | 1/8 [00:43<05:06, 43.83s/it]\n",
      " 25%|█████████████████████                                                               | 2/8 [01:26<04:21, 43.50s/it]\n",
      " 38%|███████████████████████████████▌                                                    | 3/8 [02:08<03:35, 43.17s/it]\n",
      " 50%|██████████████████████████████████████████                                          | 4/8 [02:51<02:52, 43.03s/it]\n",
      " 62%|████████████████████████████████████████████████████▌                               | 5/8 [03:35<02:10, 43.34s/it]\n",
      " 75%|███████████████████████████████████████████████████████████████                     | 6/8 [04:17<01:25, 42.76s/it]\n",
      " 88%|█████████████████████████████████████████████████████████████████████████▌          | 7/8 [05:04<00:44, 44.27s/it]\n",
      "100%|████████████████████████████████████████████████████████████████████████████████████| 8/8 [05:47<00:00, 43.82s/it]\n",
      " 56%|██████████████████████████████████████████████                                     | 5/9 [14:37<13:08, 197.13s/it]\n",
      "  0%|                                                                                            | 0/8 [00:00<?, ?it/s]\n",
      " 12%|██████████▌                                                                         | 1/8 [00:59<06:59, 59.88s/it]\n",
      " 25%|█████████████████████                                                               | 2/8 [02:00<06:01, 60.19s/it]\n",
      " 38%|███████████████████████████████▌                                                    | 3/8 [02:58<04:57, 59.53s/it]\n",
      " 50%|██████████████████████████████████████████                                          | 4/8 [03:57<03:57, 59.27s/it]\n",
      " 62%|████████████████████████████████████████████████████▌                               | 5/8 [04:53<02:55, 58.38s/it]\n",
      " 75%|███████████████████████████████████████████████████████████████                     | 6/8 [05:43<01:51, 55.79s/it]\n",
      " 88%|█████████████████████████████████████████████████████████████████████████▌          | 7/8 [06:41<00:56, 56.36s/it]\n",
      "100%|████████████████████████████████████████████████████████████████████████████████████| 8/8 [07:32<00:00, 54.80s/it]\n",
      " 67%|███████████████████████████████████████████████████████▎                           | 6/9 [22:10<13:41, 273.70s/it]\n",
      "  0%|                                                                                            | 0/8 [00:00<?, ?it/s]\n",
      " 12%|██████████▌                                                                         | 1/8 [01:25<09:55, 85.14s/it]\n",
      " 25%|█████████████████████                                                               | 2/8 [02:54<08:38, 86.50s/it]\n",
      " 38%|███████████████████████████████▌                                                    | 3/8 [04:17<07:06, 85.33s/it]\n",
      " 50%|██████████████████████████████████████████                                          | 4/8 [05:46<05:45, 86.47s/it]\n",
      " 62%|████████████████████████████████████████████████████▌                               | 5/8 [07:16<04:22, 87.51s/it]\n",
      " 75%|███████████████████████████████████████████████████████████████                     | 6/8 [08:42<02:54, 87.10s/it]\n",
      " 88%|█████████████████████████████████████████████████████████████████████████▌          | 7/8 [10:02<01:24, 84.83s/it]\n",
      "100%|████████████████████████████████████████████████████████████████████████████████████| 8/8 [11:21<00:00, 83.23s/it]\n",
      " 78%|████████████████████████████████████████████████████████████████▌                  | 7/9 [33:31<13:12, 396.09s/it]\n",
      "  0%|                                                                                            | 0/8 [00:00<?, ?it/s]\n",
      " 12%|██████████▌                                                                         | 1/8 [01:29<10:25, 89.38s/it]\n",
      " 25%|█████████████████████                                                               | 2/8 [03:03<09:04, 90.83s/it]\n",
      " 38%|███████████████████████████████▌                                                    | 3/8 [04:34<07:34, 90.94s/it]\n",
      " 50%|██████████████████████████████████████████                                          | 4/8 [06:08<06:07, 91.79s/it]\n",
      " 62%|████████████████████████████████████████████████████▌                               | 5/8 [07:47<04:42, 94.01s/it]\n",
      " 75%|███████████████████████████████████████████████████████████████                     | 6/8 [09:12<03:02, 91.20s/it]\n",
      " 88%|█████████████████████████████████████████████████████████████████████████▌          | 7/8 [10:43<01:31, 91.19s/it]\n",
      "100%|████████████████████████████████████████████████████████████████████████████████████| 8/8 [12:18<00:00, 92.43s/it]\n",
      " 89%|█████████████████████████████████████████████████████████████████████████▊         | 8/9 [45:50<08:18, 498.94s/it]\n",
      "  0%|                                                                                            | 0/8 [00:00<?, ?it/s]\n",
      " 12%|██████████▍                                                                        | 1/8 [01:42<11:55, 102.16s/it]\n",
      " 25%|█████████████████████                                                               | 2/8 [03:15<09:57, 99.55s/it]\n",
      " 38%|███████████████████████████████▌                                                    | 3/8 [04:50<08:11, 98.29s/it]\n",
      " 50%|██████████████████████████████████████████                                          | 4/8 [06:27<06:30, 97.73s/it]\n",
      " 62%|████████████████████████████████████████████████████▌                               | 5/8 [08:02<04:50, 96.93s/it]\n",
      " 75%|███████████████████████████████████████████████████████████████                     | 6/8 [09:35<03:11, 95.65s/it]\n",
      " 88%|█████████████████████████████████████████████████████████████████████████▌          | 7/8 [11:16<01:37, 97.46s/it]\n",
      "100%|████████████████████████████████████████████████████████████████████████████████████| 8/8 [12:59<00:00, 99.08s/it]\n",
      "100%|███████████████████████████████████████████████████████████████████████████████████| 9/9 [58:50<00:00, 583.16s/it]\n"
     ]
    }
   ],
   "source": [
    "avg_irre_var_t = []\n",
    "m_t = [100,500,1000,2500,5000,10000,50000,75000,100000]\n",
    "for i in tqdm(m_t):\n",
    "    avg_irre_var_t.append(avg_irr_var_new(i))"
   ]
  },
  {
   "cell_type": "code",
   "execution_count": 16,
   "metadata": {},
   "outputs": [
    {
     "data": {
      "text/plain": [
       "Text(0.5,1,'Training data size vs Average Irrevelant Variables w Chi_square T')"
      ]
     },
     "execution_count": 16,
     "metadata": {},
     "output_type": "execute_result"
    },
    {
     "data": {
      "image/png": "[encoded data removed]",
      "text/plain": [
       "<Figure size 432x288 with 1 Axes>"
      ]
     },
     "metadata": {},
     "output_type": "display_data"
    }
   ],
   "source": [
    "sns.lineplot(m_t,avg_irre_var_t)\n",
    "plt.xlabel(\"Training data size\")\n",
    "plt.ylabel(\"Average Irrevelant Variables\")\n",
    "plt.title(\"Training data size vs Average Irrevelant Variables w Chi_square T\")"
   ]
  },
  {
   "cell_type": "markdown",
   "metadata": {},
   "source": [
    "Post assigning pruning conditions of significa threshold = 3.841, we see that average of number of spurious variables included in the tree reduces as compared to a fully grown tree. They follow as decreasing trend as m increase which is as expected."
   ]
  }
 ],
 "metadata": {
  "kernelspec": {
   "display_name": "Python 3",
   "language": "python",
   "name": "python3"
  },
  "language_info": {
   "codemirror_mode": {
    "name": "ipython",
    "version": 3
   },
   "file_extension": ".py",
   "mimetype": "text/x-python",
   "name": "python",
   "nbconvert_exporter": "python",
   "pygments_lexer": "ipython3",
   "version": "3.6.5"
  }
 },
 "nbformat": 4,
 "nbformat_minor": 2
}
