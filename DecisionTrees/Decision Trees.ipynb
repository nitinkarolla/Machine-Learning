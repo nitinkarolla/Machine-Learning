{
 "cells": [
  {
   "cell_type": "markdown",
   "metadata": {},
   "source": [
    "# CS 536 : Decision Trees\n",
    "\n",
    "#### Submitted by Nitin Reddy Karolla (nrk60)"
   ]
  },
  {
   "cell_type": "markdown",
   "metadata": {},
   "source": [
    "### 1) For a given value of k, m, (number of features, number of data points), write a function to generate a training data set based on the above scheme."
   ]
  },
  {
   "cell_type": "code",
   "execution_count": 3,
   "metadata": {},
   "outputs": [],
   "source": [
    "# Importing the required packages for the assignment\n",
    "\n",
    "import numpy as np\n",
    "import math\n",
    "import pandas as pd\n",
    "import seaborn as sns\n",
    "import matplotlib.pyplot as plt\n",
    "from tqdm import tqdm\n",
    "\n",
    "%matplotlib inline"
   ]
  },
  {
   "cell_type": "markdown",
   "metadata": {},
   "source": [
    "Following function generates the data as mentioned in question. Function expect m and k where m is the number of samples and k is the number of features. The data is generated based on the scheme mentioned in the question."
   ]
  },
  {
   "cell_type": "code",
   "execution_count": 4,
   "metadata": {},
   "outputs": [],
   "source": [
    "def data_generator(m,k):\n",
    "    \"\"\"\n",
    "    Following function generates data required for the decision trees.\n",
    "    Scheme : \n",
    "        X1 = 1 with probability 1/2, X1 = 0 with probability 1/2\n",
    "        For i = 2, . . . , k, Xi = Xi−1 with probability 3/4, and \n",
    "        Xi = 1 − Xi−1 with probability 1/4\n",
    "        Y = X1 if w2X2 + w3X3 + . . . + wkXk ≥ 1/2\n",
    "            or 1 − X1 else\n",
    "    Input : \n",
    "        m - Number of samples\n",
    "        k - Number of features\n",
    "    \n",
    "    Output : \n",
    "        Dataframe with k+1 columns i.e. k features that represent X \n",
    "        and 1 the represents Y\n",
    "    \"\"\"\n",
    "    X = [] \n",
    "    for j in range(m):\n",
    "        y = []\n",
    "        a = np.random.binomial(1, p=0.5, size= 1)[0]\n",
    "        y.append(a)\n",
    "        for i in range(k-1):\n",
    "            x = np.random.binomial(1, p=0.75, size= 1)[0]\n",
    "            if x == 1:\n",
    "                y.append(a)\n",
    "            else:\n",
    "                y.append(1-a)\n",
    "                a = 1-a\n",
    "        X.append(y)\n",
    "        \n",
    "    #Generating the Weights\n",
    "    j = 0.9*0.9\n",
    "    s = j * (1 - (0.9 ** (k-1)))/ (1- 0.9)\n",
    "    w = [0]\n",
    "    for i in range(k-1):\n",
    "        w_i = 0.9**(i+2)/ s\n",
    "        w.append(w_i)\n",
    "    \n",
    "    #Generating the Y\n",
    "    Y = []\n",
    "    for i in range(m):\n",
    "        y_i = [a*b for a,b in zip(X[i],w)]\n",
    "        if sum(y_i) >= 0.5:\n",
    "            Y.append(X[i][0])\n",
    "        else:\n",
    "            Y.append(1-X[i][0])\n",
    "    \n",
    "    #Generate column names\n",
    "    colnames = [ 'X'+ str(i)  for i in range(1,k+1)]\n",
    "    \n",
    "    df = pd.DataFrame(data= X, columns= colnames)\n",
    "    df['Y'] = pd.Series(data = Y)\n",
    "    return(df)"
   ]
  },
  {
   "cell_type": "markdown",
   "metadata": {},
   "source": [
    "### 2) Given a data set, write a function to fit a decision tree to that data based on splitting the variables by maximizing the information gain. Additionally, return the training error of this tree on the data set, err_train(ˆf). It may be useful to have a function that takes a data set and a variable, and returns the data set partitioned based on the values of that variable.\n"
   ]
  },
  {
   "cell_type": "markdown",
   "metadata": {},
   "source": [
    "Let us create data structure called Node which will be holding on information like Data, Rule and the Children at that node in a decision tree."
   ]
  },
  {
   "cell_type": "code",
   "execution_count": 5,
   "metadata": {},
   "outputs": [],
   "source": [
    "class Node():\n",
    "    \"\"\"\n",
    "    Node is a data structure which will be used for decision trees.\n",
    "    \n",
    "    Input :\n",
    "        data = training data post split is stored\n",
    "        rule = feature on which the split led to this node and the \n",
    "        value of the feature\n",
    "        child = nodes of children of all this node are present \n",
    "        after the split\n",
    "    \"\"\"\n",
    "    def __init__(self,\n",
    "                 data = None,\n",
    "                 rule = None,\n",
    "                 child = None\n",
    "                ):\n",
    "        self.data = data\n",
    "        self.rule = rule\n",
    "        self.child = child"
   ]
  },
  {
   "cell_type": "code",
   "execution_count": 6,
   "metadata": {},
   "outputs": [],
   "source": [
    "class Decision_Tree_ID3():\n",
    "    \"\"\"\n",
    "    Decision Tree ID3 is trained on data with a target variable. It \n",
    "    is built on split variable which is indentified using the logic \n",
    "    of information gain \n",
    "    \"\"\"\n",
    "    def __init__(self, root = None):\n",
    "        self.root = root\n",
    "        \n",
    "        \n",
    "    def entropy(self, data, variable):\n",
    "        \"\"\"\n",
    "        Calcuates the entropy for the given data and target variable\n",
    "        \"\"\"\n",
    "        entropy_value = sum([(-data[variable].value_counts()[i]/ \n",
    "                              data[variable].count()) * np.log2((\n",
    "            data[variable].value_counts()[i]/ \n",
    "            data[variable].count()) + 0.00000001) \n",
    "                             for i in data[variable].unique()])\n",
    "        return entropy_value\n",
    "    \n",
    "    \n",
    "    def information_gain(self, data, variable, target):\n",
    "        \"\"\"\n",
    "        Calculates the information gain for the given variable and data\n",
    "        \"\"\"\n",
    "        infomation_content = sum([data[variable].value_counts()[i]/\n",
    "                                  data[variable].count()\n",
    "                                  * self.entropy(data[data[variable]== i], \n",
    "                                                 target) \n",
    "                                  for i in data[variable].unique()])\n",
    "        info_gain = self.entropy(data, target) - infomation_content\n",
    "        return(info_gain)\n",
    "    \n",
    "    \n",
    "    def split_variable_identification(self, data, target):\n",
    "        \"\"\"\n",
    "        Identifies the split variable based on data and target\n",
    "        \"\"\"\n",
    "        #loop through all features and calculate information gain for each feature\n",
    "        variable_ig_required = list(data.columns)\n",
    "        variable_ig_required.remove('Y')\n",
    "        ig_values = [(i, self.information_gain(data,i,'Y')) \n",
    "                     for i in variable_ig_required]\n",
    "        if len(ig_values) != 0:\n",
    "            split_variable = max(ig_values, key = lambda item : item[1])\n",
    "        else:\n",
    "            split_variable = (0,0)\n",
    "        return(split_variable)\n",
    "    \n",
    "\n",
    "    def split_data(self, data, split_variable): \n",
    "        \"\"\"\n",
    "        Splits the data after identifying the split variable, assigns \n",
    "        data and rule to the node.\n",
    "        \"\"\"\n",
    "        splitted_data = [Node(data = (data[data[split_variable] == i].\n",
    "                                      drop(split_variable,1)),\n",
    "                              rule = (split_variable,i)) \n",
    "                         for i in data[split_variable].unique()]\n",
    "        return(splitted_data)\n",
    "    \n",
    "    \n",
    "    def fit(self, data, target):\n",
    "        \"\"\"\n",
    "        Fit is used to fit decision trees on the data for a given target variable\n",
    "        \"\"\"\n",
    "        if type(data) != Node:\n",
    "            data = Node(data = data)\n",
    "            self.root = data\n",
    "\n",
    "        if self.split_variable_identification(data.data, target)[1] == 0:\n",
    "            return\n",
    "\n",
    "        split_variable = self.split_variable_identification(data.data, target)[0]\n",
    "        data.child = self.split_data(data.data, split_variable)\n",
    "\n",
    "        for i in data.child:\n",
    "            if i.data['Y'].nunique() != 1: \n",
    "                self.fit(i, target)\n",
    "            \n",
    "    \n",
    "    def get_rules(self, model = None ,ruleList = []):\n",
    "        \"\"\"\n",
    "        Returns the rules for each leaf and the major class in the leaf\n",
    "        \"\"\"\n",
    "        if model == None:\n",
    "            model = self.root\n",
    "        ruleList.append(model.rule)\n",
    "        if model.child == None:\n",
    "            ruleList.append(model.data['Y'].mode()[0])\n",
    "            return print(ruleList[1:])\n",
    "        for i in model.child:\n",
    "            self.get_rules(i,ruleList.copy())\n",
    "    \n",
    "\n",
    "    def predict_row(self, model, row):\n",
    "        \"\"\"\n",
    "        This function returns the prediction for the a single sample of \n",
    "        data using the fitted data\n",
    "        \"\"\"\n",
    "        if model.child == None:\n",
    "            return(model.data['Y'].mode()[0])\n",
    "\n",
    "        variable = model.child[0].rule[0]\n",
    "        row_value = row[variable]\n",
    "        for i in model.child:\n",
    "            if i.rule[1] == row_value:\n",
    "                return self.predict_row(i, row)\n",
    "            \n",
    "    def predict(self, test):\n",
    "        \"\"\"\n",
    "        Predict funtion will take an input data and return the prediction\n",
    "        based on the fitted decision tree\n",
    "        \"\"\"\n",
    "        predicted_y = []\n",
    "        for i in test.iterrows():\n",
    "            x = i[1]\n",
    "            y = self.predict_row(self.root, x)\n",
    "            predicted_y.append(y)\n",
    "        return pd.Series(predicted_y)\n",
    "    \n",
    "    def training_error(self):\n",
    "        \"\"\"\n",
    "        Returns the training error of the  fitted decision tree\n",
    "        \"\"\"\n",
    "        predict_train = self.predict(data)\n",
    "        return (1 -sum(data['Y'] == predict_train)/ len(data))\n",
    "            "
   ]
  },
  {
   "cell_type": "markdown",
   "metadata": {},
   "source": [
    "### 3) For k = 4 and m = 30, generate data and fit a decision tree to it. Does the ordering of the variables in the decision tree make sense, based on the function that defines Y ? Why or why not? Draw the tree."
   ]
  },
  {
   "cell_type": "code",
   "execution_count": 5,
   "metadata": {},
   "outputs": [],
   "source": [
    "#Generating the data for m = 30 , k = 4\n",
    "data = data_generator(m =30, k =4)"
   ]
  },
  {
   "cell_type": "code",
   "execution_count": 6,
   "metadata": {},
   "outputs": [],
   "source": [
    "model = Decision_Tree_ID3()"
   ]
  },
  {
   "cell_type": "code",
   "execution_count": 7,
   "metadata": {},
   "outputs": [],
   "source": [
    "model.fit(data, \"Y\")"
   ]
  },
  {
   "cell_type": "code",
   "execution_count": 8,
   "metadata": {},
   "outputs": [
    {
     "name": "stdout",
     "output_type": "stream",
     "text": [
      "[('X2', 0), ('X4', 1), ('X3', 1), 0]\n",
      "[('X2', 0), ('X4', 1), ('X3', 0), 1]\n",
      "[('X2', 0), ('X4', 0), 1]\n",
      "[('X2', 1), ('X1', 1), ('X3', 1), 1]\n",
      "[('X2', 1), ('X1', 1), ('X3', 0), ('X4', 0), 0]\n",
      "[('X2', 1), ('X1', 1), ('X3', 0), ('X4', 1), 1]\n",
      "[('X2', 1), ('X1', 0), 0]\n"
     ]
    }
   ],
   "source": [
    "model.get_rules()"
   ]
  },
  {
   "cell_type": "markdown",
   "metadata": {},
   "source": [
    "Above is the decision tree, i.e. it gives the 'Y' value which is last element of each array based on the various values of features.\n",
    "For Example , X4 =0, X1 =1, X3 = 1, X2=1 will have \"Y\" value has 1."
   ]
  },
  {
   "cell_type": "code",
   "execution_count": 9,
   "metadata": {},
   "outputs": [
    {
     "data": {
      "text/plain": [
       "0.0"
      ]
     },
     "execution_count": 9,
     "metadata": {},
     "output_type": "execute_result"
    }
   ],
   "source": [
    "model.training_error()"
   ]
  },
  {
   "cell_type": "markdown",
   "metadata": {},
   "source": [
    "As observed in various decision trees, 'X1' feature seems to play a major roles among the ordering in which the split variables is chosen, and it makes sense as X1 plays an important role in determing the value of Y. Also, X1 interaction with other variables plays important role and mostly the initital features as weight being multiplied is higher and increases the chance of sum being > 1/2 which inturn plays a role in determining the Y.\n",
    "\n",
    "Also, we notice that Y is deterministic with respect to the values of X."
   ]
  },
  {
   "cell_type": "markdown",
   "metadata": {},
   "source": [
    "### 4) Write a function that takes a decision tree and estimates its typical error on this data err( ˆf); i.e., generate a lot of data according to the above scheme, and find the average error rate of this tree over that data"
   ]
  },
  {
   "cell_type": "markdown",
   "metadata": {},
   "source": [
    "For the same decision tree built above, lets find the average error rate of this tree."
   ]
  },
  {
   "cell_type": "code",
   "execution_count": 13,
   "metadata": {},
   "outputs": [],
   "source": [
    "def typical_error(model, test_data_size, simulations = 50):\n",
    "    \"\"\"\n",
    "    Generate error for similations for a generated test data and \n",
    "    given decision tree.\n",
    "    \"\"\"\n",
    "    k = model.root.data.shape[1]-1\n",
    "    error = []\n",
    "    for i in range(simulations):\n",
    "        test_data = data_generator(test_data_size, k)\n",
    "        predicted_y = model.predict(test_data)\n",
    "        error_current = 1 -(sum(test_data['Y'] == predicted_y)/ len(test_data))\n",
    "        error.append(error_current)\n",
    "    return error"
   ]
  },
  {
   "cell_type": "code",
   "execution_count": 11,
   "metadata": {},
   "outputs": [],
   "source": [
    "err_f = typical_error(model, test_data_size=30)"
   ]
  },
  {
   "cell_type": "code",
   "execution_count": 12,
   "metadata": {},
   "outputs": [
    {
     "name": "stdout",
     "output_type": "stream",
     "text": [
      "Average typical error of the decision tree is  0.14333333333333328\n"
     ]
    }
   ],
   "source": [
    "print(\"Average typical error of the decision tree is \", sum(err_f)/len(err_f))"
   ]
  },
  {
   "cell_type": "markdown",
   "metadata": {},
   "source": [
    "### 5) For k = 10, estimate the value of |errtrain(ˆf) − err( ˆf)| for a given m by repeatedly generating data sets, fitting trees to those data sets, and estimating the true and training error. Do this for multiple m, and graph this difference as a function of m. What can you say about the marginal value of additional training data?"
   ]
  },
  {
   "cell_type": "code",
   "execution_count": 13,
   "metadata": {},
   "outputs": [],
   "source": [
    "#Let us define the values required to understand the marginal value of additional training data\n",
    "k = 10\n",
    "\n",
    "#Defining the repetitions values for generating m samples of training data\n",
    "start = 50\n",
    "end = 2500\n",
    "step = 25"
   ]
  },
  {
   "cell_type": "code",
   "execution_count": 14,
   "metadata": {},
   "outputs": [
    {
     "name": "stderr",
     "output_type": "stream",
     "text": [
      "100%|██████████████████████████████████████████████████████████████████████████████████| 98/98 [12:13<00:00, 10.12s/it]\n"
     ]
    }
   ],
   "source": [
    "err_abs = []\n",
    "m = []\n",
    "for i in tqdm(range(start,end,step)):\n",
    "    data = data_generator(i, k = 10)\n",
    "    dt = Decision_Tree_ID3()\n",
    "    dt.fit(data, 'Y')\n",
    "    err_f = typical_error(dt, 100)\n",
    "    err_final = sum(err_f)/len(err_f)\n",
    "    err_train = dt.training_error()\n",
    "    m.append(i)\n",
    "    #print( err_final, err_train)\n",
    "    err_abs.append(abs(err_final-err_train))"
   ]
  },
  {
   "cell_type": "code",
   "execution_count": 15,
   "metadata": {},
   "outputs": [
    {
     "data": {
      "text/plain": [
       "Text(0.5,1,'Marginal error vs the training size (m)')"
      ]
     },
     "execution_count": 15,
     "metadata": {},
     "output_type": "execute_result"
    },
    {
     "data": {
      "image/png": "[encoded data removed]",
      "text/plain": [
       "<Figure size 432x288 with 1 Axes>"
      ]
     },
     "metadata": {},
     "output_type": "display_data"
    }
   ],
   "source": [
    "sns.lineplot(m,err_abs)\n",
    "plt.xlabel(\"Training Size (m)\")\n",
    "plt.ylabel(\"Marginal Error\")\n",
    "plt.title(\"Marginal error vs the training size (m)\")"
   ]
  },
  {
   "cell_type": "markdown",
   "metadata": {},
   "source": [
    "As, we can see the adding of additional data to training leads to decrease in the error of decision tree. However, after a point increase in training data does not really lead to greater decrease in marginal error.\n",
    "For a feature = k, there are 2^k possible X and Y events. Once the decision tree is trained on that data, error reduces to almost nil as generating a new test data will be a combination of original train data."
   ]
  },
  {
   "cell_type": "markdown",
   "metadata": {},
   "source": [
    "### 6) Design an alternative metric for splitting the data, not based on information content / information gain. Repeat the computation from (5) above for your metric, and compare the performance of your trees vs the ID3 trees"
   ]
  },
  {
   "cell_type": "markdown",
   "metadata": {},
   "source": [
    "Now I build the same decision tree, but using the gini-impurity as the metric to identify the split variable."
   ]
  },
  {
   "cell_type": "code",
   "execution_count": 1,
   "metadata": {},
   "outputs": [],
   "source": [
    "class Decision_Tree_Gini_Impurity():\n",
    "    \"\"\"\n",
    "    Decision Tree Gini Impurity is trained on data with a target variable. \n",
    "    It is built on split variable which is indentified using the \n",
    "    logic of Gini Impurity.\n",
    "    \"\"\"\n",
    "    def __init__(self, root = None):\n",
    "        self.root = root\n",
    "        \n",
    "        \n",
    "    def gini_index(self, data, variable):\n",
    "        \"\"\"\n",
    "        Calcuates the gini index for the given data and target variable\n",
    "        \"\"\"\n",
    "        # Calculate the entropy of target variable\n",
    "        gini_index = 1 - sum([pow(data[variable].value_counts()[i]/ \n",
    "                                  data[variable].count(),2) \n",
    "                              for i in data[variable].unique()])\n",
    "        return gini_index\n",
    "    \n",
    "    \n",
    "    def gini_gain(self, data, variable, target):\n",
    "        \"\"\"\n",
    "        Calculates the gini impurity for the given variable and data\n",
    "        \"\"\"\n",
    "        gini_index_varaible = sum([data[variable].value_counts()[i]/\n",
    "                                   data[variable].count() * \n",
    "                                   self.gini_index(data[data[variable]== i], \n",
    "                                                   target) for i in \n",
    "                                   data[variable].unique()])\n",
    "        gini_gain_value = gini_index_varaible\n",
    "        return(gini_gain_value)\n",
    "    \n",
    "    \n",
    "    def split_variable_identification(self, data, target):\n",
    "        \"\"\"\n",
    "        Identifies the split variable based on data and target\n",
    "        \"\"\"\n",
    "        #loop through all features and calculate gini gain for each feature\n",
    "        variable_ig_required = list(data.columns)\n",
    "        variable_ig_required.remove('Y')\n",
    "        ig_values = [(i, self.gini_gain(data,i,'Y')) for i in \n",
    "                     variable_ig_required]\n",
    "        if len(ig_values) != 0:\n",
    "            split_variable = min(ig_values, key = lambda item : item[1])\n",
    "        else:\n",
    "            split_variable = (0,0)\n",
    "        return(split_variable)\n",
    "    \n",
    "\n",
    "    def split_data(self, data, split_variable): \n",
    "        \"\"\"\n",
    "        Splits the data after identifying the split variable, assigns \n",
    "        data and rule to the node.\n",
    "        \"\"\"\n",
    "        splitted_data = [Node(data = (data[data[split_variable] == i].\n",
    "                                      drop(split_variable,1)), \n",
    "                              rule = (split_variable,i)) for i in \n",
    "                         data[split_variable].unique()]\n",
    "        return(splitted_data)\n",
    "    \n",
    "    \n",
    "    def fit(self, data, target):\n",
    "        \"\"\"\n",
    "        Fit is used to fit decision trees on the data for a given target variable\n",
    "        \"\"\"\n",
    "        if type(data) != Node:\n",
    "            data = Node(data = data)\n",
    "            self.root = data\n",
    "\n",
    "        #if self.split_variable_identification(data.data, target)[1] == 0:\n",
    "        #    return\n",
    "\n",
    "        split_variable = self.split_variable_identification(data.data,\n",
    "                                                            target)[0]\n",
    "        data.child = self.split_data(data.data, split_variable)\n",
    "\n",
    "        for i in data.child:\n",
    "            if i.data['Y'].nunique() != 1: \n",
    "                self.fit(i, target)\n",
    "            \n",
    "    \n",
    "    def get_rules(self, model = None ,ruleList = []):\n",
    "        \"\"\"\n",
    "        Returns the rules for each leaf and the major class in the leaf\n",
    "        \"\"\"\n",
    "        if model == None:\n",
    "            model = self.root\n",
    "        ruleList.append(model.rule)\n",
    "\n",
    "        if model.child == None:\n",
    "            ruleList.append(model.data['Y'].mode()[0])\n",
    "            return print(ruleList[1:])\n",
    "\n",
    "        for i in model.child:\n",
    "            self.get_rules(i,ruleList.copy())\n",
    "    \n",
    "\n",
    "    def predict_row(self, model, row):\n",
    "        \"\"\"\n",
    "        This function returns the prediction for the a single sample of \n",
    "        data using the fitted data\n",
    "        \"\"\"\n",
    "        if model.child == None:\n",
    "            return(model.data['Y'].mode()[0])\n",
    "\n",
    "        variable = model.child[0].rule[0]\n",
    "        row_value = row[variable]\n",
    "        for i in model.child:\n",
    "            if i.rule[1] == row_value:\n",
    "                return self.predict_row(i, row)\n",
    "            \n",
    "    def predict(self, test):\n",
    "        \"\"\"\n",
    "        Predict funtion will take an input data and return the prediction \n",
    "        based on the fitted decision tree\n",
    "        \"\"\"\n",
    "        predicted_y = []\n",
    "        for i in test.iterrows():\n",
    "            x = i[1]\n",
    "            y = self.predict_row(self.root, x)\n",
    "            predicted_y.append(y)\n",
    "        return pd.Series(predicted_y)\n",
    "    \n",
    "    def training_error(self):\n",
    "        \"\"\"\n",
    "        Returns the training error of the  fitted decision tree\n",
    "        \"\"\"\n",
    "        predict_train = self.predict(data)\n",
    "        return (1 -sum(data['Y'] == predict_train)/ len(data))\n",
    "            "
   ]
  },
  {
   "cell_type": "code",
   "execution_count": 7,
   "metadata": {},
   "outputs": [],
   "source": [
    "data = data_generator(30,4)\n",
    "model = Decision_Tree_Gini_Impurity()"
   ]
  },
  {
   "cell_type": "code",
   "execution_count": 8,
   "metadata": {},
   "outputs": [],
   "source": [
    "model.fit(data,'Y')"
   ]
  },
  {
   "cell_type": "code",
   "execution_count": 9,
   "metadata": {},
   "outputs": [
    {
     "name": "stdout",
     "output_type": "stream",
     "text": [
      "[('X1', 0), ('X3', 0), 1]\n",
      "[('X1', 0), ('X3', 1), ('X4', 1), 0]\n",
      "[('X1', 0), ('X3', 1), ('X4', 0), 1]\n",
      "[('X1', 1), ('X3', 1), 1]\n",
      "[('X1', 1), ('X3', 0), ('X2', 0), 0]\n",
      "[('X1', 1), ('X3', 0), ('X2', 1), ('X4', 0), 0]\n",
      "[('X1', 1), ('X3', 0), ('X2', 1), ('X4', 1), 1]\n"
     ]
    }
   ],
   "source": [
    "model.get_rules()"
   ]
  },
  {
   "cell_type": "code",
   "execution_count": 10,
   "metadata": {},
   "outputs": [
    {
     "data": {
      "text/plain": [
       "0.0"
      ]
     },
     "execution_count": 10,
     "metadata": {},
     "output_type": "execute_result"
    }
   ],
   "source": [
    "model.training_error()"
   ]
  },
  {
   "cell_type": "code",
   "execution_count": 11,
   "metadata": {},
   "outputs": [],
   "source": [
    "#Let us define the values required to understand the marginal value of additional \n",
    "#training data\n",
    "k = 10\n",
    "\n",
    "#Defining the repetitions values for generating m samples of training data\n",
    "start = 50\n",
    "end = 2500\n",
    "step = 25"
   ]
  },
  {
   "cell_type": "code",
   "execution_count": 14,
   "metadata": {},
   "outputs": [
    {
     "name": "stderr",
     "output_type": "stream",
     "text": [
      "100%|██████████████████████████████████████████████████████████████████████████████████| 98/98 [05:34<00:00,  4.24s/it]\n"
     ]
    }
   ],
   "source": [
    "err_abs2 = []\n",
    "m2 = []\n",
    "for i in tqdm(range(start,end,step)):\n",
    "    data = data_generator(i, k = k)\n",
    "    dt = Decision_Tree_Gini_Impurity()\n",
    "    dt.fit(data, 'Y')\n",
    "    err_f = typical_error(dt, 100)\n",
    "    err_final = sum(err_f)/len(err_f)\n",
    "    err_train = dt.training_error()\n",
    "    m2.append(i)\n",
    "    #print( err_final, err_train)\n",
    "    err_abs2.append(abs(err_final-err_train))"
   ]
  },
  {
   "cell_type": "code",
   "execution_count": 15,
   "metadata": {},
   "outputs": [
    {
     "data": {
      "text/plain": [
       "Text(0.5,1,'Marginal error vs the training size (m)')"
      ]
     },
     "execution_count": 15,
     "metadata": {},
     "output_type": "execute_result"
    },
    {
     "data": {
      "image/png": "[encoded data removed]",
      "text/plain": [
       "<Figure size 432x288 with 1 Axes>"
      ]
     },
     "metadata": {},
     "output_type": "display_data"
    }
   ],
   "source": [
    "sns.lineplot(m2,err_abs2)\n",
    "plt.xlabel(\"Training Size (m)\")\n",
    "plt.ylabel(\"Marginal Error\")\n",
    "plt.title(\"Marginal error vs the training size (m)\")"
   ]
  },
  {
   "cell_type": "markdown",
   "metadata": {},
   "source": [
    "We see a similar trend here as compared to the ID3 decision tree. Both of the methods of splitting seems to produce a close marginal error. On increasing the training data size, the marginal error reduces here same as in the case of ID3 decision tree."
   ]
  }
 ],
 "metadata": {
  "kernelspec": {
   "display_name": "Python 3",
   "language": "python",
   "name": "python3"
  },
  "language_info": {
   "codemirror_mode": {
    "name": "ipython",
    "version": 3
   },
   "file_extension": ".py",
   "mimetype": "text/x-python",
   "name": "python",
   "nbconvert_exporter": "python",
   "pygments_lexer": "ipython3",
   "version": "3.6.5"
  }
 },
 "nbformat": 4,
 "nbformat_minor": 2
}
