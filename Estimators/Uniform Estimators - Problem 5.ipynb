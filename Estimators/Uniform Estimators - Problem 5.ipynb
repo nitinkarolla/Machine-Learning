{
 "cells": [
  {
   "cell_type": "markdown",
   "metadata": {},
   "source": [
    "### Problem 5"
   ]
  },
  {
   "cell_type": "markdown",
   "metadata": {},
   "source": [
    "As a first step to the problem, let us try to simulate the data and estimate parameter value L using both Method of moment and Maximum Likelihood estimate."
   ]
  },
  {
   "cell_type": "code",
   "execution_count": 1,
   "metadata": {},
   "outputs": [],
   "source": [
    "#Importing the Library\n",
    "import numpy as np"
   ]
  },
  {
   "cell_type": "code",
   "execution_count": 2,
   "metadata": {},
   "outputs": [],
   "source": [
    "#Assigning values to L = 10 and n = 100\n",
    "L = 10\n",
    "n = 100"
   ]
  },
  {
   "cell_type": "markdown",
   "metadata": {},
   "source": [
    "Now, lets us calcualte Method of moment estimate for uniform distribution is equal to 2 times the mean of the sample. Let us estimate the value of L for 1000 simulations."
   ]
  },
  {
   "cell_type": "code",
   "execution_count": 3,
   "metadata": {},
   "outputs": [],
   "source": [
    "#MOM Estimate for 1000 simulations\n",
    "L_MOM = [2 * np.random.uniform(low = 0, high = L, size = n ).mean() \n",
    "         for i in range(1000)]"
   ]
  },
  {
   "cell_type": "markdown",
   "metadata": {},
   "source": [
    "Similarly, lets us calcualte MLE estimate for uniform distribution i.e is equal to maximum of the sample. Let us estimate the value of L for 1000 simulations."
   ]
  },
  {
   "cell_type": "code",
   "execution_count": 4,
   "metadata": {},
   "outputs": [],
   "source": [
    "#MLE Estimate for 1000 Simulations\n",
    "L_MLE = [max(np.random.uniform(low = 0, high = L, size = n )) \n",
    "         for i in range(1000)]"
   ]
  },
  {
   "cell_type": "markdown",
   "metadata": {},
   "source": [
    "Now lets us calculate the Mean Square error for the estimate which is given by the formula \n",
    "\n",
    "$$ MSE(\\hat L) = E[(\\hat L - L)^2]$$"
   ]
  },
  {
   "cell_type": "code",
   "execution_count": 5,
   "metadata": {},
   "outputs": [
    {
     "data": {
      "text/plain": [
       "0.3213226434629274"
      ]
     },
     "execution_count": 5,
     "metadata": {},
     "output_type": "execute_result"
    }
   ],
   "source": [
    "#Calculating MSE for MOM Estimate\n",
    "MSE_L_MOM = sum([(i - L)**2 for i in L_MOM])/1000\n",
    "MSE_L_MOM"
   ]
  },
  {
   "cell_type": "code",
   "execution_count": 6,
   "metadata": {},
   "outputs": [
    {
     "data": {
      "text/plain": [
       "0.020194909920636585"
      ]
     },
     "execution_count": 6,
     "metadata": {},
     "output_type": "execute_result"
    }
   ],
   "source": [
    "#Calculating MSE for MLE Estimate\n",
    "MSE_L_MLE = sum([(i - L)**2 for i in L_MLE])/1000\n",
    "MSE_L_MLE"
   ]
  },
  {
   "cell_type": "markdown",
   "metadata": {},
   "source": [
    "From the previous questions, we know that theoretical MSE for the MOM Estimate is - \n",
    "\n",
    "\n",
    "\\begin{align*}\n",
    "    MSE_{MOM} &=  bias_{MOM}^2 + var_{MOM} \\\\\n",
    "    &= L^2/3n\n",
    "\\end{align*}\n",
    "\n",
    "Now let us put the value of n and L,"
   ]
  },
  {
   "cell_type": "code",
   "execution_count": 7,
   "metadata": {},
   "outputs": [
    {
     "data": {
      "text/plain": [
       "0.3333333333333333"
      ]
     },
     "execution_count": 7,
     "metadata": {},
     "output_type": "execute_result"
    }
   ],
   "source": [
    "#Calculating Theoretical MSE of MOM\n",
    "MSE_MOM_Th = (L**2)/(3*n)\n",
    "MSE_MOM_Th"
   ]
  },
  {
   "cell_type": "markdown",
   "metadata": {},
   "source": [
    "Similarly, we know that theoretical MSE for the MLE Estimate is given by\n",
    "\n",
    "\\begin{align*}\n",
    "    MSE_{MLE} &=  bias_{MLE}^2 + var_{MLE} \\\\\n",
    "    &= \\dfrac{2L^2}{(n+1)(n+2)}\n",
    "\\end{align*}"
   ]
  },
  {
   "cell_type": "code",
   "execution_count": 8,
   "metadata": {},
   "outputs": [
    {
     "data": {
      "text/plain": [
       "0.01941370607649"
      ]
     },
     "execution_count": 8,
     "metadata": {},
     "output_type": "execute_result"
    }
   ],
   "source": [
    "#Calculating Theoretical MSE of MLE\n",
    "MSE_MLE_Th = (2*(L**2))/((n+1)*(n+2))\n",
    "MSE_MLE_Th"
   ]
  },
  {
   "cell_type": "markdown",
   "metadata": {},
   "source": [
    "#### Conclusions"
   ]
  },
  {
   "cell_type": "markdown",
   "metadata": {},
   "source": [
    "As, we can see the Theoretical MSE are close to calculated MSE as estimated. Also, we can see that MSE of MLE estimate is lower than that of MSE of MOM which is as expected."
   ]
  }
 ],
 "metadata": {
  "kernelspec": {
   "display_name": "Python 3",
   "language": "python",
   "name": "python3"
  },
  "language_info": {
   "codemirror_mode": {
    "name": "ipython",
    "version": 3
   },
   "file_extension": ".py",
   "mimetype": "text/x-python",
   "name": "python",
   "nbconvert_exporter": "python",
   "pygments_lexer": "ipython3",
   "version": "3.6.5"
  }
 },
 "nbformat": 4,
 "nbformat_minor": 2
}
