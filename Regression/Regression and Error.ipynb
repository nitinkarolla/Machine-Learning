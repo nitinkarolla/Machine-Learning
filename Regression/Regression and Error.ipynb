{
 "cells": [
  {
   "cell_type": "markdown",
   "metadata": {},
   "source": [
    "## Regression and Error\n",
    "\n",
    "#### Submitted by Nitin Reddy K"
   ]
  },
  {
   "cell_type": "code",
   "execution_count": 7,
   "metadata": {},
   "outputs": [],
   "source": [
    "import numpy as np\n",
    "import seaborn as sns\n",
    "import math"
   ]
  },
  {
   "cell_type": "code",
   "execution_count": 8,
   "metadata": {},
   "outputs": [],
   "source": [
    "m = 200\n",
    "w = 1\n",
    "b = 5\n",
    "sd = math.sqrt(0.1)"
   ]
  },
  {
   "cell_type": "code",
   "execution_count": 9,
   "metadata": {},
   "outputs": [],
   "source": [
    "x = list(np.random.uniform(low=100,high =102, size=m))"
   ]
  },
  {
   "cell_type": "code",
   "execution_count": 10,
   "metadata": {},
   "outputs": [],
   "source": [
    "y = list(map(lambda i : w*i + b + np.random.normal(0,sd,1), x))"
   ]
  },
  {
   "cell_type": "code",
   "execution_count": 11,
   "metadata": {},
   "outputs": [
    {
     "data": {
      "text/plain": [
       "<matplotlib.axes._subplots.AxesSubplot at 0x1ca120449e8>"
      ]
     },
     "execution_count": 11,
     "metadata": {},
     "output_type": "execute_result"
    },
    {
     "data": {
      "image/png": "[encoded data removed]",
      "text/plain": [
       "<Figure size 432x288 with 1 Axes>"
      ]
     },
     "metadata": {},
     "output_type": "display_data"
    }
   ],
   "source": [
    "sns.scatterplot(x,y)"
   ]
  },
  {
   "cell_type": "code",
   "execution_count": 17,
   "metadata": {},
   "outputs": [],
   "source": [
    "def check_parameters(w,b,m,sd) :\n",
    "    w_org = []\n",
    "    b_org = []\n",
    "    w_dash = []\n",
    "    b_dash = []\n",
    "    for i in range(1000):\n",
    "        x = list(np.random.uniform(low=100,high =102, size=m))\n",
    "        x_dash = list(map(lambda j : j - 101, x))\n",
    "        y_temp = [((w*j) + b) for j in x]\n",
    "        e = list(np.random.normal(0, sd, size = m))\n",
    "        y = [a + b for a, b in zip(y_temp, e)]\n",
    "        w_temp = np.cov(x,y)[0][1]/ np.var(x)\n",
    "        w_org.append(w_temp)\n",
    "        b_org.append(np.mean(y) - (w_temp * np.mean(x)))\n",
    "        w_dash_temp = np.cov(x_dash,y)[0][1]/ np.var(x_dash)\n",
    "        w_dash.append(w_dash_temp)\n",
    "        b_dash.append(np.mean(y) - (w_dash_temp * np.mean(x_dash)))\n",
    "    print(\"The expected value of w is : \", np.mean(w_org))\n",
    "    print(\"The variance of w is : \", np.var(w_org))\n",
    "    print()\n",
    "    print(\"The expected value of b is : \", np.mean(b_org))\n",
    "    print(\"The variance of b is : \", np.var(b_org))\n",
    "    print()\n",
    "    print(\"The expected value of w_dash is : \", np.mean(w_dash))\n",
    "    print(\"The variance of w_dash is : \", np.var(w_dash))\n",
    "    print()\n",
    "    print(\"The expected value of b_dash is : \", np.mean(b_dash))\n",
    "    print(\"The variance of b_dash is : \", np.var(b_dash))"
   ]
  },
  {
   "cell_type": "code",
   "execution_count": 18,
   "metadata": {},
   "outputs": [
    {
     "name": "stdout",
     "output_type": "stream",
     "text": [
      "The expected value of w is :  1.0035367302287947\n",
      "The variance of w is :  0.0014555703102013702\n",
      "\n",
      "The expected value of b is :  4.643040453497059\n",
      "The variance of b is :  14.851229282449953\n",
      "\n",
      "The expected value of w_dash is :  1.0035367302287947\n",
      "The variance of w_dash is :  0.0014555703102013733\n",
      "\n",
      "The expected value of b_dash is :  106.00025020660533\n",
      "The variance of b_dash is :  0.00047436339741031163\n"
     ]
    }
   ],
   "source": [
    "check_parameters(w,b,m,sd)"
   ]
  },
  {
   "cell_type": "markdown",
   "metadata": {},
   "source": [
    "As expected from our analysis, we can see that variance of b for re-centered data is smaller than the original one. These results are inline with our conclusion of problem 4."
   ]
  },
  {
   "cell_type": "markdown",
   "metadata": {},
   "source": [
    "Also from problem 3, the limiting expression for variance are following\n",
    "\n",
    "\\begin{align*}\n",
    "   Var(\\hat{w}) \\approx  \\dfrac{\\sigma^2}{m} \\dfrac{1}{Var(x)} \\\\\n",
    "   Var(\\hat{b}) \\approx  \\dfrac{\\sigma^2}{m} \\dfrac{E[x^2]}{Var(x)} \\\\\n",
    "\\end{align*}"
   ]
  },
  {
   "cell_type": "markdown",
   "metadata": {},
   "source": [
    "Let us know manually calculate the variance for w and b - "
   ]
  },
  {
   "cell_type": "code",
   "execution_count": 27,
   "metadata": {},
   "outputs": [],
   "source": [
    "x = list(np.random.uniform(low=100,high =102, size=m))\n",
    "x_dash = list(map(lambda j : j - 101, x))\n",
    "y_temp = [((w*j) + b) for j in x]\n",
    "e = list(np.random.normal(0, sd, size = m))\n",
    "y = [a + b for a, b in zip(y_temp, e)]"
   ]
  },
  {
   "cell_type": "code",
   "execution_count": 33,
   "metadata": {},
   "outputs": [
    {
     "name": "stdout",
     "output_type": "stream",
     "text": [
      "The limiting variance of w is  0.0015402727974052977\n"
     ]
    }
   ],
   "source": [
    "Var_w = sd**2*(1 / m) * (1 /np.var(x))\n",
    "print(\"The limiting variance of w is \", Var_w)"
   ]
  },
  {
   "cell_type": "code",
   "execution_count": 34,
   "metadata": {},
   "outputs": [
    {
     "name": "stdout",
     "output_type": "stream",
     "text": [
      "The limiting variance of w_dash is  0.001540272797405298\n"
     ]
    }
   ],
   "source": [
    "Var_w_dash = sd**2*(1 / m) * (1 /np.var(x_dash))\n",
    "print(\"The limiting variance of w_dash is \", Var_w_dash)"
   ]
  },
  {
   "cell_type": "code",
   "execution_count": 35,
   "metadata": {},
   "outputs": [
    {
     "name": "stdout",
     "output_type": "stream",
     "text": [
      "The limiting variance of b is  15.739453951978458\n"
     ]
    }
   ],
   "source": [
    "Var_b = sd**2*(1 / m) * np.mean([i**2 for i in x])*(1 /np.var(x))\n",
    "print(\"The limiting variance of b is \", Var_b)"
   ]
  },
  {
   "cell_type": "code",
   "execution_count": 36,
   "metadata": {},
   "outputs": [
    {
     "name": "stdout",
     "output_type": "stream",
     "text": [
      "The limiting variance of b_dash is  0.0005112748689193981\n"
     ]
    }
   ],
   "source": [
    "Var_b_dash = sd**2*(1 / m) * np.mean([i**2 for i in x_dash])*(1 /np.var(x_dash))\n",
    "print(\"The limiting variance of b_dash is \", Var_b_dash)"
   ]
  },
  {
   "cell_type": "markdown",
   "metadata": {},
   "source": [
    "As we can see, these values are almost same as what we got from the simulation."
   ]
  }
 ],
 "metadata": {
  "kernelspec": {
   "display_name": "Python 3",
   "language": "python",
   "name": "python3"
  },
  "language_info": {
   "codemirror_mode": {
    "name": "ipython",
    "version": 3
   },
   "file_extension": ".py",
   "mimetype": "text/x-python",
   "name": "python",
   "nbconvert_exporter": "python",
   "pygments_lexer": "ipython3",
   "version": "3.6.5"
  }
 },
 "nbformat": 4,
 "nbformat_minor": 2
}
